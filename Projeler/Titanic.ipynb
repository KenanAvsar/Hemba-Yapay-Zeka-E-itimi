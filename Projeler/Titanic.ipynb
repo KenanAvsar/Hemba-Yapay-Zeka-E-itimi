{
 "cells": [
  {
   "cell_type": "code",
   "execution_count": 497,
   "id": "e31a93dc-5fb0-4bba-876e-520d9d6562b9",
   "metadata": {},
   "outputs": [],
   "source": [
    "import numpy as np\n",
    "import pandas as pd\n",
    "\n",
    "import matplotlib.pyplot as plt\n",
    "import seaborn as sns\n",
    "sns.set_style(\"whitegrid\")\n",
    "\n",
    "from collections import Counter\n",
    "\n",
    "import warnings\n",
    "warnings.filterwarnings(\"ignore\")\n",
    "\n",
    "from sklearn.model_selection import train_test_split, StratifiedKFold, GridSearchCV\n",
    "from sklearn.linear_model import LogisticRegression\n",
    "from sklearn.svm import SVC\n",
    "from sklearn.ensemble import RandomForestClassifier, VotingClassifier\n",
    "from sklearn.neighbors import KNeighborsClassifier\n",
    "from sklearn.tree import DecisionTreeClassifier\n",
    "from sklearn.metrics import accuracy_score"
   ]
  },
  {
   "cell_type": "code",
   "execution_count": 315,
   "id": "39a4170a-2571-4011-9c32-322dc4fce8dd",
   "metadata": {},
   "outputs": [],
   "source": [
    "df = pd.read_csv(\"titanik.csv\")"
   ]
  },
  {
   "cell_type": "code",
   "execution_count": 316,
   "id": "f64a9027-a64a-42f6-8ef2-30da4b002cfd",
   "metadata": {},
   "outputs": [
    {
     "data": {
      "text/plain": [
       "Index(['PassengerId', 'Survived', 'Pclass', 'Name', 'Gender', 'Age', 'SibSp',\n",
       "       'Parch', 'Ticket', 'Fare', 'Cabin', 'Embarked'],\n",
       "      dtype='object')"
      ]
     },
     "execution_count": 316,
     "metadata": {},
     "output_type": "execute_result"
    }
   ],
   "source": [
    "df.columns"
   ]
  },
  {
   "cell_type": "code",
   "execution_count": 317,
   "id": "95c9f0dd-488b-43ec-a559-ed07f7122d59",
   "metadata": {},
   "outputs": [
    {
     "data": {
      "text/html": [
       "<div>\n",
       "<style scoped>\n",
       "    .dataframe tbody tr th:only-of-type {\n",
       "        vertical-align: middle;\n",
       "    }\n",
       "\n",
       "    .dataframe tbody tr th {\n",
       "        vertical-align: top;\n",
       "    }\n",
       "\n",
       "    .dataframe thead th {\n",
       "        text-align: right;\n",
       "    }\n",
       "</style>\n",
       "<table border=\"1\" class=\"dataframe\">\n",
       "  <thead>\n",
       "    <tr style=\"text-align: right;\">\n",
       "      <th></th>\n",
       "      <th>PassengerId</th>\n",
       "      <th>Survived</th>\n",
       "      <th>Pclass</th>\n",
       "      <th>Name</th>\n",
       "      <th>Gender</th>\n",
       "      <th>Age</th>\n",
       "      <th>SibSp</th>\n",
       "      <th>Parch</th>\n",
       "      <th>Ticket</th>\n",
       "      <th>Fare</th>\n",
       "      <th>Cabin</th>\n",
       "      <th>Embarked</th>\n",
       "    </tr>\n",
       "  </thead>\n",
       "  <tbody>\n",
       "    <tr>\n",
       "      <th>0</th>\n",
       "      <td>1</td>\n",
       "      <td>0</td>\n",
       "      <td>3</td>\n",
       "      <td>Braund, Mr. Owen Harris</td>\n",
       "      <td>male</td>\n",
       "      <td>22.0</td>\n",
       "      <td>1</td>\n",
       "      <td>0</td>\n",
       "      <td>A/5 21171</td>\n",
       "      <td>7.2500</td>\n",
       "      <td>NaN</td>\n",
       "      <td>S</td>\n",
       "    </tr>\n",
       "    <tr>\n",
       "      <th>1</th>\n",
       "      <td>2</td>\n",
       "      <td>1</td>\n",
       "      <td>1</td>\n",
       "      <td>Cumings, Mrs. John Bradley (Florence Briggs Th...</td>\n",
       "      <td>female</td>\n",
       "      <td>38.0</td>\n",
       "      <td>1</td>\n",
       "      <td>0</td>\n",
       "      <td>PC 17599</td>\n",
       "      <td>71.2833</td>\n",
       "      <td>C85</td>\n",
       "      <td>C</td>\n",
       "    </tr>\n",
       "    <tr>\n",
       "      <th>2</th>\n",
       "      <td>3</td>\n",
       "      <td>1</td>\n",
       "      <td>3</td>\n",
       "      <td>Heikkinen, Miss. Laina</td>\n",
       "      <td>female</td>\n",
       "      <td>26.0</td>\n",
       "      <td>0</td>\n",
       "      <td>0</td>\n",
       "      <td>STON/O2. 3101282</td>\n",
       "      <td>7.9250</td>\n",
       "      <td>NaN</td>\n",
       "      <td>S</td>\n",
       "    </tr>\n",
       "    <tr>\n",
       "      <th>3</th>\n",
       "      <td>4</td>\n",
       "      <td>1</td>\n",
       "      <td>1</td>\n",
       "      <td>Futrelle, Mrs. Jacques Heath (Lily May Peel)</td>\n",
       "      <td>female</td>\n",
       "      <td>35.0</td>\n",
       "      <td>1</td>\n",
       "      <td>0</td>\n",
       "      <td>113803</td>\n",
       "      <td>53.1000</td>\n",
       "      <td>C123</td>\n",
       "      <td>S</td>\n",
       "    </tr>\n",
       "    <tr>\n",
       "      <th>4</th>\n",
       "      <td>5</td>\n",
       "      <td>0</td>\n",
       "      <td>3</td>\n",
       "      <td>Allen, Mr. William Henry</td>\n",
       "      <td>male</td>\n",
       "      <td>35.0</td>\n",
       "      <td>0</td>\n",
       "      <td>0</td>\n",
       "      <td>373450</td>\n",
       "      <td>8.0500</td>\n",
       "      <td>NaN</td>\n",
       "      <td>S</td>\n",
       "    </tr>\n",
       "  </tbody>\n",
       "</table>\n",
       "</div>"
      ],
      "text/plain": [
       "   PassengerId  Survived  Pclass  \\\n",
       "0            1         0       3   \n",
       "1            2         1       1   \n",
       "2            3         1       3   \n",
       "3            4         1       1   \n",
       "4            5         0       3   \n",
       "\n",
       "                                                Name  Gender   Age  SibSp  \\\n",
       "0                            Braund, Mr. Owen Harris    male  22.0      1   \n",
       "1  Cumings, Mrs. John Bradley (Florence Briggs Th...  female  38.0      1   \n",
       "2                             Heikkinen, Miss. Laina  female  26.0      0   \n",
       "3       Futrelle, Mrs. Jacques Heath (Lily May Peel)  female  35.0      1   \n",
       "4                           Allen, Mr. William Henry    male  35.0      0   \n",
       "\n",
       "   Parch            Ticket     Fare Cabin Embarked  \n",
       "0      0         A/5 21171   7.2500   NaN        S  \n",
       "1      0          PC 17599  71.2833   C85        C  \n",
       "2      0  STON/O2. 3101282   7.9250   NaN        S  \n",
       "3      0            113803  53.1000  C123        S  \n",
       "4      0            373450   8.0500   NaN        S  "
      ]
     },
     "execution_count": 317,
     "metadata": {},
     "output_type": "execute_result"
    }
   ],
   "source": [
    "df.head()"
   ]
  },
  {
   "cell_type": "code",
   "execution_count": 318,
   "id": "5c4f4a34-20d8-4861-837c-63c2848353a0",
   "metadata": {},
   "outputs": [
    {
     "data": {
      "text/html": [
       "<div>\n",
       "<style scoped>\n",
       "    .dataframe tbody tr th:only-of-type {\n",
       "        vertical-align: middle;\n",
       "    }\n",
       "\n",
       "    .dataframe tbody tr th {\n",
       "        vertical-align: top;\n",
       "    }\n",
       "\n",
       "    .dataframe thead th {\n",
       "        text-align: right;\n",
       "    }\n",
       "</style>\n",
       "<table border=\"1\" class=\"dataframe\">\n",
       "  <thead>\n",
       "    <tr style=\"text-align: right;\">\n",
       "      <th></th>\n",
       "      <th>PassengerId</th>\n",
       "      <th>Survived</th>\n",
       "      <th>Pclass</th>\n",
       "      <th>Age</th>\n",
       "      <th>SibSp</th>\n",
       "      <th>Parch</th>\n",
       "      <th>Fare</th>\n",
       "    </tr>\n",
       "  </thead>\n",
       "  <tbody>\n",
       "    <tr>\n",
       "      <th>count</th>\n",
       "      <td>891.000000</td>\n",
       "      <td>891.000000</td>\n",
       "      <td>891.000000</td>\n",
       "      <td>714.000000</td>\n",
       "      <td>891.000000</td>\n",
       "      <td>891.000000</td>\n",
       "      <td>891.000000</td>\n",
       "    </tr>\n",
       "    <tr>\n",
       "      <th>mean</th>\n",
       "      <td>446.000000</td>\n",
       "      <td>0.383838</td>\n",
       "      <td>2.308642</td>\n",
       "      <td>29.699118</td>\n",
       "      <td>0.523008</td>\n",
       "      <td>0.381594</td>\n",
       "      <td>32.204208</td>\n",
       "    </tr>\n",
       "    <tr>\n",
       "      <th>std</th>\n",
       "      <td>257.353842</td>\n",
       "      <td>0.486592</td>\n",
       "      <td>0.836071</td>\n",
       "      <td>14.526497</td>\n",
       "      <td>1.102743</td>\n",
       "      <td>0.806057</td>\n",
       "      <td>49.693429</td>\n",
       "    </tr>\n",
       "    <tr>\n",
       "      <th>min</th>\n",
       "      <td>1.000000</td>\n",
       "      <td>0.000000</td>\n",
       "      <td>1.000000</td>\n",
       "      <td>0.420000</td>\n",
       "      <td>0.000000</td>\n",
       "      <td>0.000000</td>\n",
       "      <td>0.000000</td>\n",
       "    </tr>\n",
       "    <tr>\n",
       "      <th>25%</th>\n",
       "      <td>223.500000</td>\n",
       "      <td>0.000000</td>\n",
       "      <td>2.000000</td>\n",
       "      <td>20.125000</td>\n",
       "      <td>0.000000</td>\n",
       "      <td>0.000000</td>\n",
       "      <td>7.910400</td>\n",
       "    </tr>\n",
       "    <tr>\n",
       "      <th>50%</th>\n",
       "      <td>446.000000</td>\n",
       "      <td>0.000000</td>\n",
       "      <td>3.000000</td>\n",
       "      <td>28.000000</td>\n",
       "      <td>0.000000</td>\n",
       "      <td>0.000000</td>\n",
       "      <td>14.454200</td>\n",
       "    </tr>\n",
       "    <tr>\n",
       "      <th>75%</th>\n",
       "      <td>668.500000</td>\n",
       "      <td>1.000000</td>\n",
       "      <td>3.000000</td>\n",
       "      <td>38.000000</td>\n",
       "      <td>1.000000</td>\n",
       "      <td>0.000000</td>\n",
       "      <td>31.000000</td>\n",
       "    </tr>\n",
       "    <tr>\n",
       "      <th>max</th>\n",
       "      <td>891.000000</td>\n",
       "      <td>1.000000</td>\n",
       "      <td>3.000000</td>\n",
       "      <td>80.000000</td>\n",
       "      <td>8.000000</td>\n",
       "      <td>6.000000</td>\n",
       "      <td>512.329200</td>\n",
       "    </tr>\n",
       "  </tbody>\n",
       "</table>\n",
       "</div>"
      ],
      "text/plain": [
       "       PassengerId    Survived      Pclass         Age       SibSp  \\\n",
       "count   891.000000  891.000000  891.000000  714.000000  891.000000   \n",
       "mean    446.000000    0.383838    2.308642   29.699118    0.523008   \n",
       "std     257.353842    0.486592    0.836071   14.526497    1.102743   \n",
       "min       1.000000    0.000000    1.000000    0.420000    0.000000   \n",
       "25%     223.500000    0.000000    2.000000   20.125000    0.000000   \n",
       "50%     446.000000    0.000000    3.000000   28.000000    0.000000   \n",
       "75%     668.500000    1.000000    3.000000   38.000000    1.000000   \n",
       "max     891.000000    1.000000    3.000000   80.000000    8.000000   \n",
       "\n",
       "            Parch        Fare  \n",
       "count  891.000000  891.000000  \n",
       "mean     0.381594   32.204208  \n",
       "std      0.806057   49.693429  \n",
       "min      0.000000    0.000000  \n",
       "25%      0.000000    7.910400  \n",
       "50%      0.000000   14.454200  \n",
       "75%      0.000000   31.000000  \n",
       "max      6.000000  512.329200  "
      ]
     },
     "execution_count": 318,
     "metadata": {},
     "output_type": "execute_result"
    }
   ],
   "source": [
    "df.describe()"
   ]
  },
  {
   "cell_type": "markdown",
   "id": "deeb20e2-ca27-4d3d-b37c-6fed2a1d4e00",
   "metadata": {},
   "source": [
    "### Değişkenlerin Tanımları\n",
    "\n",
    "1. PassengerId: Her bir yolcunun eşsiz numarası\n",
    "2. Survived: Yolcunun hayatta kalması (1) veya hayatta kalmaması (0)\n",
    "3. Pclass: Yolcunun yolculuk ettiği sınıf\n",
    "4.  Name: Yolcunun ismi\n",
    "5. Gender: Yolcunun cinsiyeti\n",
    "6. Age: Yolcunun yaşı\n",
    "7. SibSp: Yolcunun kardeş ve eş sayısı\n",
    "8. Parch: Yolcunun ebeveyn ve çocuk sayısı\n",
    "9. Ticket: Bilet numarası\n",
    "10. Fare: Bilet ücreti\n",
    "11. Cabin: Kabin kategorisi\n",
    "12. Embarked: Yolcunun gemiye hangi limanda bindiği (C = Cherbourg, Q = Queenstown, S = Southampton)"
   ]
  },
  {
   "cell_type": "code",
   "execution_count": 319,
   "id": "365c2f6f-e84e-4da7-879d-6bd410732d15",
   "metadata": {},
   "outputs": [
    {
     "name": "stdout",
     "output_type": "stream",
     "text": [
      "<class 'pandas.core.frame.DataFrame'>\n",
      "RangeIndex: 891 entries, 0 to 890\n",
      "Data columns (total 12 columns):\n",
      " #   Column       Non-Null Count  Dtype  \n",
      "---  ------       --------------  -----  \n",
      " 0   PassengerId  891 non-null    int64  \n",
      " 1   Survived     891 non-null    int64  \n",
      " 2   Pclass       891 non-null    int64  \n",
      " 3   Name         891 non-null    object \n",
      " 4   Gender       891 non-null    object \n",
      " 5   Age          714 non-null    float64\n",
      " 6   SibSp        891 non-null    int64  \n",
      " 7   Parch        891 non-null    int64  \n",
      " 8   Ticket       891 non-null    object \n",
      " 9   Fare         891 non-null    float64\n",
      " 10  Cabin        204 non-null    object \n",
      " 11  Embarked     889 non-null    object \n",
      "dtypes: float64(2), int64(5), object(5)\n",
      "memory usage: 83.7+ KB\n"
     ]
    }
   ],
   "source": [
    "df.info()"
   ]
  },
  {
   "cell_type": "markdown",
   "id": "47c0631b-7bd8-45d8-8267-f9df0f794c00",
   "metadata": {},
   "source": [
    "* float64(2 adet): Bilet ücreti ve yas\n",
    "* int64(5 adet): Yolcunun yolculuk ettiği sınıf, kardeş ve eş sayısı, ebeveyn ve çocuk sayısı , her bir yolcunun eşsiz numarası ve yolcunun hayatta kalması ve ya hayatta kalmaması\n",
    "* object(5 adet): Kabin kategorisi, yolcunun gemiye hangi limanda bindiği, bilet numarası, isim ve cinsiyet\n",
    "* Şimdi burada bulunan değişken isimlerini değiştirerek Türkçe isimler verelim."
   ]
  },
  {
   "cell_type": "code",
   "execution_count": 320,
   "id": "9048ecb7-4eb8-421a-87e0-c71c89f2c4f2",
   "metadata": {},
   "outputs": [
    {
     "data": {
      "text/html": [
       "<div>\n",
       "<style scoped>\n",
       "    .dataframe tbody tr th:only-of-type {\n",
       "        vertical-align: middle;\n",
       "    }\n",
       "\n",
       "    .dataframe tbody tr th {\n",
       "        vertical-align: top;\n",
       "    }\n",
       "\n",
       "    .dataframe thead th {\n",
       "        text-align: right;\n",
       "    }\n",
       "</style>\n",
       "<table border=\"1\" class=\"dataframe\">\n",
       "  <thead>\n",
       "    <tr style=\"text-align: right;\">\n",
       "      <th></th>\n",
       "      <th>ID</th>\n",
       "      <th>Hayatta_Kalma</th>\n",
       "      <th>Sinif</th>\n",
       "      <th>Isim</th>\n",
       "      <th>Cinsiyet</th>\n",
       "      <th>Yas</th>\n",
       "      <th>Kardes_Es</th>\n",
       "      <th>Ebeveyn_Cocuk</th>\n",
       "      <th>Bilet</th>\n",
       "      <th>Ucret</th>\n",
       "      <th>Kabin</th>\n",
       "      <th>Liman</th>\n",
       "    </tr>\n",
       "  </thead>\n",
       "  <tbody>\n",
       "    <tr>\n",
       "      <th>0</th>\n",
       "      <td>1</td>\n",
       "      <td>0</td>\n",
       "      <td>3</td>\n",
       "      <td>Braund, Mr. Owen Harris</td>\n",
       "      <td>male</td>\n",
       "      <td>22.0</td>\n",
       "      <td>1</td>\n",
       "      <td>0</td>\n",
       "      <td>A/5 21171</td>\n",
       "      <td>7.2500</td>\n",
       "      <td>NaN</td>\n",
       "      <td>S</td>\n",
       "    </tr>\n",
       "    <tr>\n",
       "      <th>1</th>\n",
       "      <td>2</td>\n",
       "      <td>1</td>\n",
       "      <td>1</td>\n",
       "      <td>Cumings, Mrs. John Bradley (Florence Briggs Th...</td>\n",
       "      <td>female</td>\n",
       "      <td>38.0</td>\n",
       "      <td>1</td>\n",
       "      <td>0</td>\n",
       "      <td>PC 17599</td>\n",
       "      <td>71.2833</td>\n",
       "      <td>C85</td>\n",
       "      <td>C</td>\n",
       "    </tr>\n",
       "  </tbody>\n",
       "</table>\n",
       "</div>"
      ],
      "text/plain": [
       "   ID  Hayatta_Kalma  Sinif  \\\n",
       "0   1              0      3   \n",
       "1   2              1      1   \n",
       "\n",
       "                                                Isim Cinsiyet   Yas  \\\n",
       "0                            Braund, Mr. Owen Harris     male  22.0   \n",
       "1  Cumings, Mrs. John Bradley (Florence Briggs Th...   female  38.0   \n",
       "\n",
       "   Kardes_Es  Ebeveyn_Cocuk      Bilet    Ucret Kabin Liman  \n",
       "0          1              0  A/5 21171   7.2500   NaN     S  \n",
       "1          1              0   PC 17599  71.2833   C85     C  "
      ]
     },
     "execution_count": 320,
     "metadata": {},
     "output_type": "execute_result"
    }
   ],
   "source": [
    "df.rename(columns = {\"PassengerId\" : \"ID\",\n",
    "                     \"Survived\" : \"Hayatta_Kalma\",\n",
    "                     \"Pclass\" : \"Sinif\",\n",
    "                     \"Name\" : \"Isim\",\n",
    "                     \"Gender\" : \"Cinsiyet\",\n",
    "                     \"Age\" : \"Yas\",\n",
    "                     \"SibSp\" : \"Kardes_Es\",\n",
    "                     \"Parch\" : \"Ebeveyn_Cocuk\",\n",
    "                     \"Ticket\" : \"Bilet\",\n",
    "                     \"Fare\" : \"Ucret\",\n",
    "                     \"Cabin\" : \"Kabin\",\n",
    "                     \"Embarked\" : \"Liman\"}, inplace = True)\n",
    "\n",
    "df.head(2)"
   ]
  },
  {
   "cell_type": "markdown",
   "id": "26eac7f4-9bfe-4995-b6ec-11b7bdf22b0a",
   "metadata": {},
   "source": [
    "### Tek Değişken Analizi\n",
    "* Kategorik Değişken: hayatta_kalma, cinsiyet, sinif, liman, kabin, isim, bilet, kardes_es ve ebeveyn_cocuk\n",
    "* Sayısal Değişken: ucret, yas ve id"
   ]
  },
  {
   "cell_type": "markdown",
   "id": "96d6ccc6-8e8f-41f7-a3c3-640f4960667d",
   "metadata": {},
   "source": [
    "### Kategorik Değişken"
   ]
  },
  {
   "cell_type": "code",
   "execution_count": 321,
   "id": "06e83044-6d4b-4561-b73d-4ba46a8f9dfe",
   "metadata": {},
   "outputs": [],
   "source": [
    "def CubukGrafigi(degisken):\n",
    "    ozellik = df[degisken]\n",
    "    ozellik_degeri = ozellik.value_counts()\n",
    "\n",
    "    plt.figure(figsize = (9,3))\n",
    "    plt.bar(ozellik_degeri.index, ozellik_degeri)\n",
    "    plt.xticks(ozellik_degeri.index, ozellik_degeri.index.values)\n",
    "    plt.ylabel(\"Frekans\")\n",
    "    plt.title(degisken)\n",
    "    plt.show()\n",
    "    print(f\"{degisken}: \\n {ozellik_degeri}\")"
   ]
  },
  {
   "cell_type": "code",
   "execution_count": 523,
   "id": "e31a7e41-f103-4b62-bf86-91b357d07f22",
   "metadata": {},
   "outputs": [
    {
     "data": {
      "image/png": "[encoded data removed]",
      "text/plain": [
       "<Figure size 900x300 with 1 Axes>"
      ]
     },
     "metadata": {},
     "output_type": "display_data"
    },
    {
     "name": "stdout",
     "output_type": "stream",
     "text": [
      "Hayatta_Kalma: \n",
      " Hayatta_Kalma\n",
      "0    549\n",
      "1    342\n",
      "Name: count, dtype: int64\n"
     ]
    },
    {
     "ename": "KeyError",
     "evalue": "'Cinsiyet'",
     "output_type": "error",
     "traceback": [
      "\u001b[1;31m---------------------------------------------------------------------------\u001b[0m",
      "\u001b[1;31mKeyError\u001b[0m                                  Traceback (most recent call last)",
      "File \u001b[1;32mD:\\anaconda3\\Lib\\site-packages\\pandas\\core\\indexes\\base.py:3805\u001b[0m, in \u001b[0;36mIndex.get_loc\u001b[1;34m(self, key)\u001b[0m\n\u001b[0;32m   3804\u001b[0m \u001b[38;5;28;01mtry\u001b[39;00m:\n\u001b[1;32m-> 3805\u001b[0m     \u001b[38;5;28;01mreturn\u001b[39;00m \u001b[38;5;28mself\u001b[39m\u001b[38;5;241m.\u001b[39m_engine\u001b[38;5;241m.\u001b[39mget_loc(casted_key)\n\u001b[0;32m   3806\u001b[0m \u001b[38;5;28;01mexcept\u001b[39;00m \u001b[38;5;167;01mKeyError\u001b[39;00m \u001b[38;5;28;01mas\u001b[39;00m err:\n",
      "File \u001b[1;32mindex.pyx:167\u001b[0m, in \u001b[0;36mpandas._libs.index.IndexEngine.get_loc\u001b[1;34m()\u001b[0m\n",
      "File \u001b[1;32mindex.pyx:196\u001b[0m, in \u001b[0;36mpandas._libs.index.IndexEngine.get_loc\u001b[1;34m()\u001b[0m\n",
      "File \u001b[1;32mpandas\\\\_libs\\\\hashtable_class_helper.pxi:7081\u001b[0m, in \u001b[0;36mpandas._libs.hashtable.PyObjectHashTable.get_item\u001b[1;34m()\u001b[0m\n",
      "File \u001b[1;32mpandas\\\\_libs\\\\hashtable_class_helper.pxi:7089\u001b[0m, in \u001b[0;36mpandas._libs.hashtable.PyObjectHashTable.get_item\u001b[1;34m()\u001b[0m\n",
      "\u001b[1;31mKeyError\u001b[0m: 'Cinsiyet'",
      "\nThe above exception was the direct cause of the following exception:\n",
      "\u001b[1;31mKeyError\u001b[0m                                  Traceback (most recent call last)",
      "Cell \u001b[1;32mIn[523], line 5\u001b[0m\n\u001b[0;32m      3\u001b[0m kategori1 \u001b[38;5;241m=\u001b[39m [\u001b[38;5;124m\"\u001b[39m\u001b[38;5;124mHayatta_Kalma\u001b[39m\u001b[38;5;124m\"\u001b[39m, \u001b[38;5;124m\"\u001b[39m\u001b[38;5;124mCinsiyet\u001b[39m\u001b[38;5;124m\"\u001b[39m, \u001b[38;5;124m\"\u001b[39m\u001b[38;5;124mSinif\u001b[39m\u001b[38;5;124m\"\u001b[39m, \u001b[38;5;124m\"\u001b[39m\u001b[38;5;124mLiman\u001b[39m\u001b[38;5;124m\"\u001b[39m, \u001b[38;5;124m\"\u001b[39m\u001b[38;5;124mKardes_Es\u001b[39m\u001b[38;5;124m\"\u001b[39m, \u001b[38;5;124m\"\u001b[39m\u001b[38;5;124mEbeveyn_Cocuk\u001b[39m\u001b[38;5;124m\"\u001b[39m]\n\u001b[0;32m      4\u001b[0m \u001b[38;5;28;01mfor\u001b[39;00m c \u001b[38;5;129;01min\u001b[39;00m kategori1:\n\u001b[1;32m----> 5\u001b[0m     CubukGrafigi(c)\n",
      "Cell \u001b[1;32mIn[321], line 2\u001b[0m, in \u001b[0;36mCubukGrafigi\u001b[1;34m(degisken)\u001b[0m\n\u001b[0;32m      1\u001b[0m \u001b[38;5;28;01mdef\u001b[39;00m \u001b[38;5;21mCubukGrafigi\u001b[39m(degisken):\n\u001b[1;32m----> 2\u001b[0m     ozellik \u001b[38;5;241m=\u001b[39m df[degisken]\n\u001b[0;32m      3\u001b[0m     ozellik_degeri \u001b[38;5;241m=\u001b[39m ozellik\u001b[38;5;241m.\u001b[39mvalue_counts()\n\u001b[0;32m      5\u001b[0m     plt\u001b[38;5;241m.\u001b[39mfigure(figsize \u001b[38;5;241m=\u001b[39m (\u001b[38;5;241m9\u001b[39m,\u001b[38;5;241m3\u001b[39m))\n",
      "File \u001b[1;32mD:\\anaconda3\\Lib\\site-packages\\pandas\\core\\frame.py:4102\u001b[0m, in \u001b[0;36mDataFrame.__getitem__\u001b[1;34m(self, key)\u001b[0m\n\u001b[0;32m   4100\u001b[0m \u001b[38;5;28;01mif\u001b[39;00m \u001b[38;5;28mself\u001b[39m\u001b[38;5;241m.\u001b[39mcolumns\u001b[38;5;241m.\u001b[39mnlevels \u001b[38;5;241m>\u001b[39m \u001b[38;5;241m1\u001b[39m:\n\u001b[0;32m   4101\u001b[0m     \u001b[38;5;28;01mreturn\u001b[39;00m \u001b[38;5;28mself\u001b[39m\u001b[38;5;241m.\u001b[39m_getitem_multilevel(key)\n\u001b[1;32m-> 4102\u001b[0m indexer \u001b[38;5;241m=\u001b[39m \u001b[38;5;28mself\u001b[39m\u001b[38;5;241m.\u001b[39mcolumns\u001b[38;5;241m.\u001b[39mget_loc(key)\n\u001b[0;32m   4103\u001b[0m \u001b[38;5;28;01mif\u001b[39;00m is_integer(indexer):\n\u001b[0;32m   4104\u001b[0m     indexer \u001b[38;5;241m=\u001b[39m [indexer]\n",
      "File \u001b[1;32mD:\\anaconda3\\Lib\\site-packages\\pandas\\core\\indexes\\base.py:3812\u001b[0m, in \u001b[0;36mIndex.get_loc\u001b[1;34m(self, key)\u001b[0m\n\u001b[0;32m   3807\u001b[0m     \u001b[38;5;28;01mif\u001b[39;00m \u001b[38;5;28misinstance\u001b[39m(casted_key, \u001b[38;5;28mslice\u001b[39m) \u001b[38;5;129;01mor\u001b[39;00m (\n\u001b[0;32m   3808\u001b[0m         \u001b[38;5;28misinstance\u001b[39m(casted_key, abc\u001b[38;5;241m.\u001b[39mIterable)\n\u001b[0;32m   3809\u001b[0m         \u001b[38;5;129;01mand\u001b[39;00m \u001b[38;5;28many\u001b[39m(\u001b[38;5;28misinstance\u001b[39m(x, \u001b[38;5;28mslice\u001b[39m) \u001b[38;5;28;01mfor\u001b[39;00m x \u001b[38;5;129;01min\u001b[39;00m casted_key)\n\u001b[0;32m   3810\u001b[0m     ):\n\u001b[0;32m   3811\u001b[0m         \u001b[38;5;28;01mraise\u001b[39;00m InvalidIndexError(key)\n\u001b[1;32m-> 3812\u001b[0m     \u001b[38;5;28;01mraise\u001b[39;00m \u001b[38;5;167;01mKeyError\u001b[39;00m(key) \u001b[38;5;28;01mfrom\u001b[39;00m \u001b[38;5;21;01merr\u001b[39;00m\n\u001b[0;32m   3813\u001b[0m \u001b[38;5;28;01mexcept\u001b[39;00m \u001b[38;5;167;01mTypeError\u001b[39;00m:\n\u001b[0;32m   3814\u001b[0m     \u001b[38;5;66;03m# If we have a listlike key, _check_indexing_error will raise\u001b[39;00m\n\u001b[0;32m   3815\u001b[0m     \u001b[38;5;66;03m#  InvalidIndexError. Otherwise we fall through and re-raise\u001b[39;00m\n\u001b[0;32m   3816\u001b[0m     \u001b[38;5;66;03m#  the TypeError.\u001b[39;00m\n\u001b[0;32m   3817\u001b[0m     \u001b[38;5;28mself\u001b[39m\u001b[38;5;241m.\u001b[39m_check_indexing_error(key)\n",
      "\u001b[1;31mKeyError\u001b[0m: 'Cinsiyet'"
     ]
    }
   ],
   "source": [
    "# fonksiyonumuzu birkaç farklı kategorik değişken için çağıralım\n",
    "# sonuçları yorumlayalım\n",
    "kategori1 = [\"Hayatta_Kalma\", \"Cinsiyet\", \"Sinif\", \"Liman\", \"Kardes_Es\", \"Ebeveyn_Cocuk\"]\n",
    "for c in kategori1:\n",
    "    CubukGrafigi(c)"
   ]
  },
  {
   "cell_type": "code",
   "execution_count": 323,
   "id": "d2ed74c9-b656-4515-accf-bb0b94f0441c",
   "metadata": {},
   "outputs": [
    {
     "name": "stdout",
     "output_type": "stream",
     "text": [
      "Kabin\n",
      "B96 B98        4\n",
      "G6             4\n",
      "C23 C25 C27    4\n",
      "C22 C26        3\n",
      "F33            3\n",
      "              ..\n",
      "E34            1\n",
      "C7             1\n",
      "C54            1\n",
      "E36            1\n",
      "C148           1\n",
      "Name: count, Length: 147, dtype: int64 \n",
      "\n",
      "Isim\n",
      "Braund, Mr. Owen Harris                     1\n",
      "Boulos, Mr. Hanna                           1\n",
      "Frolicher-Stehli, Mr. Maxmillian            1\n",
      "Gilinski, Mr. Eliezer                       1\n",
      "Murdlin, Mr. Joseph                         1\n",
      "                                           ..\n",
      "Kelly, Miss. Anna Katherine \"Annie Kate\"    1\n",
      "McCoy, Mr. Bernard                          1\n",
      "Johnson, Mr. William Cahoone Jr             1\n",
      "Keane, Miss. Nora A                         1\n",
      "Dooley, Mr. Patrick                         1\n",
      "Name: count, Length: 891, dtype: int64 \n",
      "\n",
      "Liman\n",
      "S    644\n",
      "C    168\n",
      "Q     77\n",
      "Name: count, dtype: int64 \n",
      "\n"
     ]
    }
   ],
   "source": [
    "kategori2 = [\"Kabin\", \"Isim\", \"Liman\"]\n",
    "for c in kategori2:\n",
    "    print(f\"{df[c].value_counts()} \\n\")"
   ]
  },
  {
   "cell_type": "markdown",
   "id": "5e24284b-8192-42b2-ad4b-a25e72f187e6",
   "metadata": {},
   "source": [
    "### Sayısal Değişken"
   ]
  },
  {
   "cell_type": "code",
   "execution_count": 526,
   "id": "7aa314ec-23ea-47a7-87a9-4c7f58cb2c98",
   "metadata": {},
   "outputs": [],
   "source": [
    "# sayısal değişkenlere ilişkin histogram çizdirme fonksiyonu\n",
    "def  histogramGrafik(degisken):\n",
    "    plt.figure(figsize = (9,3))\n",
    "    plt.hist(df[degisken],bins=50)\n",
    "    plt.xlabel(degisken)\n",
    "    plt.ylabel(\"Frekans\")\n",
    "    plt.title(f\"{degisken} Histogramı\")\n",
    "    plt.show()    "
   ]
  },
  {
   "cell_type": "code",
   "execution_count": 528,
   "id": "121dc5e8-d4c6-47c1-a2e5-a8aebd3fa443",
   "metadata": {},
   "outputs": [
    {
     "data": {
      "image/png": "[encoded data removed]",
      "text/plain": [
       "<Figure size 900x300 with 1 Axes>"
      ]
     },
     "metadata": {},
     "output_type": "display_data"
    },
    {
     "data": {
      "image/png": "[encoded data removed]",
      "text/plain": [
       "<Figure size 900x300 with 1 Axes>"
      ]
     },
     "metadata": {},
     "output_type": "display_data"
    },
    {
     "ename": "KeyError",
     "evalue": "'ID'",
     "output_type": "error",
     "traceback": [
      "\u001b[1;31m---------------------------------------------------------------------------\u001b[0m",
      "\u001b[1;31mKeyError\u001b[0m                                  Traceback (most recent call last)",
      "File \u001b[1;32mD:\\anaconda3\\Lib\\site-packages\\pandas\\core\\indexes\\base.py:3805\u001b[0m, in \u001b[0;36mIndex.get_loc\u001b[1;34m(self, key)\u001b[0m\n\u001b[0;32m   3804\u001b[0m \u001b[38;5;28;01mtry\u001b[39;00m:\n\u001b[1;32m-> 3805\u001b[0m     \u001b[38;5;28;01mreturn\u001b[39;00m \u001b[38;5;28mself\u001b[39m\u001b[38;5;241m.\u001b[39m_engine\u001b[38;5;241m.\u001b[39mget_loc(casted_key)\n\u001b[0;32m   3806\u001b[0m \u001b[38;5;28;01mexcept\u001b[39;00m \u001b[38;5;167;01mKeyError\u001b[39;00m \u001b[38;5;28;01mas\u001b[39;00m err:\n",
      "File \u001b[1;32mindex.pyx:167\u001b[0m, in \u001b[0;36mpandas._libs.index.IndexEngine.get_loc\u001b[1;34m()\u001b[0m\n",
      "File \u001b[1;32mindex.pyx:196\u001b[0m, in \u001b[0;36mpandas._libs.index.IndexEngine.get_loc\u001b[1;34m()\u001b[0m\n",
      "File \u001b[1;32mpandas\\\\_libs\\\\hashtable_class_helper.pxi:7081\u001b[0m, in \u001b[0;36mpandas._libs.hashtable.PyObjectHashTable.get_item\u001b[1;34m()\u001b[0m\n",
      "File \u001b[1;32mpandas\\\\_libs\\\\hashtable_class_helper.pxi:7089\u001b[0m, in \u001b[0;36mpandas._libs.hashtable.PyObjectHashTable.get_item\u001b[1;34m()\u001b[0m\n",
      "\u001b[1;31mKeyError\u001b[0m: 'ID'",
      "\nThe above exception was the direct cause of the following exception:\n",
      "\u001b[1;31mKeyError\u001b[0m                                  Traceback (most recent call last)",
      "Cell \u001b[1;32mIn[528], line 4\u001b[0m\n\u001b[0;32m      2\u001b[0m sayisal_degiskenler \u001b[38;5;241m=\u001b[39m [\u001b[38;5;124m\"\u001b[39m\u001b[38;5;124mUcret\u001b[39m\u001b[38;5;124m\"\u001b[39m, \u001b[38;5;124m\"\u001b[39m\u001b[38;5;124mYas\u001b[39m\u001b[38;5;124m\"\u001b[39m, \u001b[38;5;124m\"\u001b[39m\u001b[38;5;124mID\u001b[39m\u001b[38;5;124m\"\u001b[39m]\n\u001b[0;32m      3\u001b[0m \u001b[38;5;28;01mfor\u001b[39;00m i \u001b[38;5;129;01min\u001b[39;00m sayisal_degiskenler:\n\u001b[1;32m----> 4\u001b[0m     histogramGrafik(i)\n",
      "Cell \u001b[1;32mIn[526], line 4\u001b[0m, in \u001b[0;36mhistogramGrafik\u001b[1;34m(degisken)\u001b[0m\n\u001b[0;32m      2\u001b[0m \u001b[38;5;28;01mdef\u001b[39;00m  \u001b[38;5;21mhistogramGrafik\u001b[39m(degisken):\n\u001b[0;32m      3\u001b[0m     plt\u001b[38;5;241m.\u001b[39mfigure(figsize \u001b[38;5;241m=\u001b[39m (\u001b[38;5;241m9\u001b[39m,\u001b[38;5;241m3\u001b[39m))\n\u001b[1;32m----> 4\u001b[0m     plt\u001b[38;5;241m.\u001b[39mhist(df[degisken],bins\u001b[38;5;241m=\u001b[39m\u001b[38;5;241m50\u001b[39m)\n\u001b[0;32m      5\u001b[0m     plt\u001b[38;5;241m.\u001b[39mxlabel(degisken)\n\u001b[0;32m      6\u001b[0m     plt\u001b[38;5;241m.\u001b[39mylabel(\u001b[38;5;124m\"\u001b[39m\u001b[38;5;124mFrekans\u001b[39m\u001b[38;5;124m\"\u001b[39m)\n",
      "File \u001b[1;32mD:\\anaconda3\\Lib\\site-packages\\pandas\\core\\frame.py:4102\u001b[0m, in \u001b[0;36mDataFrame.__getitem__\u001b[1;34m(self, key)\u001b[0m\n\u001b[0;32m   4100\u001b[0m \u001b[38;5;28;01mif\u001b[39;00m \u001b[38;5;28mself\u001b[39m\u001b[38;5;241m.\u001b[39mcolumns\u001b[38;5;241m.\u001b[39mnlevels \u001b[38;5;241m>\u001b[39m \u001b[38;5;241m1\u001b[39m:\n\u001b[0;32m   4101\u001b[0m     \u001b[38;5;28;01mreturn\u001b[39;00m \u001b[38;5;28mself\u001b[39m\u001b[38;5;241m.\u001b[39m_getitem_multilevel(key)\n\u001b[1;32m-> 4102\u001b[0m indexer \u001b[38;5;241m=\u001b[39m \u001b[38;5;28mself\u001b[39m\u001b[38;5;241m.\u001b[39mcolumns\u001b[38;5;241m.\u001b[39mget_loc(key)\n\u001b[0;32m   4103\u001b[0m \u001b[38;5;28;01mif\u001b[39;00m is_integer(indexer):\n\u001b[0;32m   4104\u001b[0m     indexer \u001b[38;5;241m=\u001b[39m [indexer]\n",
      "File \u001b[1;32mD:\\anaconda3\\Lib\\site-packages\\pandas\\core\\indexes\\base.py:3812\u001b[0m, in \u001b[0;36mIndex.get_loc\u001b[1;34m(self, key)\u001b[0m\n\u001b[0;32m   3807\u001b[0m     \u001b[38;5;28;01mif\u001b[39;00m \u001b[38;5;28misinstance\u001b[39m(casted_key, \u001b[38;5;28mslice\u001b[39m) \u001b[38;5;129;01mor\u001b[39;00m (\n\u001b[0;32m   3808\u001b[0m         \u001b[38;5;28misinstance\u001b[39m(casted_key, abc\u001b[38;5;241m.\u001b[39mIterable)\n\u001b[0;32m   3809\u001b[0m         \u001b[38;5;129;01mand\u001b[39;00m \u001b[38;5;28many\u001b[39m(\u001b[38;5;28misinstance\u001b[39m(x, \u001b[38;5;28mslice\u001b[39m) \u001b[38;5;28;01mfor\u001b[39;00m x \u001b[38;5;129;01min\u001b[39;00m casted_key)\n\u001b[0;32m   3810\u001b[0m     ):\n\u001b[0;32m   3811\u001b[0m         \u001b[38;5;28;01mraise\u001b[39;00m InvalidIndexError(key)\n\u001b[1;32m-> 3812\u001b[0m     \u001b[38;5;28;01mraise\u001b[39;00m \u001b[38;5;167;01mKeyError\u001b[39;00m(key) \u001b[38;5;28;01mfrom\u001b[39;00m \u001b[38;5;21;01merr\u001b[39;00m\n\u001b[0;32m   3813\u001b[0m \u001b[38;5;28;01mexcept\u001b[39;00m \u001b[38;5;167;01mTypeError\u001b[39;00m:\n\u001b[0;32m   3814\u001b[0m     \u001b[38;5;66;03m# If we have a listlike key, _check_indexing_error will raise\u001b[39;00m\n\u001b[0;32m   3815\u001b[0m     \u001b[38;5;66;03m#  InvalidIndexError. Otherwise we fall through and re-raise\u001b[39;00m\n\u001b[0;32m   3816\u001b[0m     \u001b[38;5;66;03m#  the TypeError.\u001b[39;00m\n\u001b[0;32m   3817\u001b[0m     \u001b[38;5;28mself\u001b[39m\u001b[38;5;241m.\u001b[39m_check_indexing_error(key)\n",
      "\u001b[1;31mKeyError\u001b[0m: 'ID'"
     ]
    },
    {
     "data": {
      "text/plain": [
       "<Figure size 900x300 with 0 Axes>"
      ]
     },
     "metadata": {},
     "output_type": "display_data"
    }
   ],
   "source": [
    "# sayısal değişkenlerin histogramlarını çizdir\n",
    "sayisal_degiskenler = [\"Ucret\", \"Yas\", \"ID\"]\n",
    "for i in sayisal_degiskenler:\n",
    "    histogramGrafik(i)"
   ]
  },
  {
   "cell_type": "markdown",
   "id": "6d28505a-62e5-4b9d-8934-1ee88cf25d20",
   "metadata": {},
   "source": [
    "Temel Veri Analizi\n",
    "* Bu bölümde hayatta kalma ile farklı değişkenler arasındaki ilişkiyi inceleyelim.\n",
    "* sinif - hayatta_kalma\n",
    "* cinsiyet - hayatta_kalma\n",
    "* kardes_es - hayatta_kalma\n",
    "* ebeveyn_cocuk - hayatta_kalma\n",
    "* Uyarı: tabloda çıkan değerler olasılık değildir. Büyüklük olarak karşılaştırılması gerekir."
   ]
  },
  {
   "cell_type": "code",
   "execution_count": 531,
   "id": "7c5387fc-c0cf-43e7-ad92-ab0e5c439fb0",
   "metadata": {},
   "outputs": [
    {
     "ename": "KeyError",
     "evalue": "\"['Sinif'] not in index\"",
     "output_type": "error",
     "traceback": [
      "\u001b[1;31m---------------------------------------------------------------------------\u001b[0m",
      "\u001b[1;31mKeyError\u001b[0m                                  Traceback (most recent call last)",
      "Cell \u001b[1;32mIn[531], line 2\u001b[0m\n\u001b[0;32m      1\u001b[0m \u001b[38;5;66;03m# seyahat edilen sınıf - hayatta kalma ilişkisi\u001b[39;00m\n\u001b[1;32m----> 2\u001b[0m df[[\u001b[38;5;124m\"\u001b[39m\u001b[38;5;124mSinif\u001b[39m\u001b[38;5;124m\"\u001b[39m,\u001b[38;5;124m\"\u001b[39m\u001b[38;5;124mHayatta_Kalma\u001b[39m\u001b[38;5;124m\"\u001b[39m]]\u001b[38;5;241m.\u001b[39mgroupby(\u001b[38;5;124m\"\u001b[39m\u001b[38;5;124mSinif\u001b[39m\u001b[38;5;124m\"\u001b[39m, as_index \u001b[38;5;241m=\u001b[39m \u001b[38;5;28;01mFalse\u001b[39;00m)\u001b[38;5;241m.\u001b[39mmean()\u001b[38;5;241m.\u001b[39msort_values(by \u001b[38;5;241m=\u001b[39m \u001b[38;5;124m\"\u001b[39m\u001b[38;5;124mHayatta_Kalma\u001b[39m\u001b[38;5;124m\"\u001b[39m, ascending \u001b[38;5;241m=\u001b[39m \u001b[38;5;28;01mFalse\u001b[39;00m)\n",
      "File \u001b[1;32mD:\\anaconda3\\Lib\\site-packages\\pandas\\core\\frame.py:4108\u001b[0m, in \u001b[0;36mDataFrame.__getitem__\u001b[1;34m(self, key)\u001b[0m\n\u001b[0;32m   4106\u001b[0m     \u001b[38;5;28;01mif\u001b[39;00m is_iterator(key):\n\u001b[0;32m   4107\u001b[0m         key \u001b[38;5;241m=\u001b[39m \u001b[38;5;28mlist\u001b[39m(key)\n\u001b[1;32m-> 4108\u001b[0m     indexer \u001b[38;5;241m=\u001b[39m \u001b[38;5;28mself\u001b[39m\u001b[38;5;241m.\u001b[39mcolumns\u001b[38;5;241m.\u001b[39m_get_indexer_strict(key, \u001b[38;5;124m\"\u001b[39m\u001b[38;5;124mcolumns\u001b[39m\u001b[38;5;124m\"\u001b[39m)[\u001b[38;5;241m1\u001b[39m]\n\u001b[0;32m   4110\u001b[0m \u001b[38;5;66;03m# take() does not accept boolean indexers\u001b[39;00m\n\u001b[0;32m   4111\u001b[0m \u001b[38;5;28;01mif\u001b[39;00m \u001b[38;5;28mgetattr\u001b[39m(indexer, \u001b[38;5;124m\"\u001b[39m\u001b[38;5;124mdtype\u001b[39m\u001b[38;5;124m\"\u001b[39m, \u001b[38;5;28;01mNone\u001b[39;00m) \u001b[38;5;241m==\u001b[39m \u001b[38;5;28mbool\u001b[39m:\n",
      "File \u001b[1;32mD:\\anaconda3\\Lib\\site-packages\\pandas\\core\\indexes\\base.py:6200\u001b[0m, in \u001b[0;36mIndex._get_indexer_strict\u001b[1;34m(self, key, axis_name)\u001b[0m\n\u001b[0;32m   6197\u001b[0m \u001b[38;5;28;01melse\u001b[39;00m:\n\u001b[0;32m   6198\u001b[0m     keyarr, indexer, new_indexer \u001b[38;5;241m=\u001b[39m \u001b[38;5;28mself\u001b[39m\u001b[38;5;241m.\u001b[39m_reindex_non_unique(keyarr)\n\u001b[1;32m-> 6200\u001b[0m \u001b[38;5;28mself\u001b[39m\u001b[38;5;241m.\u001b[39m_raise_if_missing(keyarr, indexer, axis_name)\n\u001b[0;32m   6202\u001b[0m keyarr \u001b[38;5;241m=\u001b[39m \u001b[38;5;28mself\u001b[39m\u001b[38;5;241m.\u001b[39mtake(indexer)\n\u001b[0;32m   6203\u001b[0m \u001b[38;5;28;01mif\u001b[39;00m \u001b[38;5;28misinstance\u001b[39m(key, Index):\n\u001b[0;32m   6204\u001b[0m     \u001b[38;5;66;03m# GH 42790 - Preserve name from an Index\u001b[39;00m\n",
      "File \u001b[1;32mD:\\anaconda3\\Lib\\site-packages\\pandas\\core\\indexes\\base.py:6252\u001b[0m, in \u001b[0;36mIndex._raise_if_missing\u001b[1;34m(self, key, indexer, axis_name)\u001b[0m\n\u001b[0;32m   6249\u001b[0m     \u001b[38;5;28;01mraise\u001b[39;00m \u001b[38;5;167;01mKeyError\u001b[39;00m(\u001b[38;5;124mf\u001b[39m\u001b[38;5;124m\"\u001b[39m\u001b[38;5;124mNone of [\u001b[39m\u001b[38;5;132;01m{\u001b[39;00mkey\u001b[38;5;132;01m}\u001b[39;00m\u001b[38;5;124m] are in the [\u001b[39m\u001b[38;5;132;01m{\u001b[39;00maxis_name\u001b[38;5;132;01m}\u001b[39;00m\u001b[38;5;124m]\u001b[39m\u001b[38;5;124m\"\u001b[39m)\n\u001b[0;32m   6251\u001b[0m not_found \u001b[38;5;241m=\u001b[39m \u001b[38;5;28mlist\u001b[39m(ensure_index(key)[missing_mask\u001b[38;5;241m.\u001b[39mnonzero()[\u001b[38;5;241m0\u001b[39m]]\u001b[38;5;241m.\u001b[39munique())\n\u001b[1;32m-> 6252\u001b[0m \u001b[38;5;28;01mraise\u001b[39;00m \u001b[38;5;167;01mKeyError\u001b[39;00m(\u001b[38;5;124mf\u001b[39m\u001b[38;5;124m\"\u001b[39m\u001b[38;5;132;01m{\u001b[39;00mnot_found\u001b[38;5;132;01m}\u001b[39;00m\u001b[38;5;124m not in index\u001b[39m\u001b[38;5;124m\"\u001b[39m)\n",
      "\u001b[1;31mKeyError\u001b[0m: \"['Sinif'] not in index\""
     ]
    }
   ],
   "source": [
    "# seyahat edilen sınıf - hayatta kalma ilişkisi\n",
    "df[[\"Sinif\",\"Hayatta_Kalma\"]].groupby(\"Sinif\", as_index = False).mean().sort_values(by = \"Hayatta_Kalma\", ascending = False)"
   ]
  },
  {
   "cell_type": "markdown",
   "id": "20d75efc-64e2-439b-888b-2ea70813d274",
   "metadata": {},
   "source": [
    "* Birinci sınıfta yolculuk eden yolcuların ikinci ve üçüncü sınıfta yolculuk eden yolculara göre hayatta kalmalarının daha yüksek olduğu görülüyor.\n",
    "* sinif değişkeni hayatta kalma - hayatta kalmama sınıflandırması yaparken kullanabilecemiz önemli bir değişken olabilir."
   ]
  },
  {
   "cell_type": "code",
   "execution_count": 537,
   "id": "8f2e4c26-8e53-4506-abae-00a3c1873350",
   "metadata": {},
   "outputs": [
    {
     "ename": "KeyError",
     "evalue": "\"['Cinsiyet'] not in index\"",
     "output_type": "error",
     "traceback": [
      "\u001b[1;31m---------------------------------------------------------------------------\u001b[0m",
      "\u001b[1;31mKeyError\u001b[0m                                  Traceback (most recent call last)",
      "Cell \u001b[1;32mIn[537], line 2\u001b[0m\n\u001b[0;32m      1\u001b[0m \u001b[38;5;66;03m# cinsiyet - hayatta kalma ilişkisi\u001b[39;00m\n\u001b[1;32m----> 2\u001b[0m df[[\u001b[38;5;124m\"\u001b[39m\u001b[38;5;124mCinsiyet\u001b[39m\u001b[38;5;124m\"\u001b[39m,\u001b[38;5;124m\"\u001b[39m\u001b[38;5;124mHayatta_Kalma\u001b[39m\u001b[38;5;124m\"\u001b[39m]]\u001b[38;5;241m.\u001b[39mgroupby(\u001b[38;5;124m\"\u001b[39m\u001b[38;5;124mCinsiyet\u001b[39m\u001b[38;5;124m\"\u001b[39m, as_index \u001b[38;5;241m=\u001b[39m \u001b[38;5;28;01mFalse\u001b[39;00m)\u001b[38;5;241m.\u001b[39mmean()\u001b[38;5;241m.\u001b[39msort_values(by \u001b[38;5;241m=\u001b[39m \u001b[38;5;124m\"\u001b[39m\u001b[38;5;124mHayatta_Kalma\u001b[39m\u001b[38;5;124m\"\u001b[39m, ascending \u001b[38;5;241m=\u001b[39m \u001b[38;5;28;01mFalse\u001b[39;00m)\n",
      "File \u001b[1;32mD:\\anaconda3\\Lib\\site-packages\\pandas\\core\\frame.py:4108\u001b[0m, in \u001b[0;36mDataFrame.__getitem__\u001b[1;34m(self, key)\u001b[0m\n\u001b[0;32m   4106\u001b[0m     \u001b[38;5;28;01mif\u001b[39;00m is_iterator(key):\n\u001b[0;32m   4107\u001b[0m         key \u001b[38;5;241m=\u001b[39m \u001b[38;5;28mlist\u001b[39m(key)\n\u001b[1;32m-> 4108\u001b[0m     indexer \u001b[38;5;241m=\u001b[39m \u001b[38;5;28mself\u001b[39m\u001b[38;5;241m.\u001b[39mcolumns\u001b[38;5;241m.\u001b[39m_get_indexer_strict(key, \u001b[38;5;124m\"\u001b[39m\u001b[38;5;124mcolumns\u001b[39m\u001b[38;5;124m\"\u001b[39m)[\u001b[38;5;241m1\u001b[39m]\n\u001b[0;32m   4110\u001b[0m \u001b[38;5;66;03m# take() does not accept boolean indexers\u001b[39;00m\n\u001b[0;32m   4111\u001b[0m \u001b[38;5;28;01mif\u001b[39;00m \u001b[38;5;28mgetattr\u001b[39m(indexer, \u001b[38;5;124m\"\u001b[39m\u001b[38;5;124mdtype\u001b[39m\u001b[38;5;124m\"\u001b[39m, \u001b[38;5;28;01mNone\u001b[39;00m) \u001b[38;5;241m==\u001b[39m \u001b[38;5;28mbool\u001b[39m:\n",
      "File \u001b[1;32mD:\\anaconda3\\Lib\\site-packages\\pandas\\core\\indexes\\base.py:6200\u001b[0m, in \u001b[0;36mIndex._get_indexer_strict\u001b[1;34m(self, key, axis_name)\u001b[0m\n\u001b[0;32m   6197\u001b[0m \u001b[38;5;28;01melse\u001b[39;00m:\n\u001b[0;32m   6198\u001b[0m     keyarr, indexer, new_indexer \u001b[38;5;241m=\u001b[39m \u001b[38;5;28mself\u001b[39m\u001b[38;5;241m.\u001b[39m_reindex_non_unique(keyarr)\n\u001b[1;32m-> 6200\u001b[0m \u001b[38;5;28mself\u001b[39m\u001b[38;5;241m.\u001b[39m_raise_if_missing(keyarr, indexer, axis_name)\n\u001b[0;32m   6202\u001b[0m keyarr \u001b[38;5;241m=\u001b[39m \u001b[38;5;28mself\u001b[39m\u001b[38;5;241m.\u001b[39mtake(indexer)\n\u001b[0;32m   6203\u001b[0m \u001b[38;5;28;01mif\u001b[39;00m \u001b[38;5;28misinstance\u001b[39m(key, Index):\n\u001b[0;32m   6204\u001b[0m     \u001b[38;5;66;03m# GH 42790 - Preserve name from an Index\u001b[39;00m\n",
      "File \u001b[1;32mD:\\anaconda3\\Lib\\site-packages\\pandas\\core\\indexes\\base.py:6252\u001b[0m, in \u001b[0;36mIndex._raise_if_missing\u001b[1;34m(self, key, indexer, axis_name)\u001b[0m\n\u001b[0;32m   6249\u001b[0m     \u001b[38;5;28;01mraise\u001b[39;00m \u001b[38;5;167;01mKeyError\u001b[39;00m(\u001b[38;5;124mf\u001b[39m\u001b[38;5;124m\"\u001b[39m\u001b[38;5;124mNone of [\u001b[39m\u001b[38;5;132;01m{\u001b[39;00mkey\u001b[38;5;132;01m}\u001b[39;00m\u001b[38;5;124m] are in the [\u001b[39m\u001b[38;5;132;01m{\u001b[39;00maxis_name\u001b[38;5;132;01m}\u001b[39;00m\u001b[38;5;124m]\u001b[39m\u001b[38;5;124m\"\u001b[39m)\n\u001b[0;32m   6251\u001b[0m not_found \u001b[38;5;241m=\u001b[39m \u001b[38;5;28mlist\u001b[39m(ensure_index(key)[missing_mask\u001b[38;5;241m.\u001b[39mnonzero()[\u001b[38;5;241m0\u001b[39m]]\u001b[38;5;241m.\u001b[39munique())\n\u001b[1;32m-> 6252\u001b[0m \u001b[38;5;28;01mraise\u001b[39;00m \u001b[38;5;167;01mKeyError\u001b[39;00m(\u001b[38;5;124mf\u001b[39m\u001b[38;5;124m\"\u001b[39m\u001b[38;5;132;01m{\u001b[39;00mnot_found\u001b[38;5;132;01m}\u001b[39;00m\u001b[38;5;124m not in index\u001b[39m\u001b[38;5;124m\"\u001b[39m)\n",
      "\u001b[1;31mKeyError\u001b[0m: \"['Cinsiyet'] not in index\""
     ]
    }
   ],
   "source": [
    "# cinsiyet - hayatta kalma ilişkisi\n",
    "df[[\"Cinsiyet\",\"Hayatta_Kalma\"]].groupby(\"Cinsiyet\", as_index = False).mean().sort_values(by = \"Hayatta_Kalma\", ascending = False)"
   ]
  },
  {
   "cell_type": "markdown",
   "id": "811bc2bd-faaf-4405-b7a3-687641a4b6e8",
   "metadata": {},
   "source": [
    "* Kadınların hayatta kalmalarının erkeklere göre çok daha fazla olduğunu görebiliriz.\n",
    "* Cinsiyet değişkeni hayatta kalma - hayatta kalmama sınıflandırması yaparken kullanabilecemiz önemli bir değişken olabilir."
   ]
  },
  {
   "cell_type": "code",
   "execution_count": 541,
   "id": "fc731217-2be6-4d36-ab2e-85ed786a08e7",
   "metadata": {},
   "outputs": [
    {
     "data": {
      "text/html": [
       "<div>\n",
       "<style scoped>\n",
       "    .dataframe tbody tr th:only-of-type {\n",
       "        vertical-align: middle;\n",
       "    }\n",
       "\n",
       "    .dataframe tbody tr th {\n",
       "        vertical-align: top;\n",
       "    }\n",
       "\n",
       "    .dataframe thead th {\n",
       "        text-align: right;\n",
       "    }\n",
       "</style>\n",
       "<table border=\"1\" class=\"dataframe\">\n",
       "  <thead>\n",
       "    <tr style=\"text-align: right;\">\n",
       "      <th></th>\n",
       "      <th>Kardes_Es</th>\n",
       "      <th>Hayatta_Kalma</th>\n",
       "    </tr>\n",
       "  </thead>\n",
       "  <tbody>\n",
       "    <tr>\n",
       "      <th>1</th>\n",
       "      <td>1</td>\n",
       "      <td>0.535885</td>\n",
       "    </tr>\n",
       "    <tr>\n",
       "      <th>2</th>\n",
       "      <td>2</td>\n",
       "      <td>0.464286</td>\n",
       "    </tr>\n",
       "    <tr>\n",
       "      <th>0</th>\n",
       "      <td>0</td>\n",
       "      <td>0.345395</td>\n",
       "    </tr>\n",
       "    <tr>\n",
       "      <th>3</th>\n",
       "      <td>3</td>\n",
       "      <td>0.250000</td>\n",
       "    </tr>\n",
       "    <tr>\n",
       "      <th>4</th>\n",
       "      <td>4</td>\n",
       "      <td>0.166667</td>\n",
       "    </tr>\n",
       "    <tr>\n",
       "      <th>5</th>\n",
       "      <td>5</td>\n",
       "      <td>0.000000</td>\n",
       "    </tr>\n",
       "    <tr>\n",
       "      <th>6</th>\n",
       "      <td>8</td>\n",
       "      <td>0.000000</td>\n",
       "    </tr>\n",
       "  </tbody>\n",
       "</table>\n",
       "</div>"
      ],
      "text/plain": [
       "   Kardes_Es  Hayatta_Kalma\n",
       "1          1       0.535885\n",
       "2          2       0.464286\n",
       "0          0       0.345395\n",
       "3          3       0.250000\n",
       "4          4       0.166667\n",
       "5          5       0.000000\n",
       "6          8       0.000000"
      ]
     },
     "execution_count": 541,
     "metadata": {},
     "output_type": "execute_result"
    }
   ],
   "source": [
    "# kardeş ve eş sayısı ile hayatta kalma ilişkisi\n",
    "df[[\"Kardes_Es\",\"Hayatta_Kalma\"]].groupby(\"Kardes_Es\", as_index = False).mean().sort_values(by = \"Hayatta_Kalma\", ascending = False)"
   ]
  },
  {
   "cell_type": "markdown",
   "id": "ada9fb98-f69a-46a6-b59c-7f1cf486036a",
   "metadata": {},
   "source": [
    "* Kardes ve eş sayısı 1-2-0 olanların 3-4-5-8 olanlara göre hayatta kalmada daha avantajlı oldukları çıkarılabilir."
   ]
  },
  {
   "cell_type": "code",
   "execution_count": 546,
   "id": "58b3d2f3-d1e7-47b8-86af-e002c397fc3d",
   "metadata": {},
   "outputs": [
    {
     "data": {
      "text/html": [
       "<div>\n",
       "<style scoped>\n",
       "    .dataframe tbody tr th:only-of-type {\n",
       "        vertical-align: middle;\n",
       "    }\n",
       "\n",
       "    .dataframe tbody tr th {\n",
       "        vertical-align: top;\n",
       "    }\n",
       "\n",
       "    .dataframe thead th {\n",
       "        text-align: right;\n",
       "    }\n",
       "</style>\n",
       "<table border=\"1\" class=\"dataframe\">\n",
       "  <thead>\n",
       "    <tr style=\"text-align: right;\">\n",
       "      <th></th>\n",
       "      <th>Ebeveyn_Cocuk</th>\n",
       "      <th>Hayatta_Kalma</th>\n",
       "    </tr>\n",
       "  </thead>\n",
       "  <tbody>\n",
       "    <tr>\n",
       "      <th>3</th>\n",
       "      <td>3</td>\n",
       "      <td>0.600000</td>\n",
       "    </tr>\n",
       "    <tr>\n",
       "      <th>1</th>\n",
       "      <td>1</td>\n",
       "      <td>0.550847</td>\n",
       "    </tr>\n",
       "    <tr>\n",
       "      <th>2</th>\n",
       "      <td>2</td>\n",
       "      <td>0.500000</td>\n",
       "    </tr>\n",
       "    <tr>\n",
       "      <th>0</th>\n",
       "      <td>0</td>\n",
       "      <td>0.343658</td>\n",
       "    </tr>\n",
       "    <tr>\n",
       "      <th>5</th>\n",
       "      <td>5</td>\n",
       "      <td>0.200000</td>\n",
       "    </tr>\n",
       "    <tr>\n",
       "      <th>4</th>\n",
       "      <td>4</td>\n",
       "      <td>0.000000</td>\n",
       "    </tr>\n",
       "    <tr>\n",
       "      <th>6</th>\n",
       "      <td>6</td>\n",
       "      <td>0.000000</td>\n",
       "    </tr>\n",
       "  </tbody>\n",
       "</table>\n",
       "</div>"
      ],
      "text/plain": [
       "   Ebeveyn_Cocuk  Hayatta_Kalma\n",
       "3              3       0.600000\n",
       "1              1       0.550847\n",
       "2              2       0.500000\n",
       "0              0       0.343658\n",
       "5              5       0.200000\n",
       "4              4       0.000000\n",
       "6              6       0.000000"
      ]
     },
     "execution_count": 546,
     "metadata": {},
     "output_type": "execute_result"
    }
   ],
   "source": [
    "# ebeveyn ve çocuk sayısı ile hayatta kalma ilişkisi\n",
    "df[[\"Ebeveyn_Cocuk\",\"Hayatta_Kalma\"]].groupby(\"Ebeveyn_Cocuk\", as_index = False).mean().sort_values(by = \"Hayatta_Kalma\", ascending = False)"
   ]
  },
  {
   "cell_type": "markdown",
   "id": "dbd24069-d73f-4dc4-bf5c-a42f91e148e0",
   "metadata": {},
   "source": [
    "* Ebeveyn ve çocuk sayısı 3-1-2-0 olanların 5-4-6 olanlara göre hayatta kalmada daha avantajlı oldukları çıkarılabilir."
   ]
  },
  {
   "cell_type": "markdown",
   "id": "f57ae2c8-c8a7-4f20-b2b1-839dcbeb95f5",
   "metadata": {},
   "source": [
    "### Aykırı Değer Tespiti\n",
    "* Aykırı değerler, verinin eğitilmesi sürecinde modelin yanlış öğrenmesine neden olacak değerlerdir. Bu nedenle veriden çıkarılmaları gerekir."
   ]
  },
  {
   "cell_type": "code",
   "execution_count": 330,
   "id": "d8be8fac-de11-4ee0-957b-198a6e2921ca",
   "metadata": {},
   "outputs": [],
   "source": [
    "# aykırı değer fonksiyonu\n",
    "def aykiriDegerTespiti(df,ozellik):\n",
    "    outlier_indices = []\n",
    "    \n",
    "    for c in ozellik:\n",
    "        # 1st quartile\n",
    "        Q1 = np.percentile(df[c],25)\n",
    "        # 3rd quartile\n",
    "        Q3 = np.percentile(df[c],75)\n",
    "        # IQR\n",
    "        IQR = Q3 - Q1\n",
    "        # aykırı değer adımı\n",
    "        outlier_step = IQR * 1.5\n",
    "        # aykırı değerleri ve indekslerini tespit et.\n",
    "        outlier_list_col = df[(df[c] < Q1 - outlier_step) | (df[c] > Q3 + outlier_step)].index\n",
    "        # store indeces\n",
    "        outlier_indices.extend(outlier_list_col)\n",
    "    \n",
    "    outlier_indices = Counter(outlier_indices)\n",
    "    multiple_outliers = list(i for i, v in outlier_indices.items() if v > 2)\n",
    "    \n",
    "    return multiple_outliers"
   ]
  },
  {
   "cell_type": "code",
   "execution_count": 331,
   "id": "99ea0370-803a-4295-8215-ebd609477f1f",
   "metadata": {},
   "outputs": [
    {
     "data": {
      "text/html": [
       "<div>\n",
       "<style scoped>\n",
       "    .dataframe tbody tr th:only-of-type {\n",
       "        vertical-align: middle;\n",
       "    }\n",
       "\n",
       "    .dataframe tbody tr th {\n",
       "        vertical-align: top;\n",
       "    }\n",
       "\n",
       "    .dataframe thead th {\n",
       "        text-align: right;\n",
       "    }\n",
       "</style>\n",
       "<table border=\"1\" class=\"dataframe\">\n",
       "  <thead>\n",
       "    <tr style=\"text-align: right;\">\n",
       "      <th></th>\n",
       "      <th>ID</th>\n",
       "      <th>Hayatta_Kalma</th>\n",
       "      <th>Sinif</th>\n",
       "      <th>Isim</th>\n",
       "      <th>Cinsiyet</th>\n",
       "      <th>Yas</th>\n",
       "      <th>Kardes_Es</th>\n",
       "      <th>Ebeveyn_Cocuk</th>\n",
       "      <th>Bilet</th>\n",
       "      <th>Ucret</th>\n",
       "      <th>Kabin</th>\n",
       "      <th>Liman</th>\n",
       "    </tr>\n",
       "  </thead>\n",
       "  <tbody>\n",
       "    <tr>\n",
       "      <th>27</th>\n",
       "      <td>28</td>\n",
       "      <td>0</td>\n",
       "      <td>1</td>\n",
       "      <td>Fortune, Mr. Charles Alexander</td>\n",
       "      <td>male</td>\n",
       "      <td>19.0</td>\n",
       "      <td>3</td>\n",
       "      <td>2</td>\n",
       "      <td>19950</td>\n",
       "      <td>263.00</td>\n",
       "      <td>C23 C25 C27</td>\n",
       "      <td>S</td>\n",
       "    </tr>\n",
       "    <tr>\n",
       "      <th>88</th>\n",
       "      <td>89</td>\n",
       "      <td>1</td>\n",
       "      <td>1</td>\n",
       "      <td>Fortune, Miss. Mabel Helen</td>\n",
       "      <td>female</td>\n",
       "      <td>23.0</td>\n",
       "      <td>3</td>\n",
       "      <td>2</td>\n",
       "      <td>19950</td>\n",
       "      <td>263.00</td>\n",
       "      <td>C23 C25 C27</td>\n",
       "      <td>S</td>\n",
       "    </tr>\n",
       "    <tr>\n",
       "      <th>159</th>\n",
       "      <td>160</td>\n",
       "      <td>0</td>\n",
       "      <td>3</td>\n",
       "      <td>Sage, Master. Thomas Henry</td>\n",
       "      <td>male</td>\n",
       "      <td>NaN</td>\n",
       "      <td>8</td>\n",
       "      <td>2</td>\n",
       "      <td>CA. 2343</td>\n",
       "      <td>69.55</td>\n",
       "      <td>NaN</td>\n",
       "      <td>S</td>\n",
       "    </tr>\n",
       "    <tr>\n",
       "      <th>180</th>\n",
       "      <td>181</td>\n",
       "      <td>0</td>\n",
       "      <td>3</td>\n",
       "      <td>Sage, Miss. Constance Gladys</td>\n",
       "      <td>female</td>\n",
       "      <td>NaN</td>\n",
       "      <td>8</td>\n",
       "      <td>2</td>\n",
       "      <td>CA. 2343</td>\n",
       "      <td>69.55</td>\n",
       "      <td>NaN</td>\n",
       "      <td>S</td>\n",
       "    </tr>\n",
       "    <tr>\n",
       "      <th>201</th>\n",
       "      <td>202</td>\n",
       "      <td>0</td>\n",
       "      <td>3</td>\n",
       "      <td>Sage, Mr. Frederick</td>\n",
       "      <td>male</td>\n",
       "      <td>NaN</td>\n",
       "      <td>8</td>\n",
       "      <td>2</td>\n",
       "      <td>CA. 2343</td>\n",
       "      <td>69.55</td>\n",
       "      <td>NaN</td>\n",
       "      <td>S</td>\n",
       "    </tr>\n",
       "    <tr>\n",
       "      <th>324</th>\n",
       "      <td>325</td>\n",
       "      <td>0</td>\n",
       "      <td>3</td>\n",
       "      <td>Sage, Mr. George John Jr</td>\n",
       "      <td>male</td>\n",
       "      <td>NaN</td>\n",
       "      <td>8</td>\n",
       "      <td>2</td>\n",
       "      <td>CA. 2343</td>\n",
       "      <td>69.55</td>\n",
       "      <td>NaN</td>\n",
       "      <td>S</td>\n",
       "    </tr>\n",
       "    <tr>\n",
       "      <th>341</th>\n",
       "      <td>342</td>\n",
       "      <td>1</td>\n",
       "      <td>1</td>\n",
       "      <td>Fortune, Miss. Alice Elizabeth</td>\n",
       "      <td>female</td>\n",
       "      <td>24.0</td>\n",
       "      <td>3</td>\n",
       "      <td>2</td>\n",
       "      <td>19950</td>\n",
       "      <td>263.00</td>\n",
       "      <td>C23 C25 C27</td>\n",
       "      <td>S</td>\n",
       "    </tr>\n",
       "    <tr>\n",
       "      <th>792</th>\n",
       "      <td>793</td>\n",
       "      <td>0</td>\n",
       "      <td>3</td>\n",
       "      <td>Sage, Miss. Stella Anna</td>\n",
       "      <td>female</td>\n",
       "      <td>NaN</td>\n",
       "      <td>8</td>\n",
       "      <td>2</td>\n",
       "      <td>CA. 2343</td>\n",
       "      <td>69.55</td>\n",
       "      <td>NaN</td>\n",
       "      <td>S</td>\n",
       "    </tr>\n",
       "    <tr>\n",
       "      <th>846</th>\n",
       "      <td>847</td>\n",
       "      <td>0</td>\n",
       "      <td>3</td>\n",
       "      <td>Sage, Mr. Douglas Bullen</td>\n",
       "      <td>male</td>\n",
       "      <td>NaN</td>\n",
       "      <td>8</td>\n",
       "      <td>2</td>\n",
       "      <td>CA. 2343</td>\n",
       "      <td>69.55</td>\n",
       "      <td>NaN</td>\n",
       "      <td>S</td>\n",
       "    </tr>\n",
       "    <tr>\n",
       "      <th>863</th>\n",
       "      <td>864</td>\n",
       "      <td>0</td>\n",
       "      <td>3</td>\n",
       "      <td>Sage, Miss. Dorothy Edith \"Dolly\"</td>\n",
       "      <td>female</td>\n",
       "      <td>NaN</td>\n",
       "      <td>8</td>\n",
       "      <td>2</td>\n",
       "      <td>CA. 2343</td>\n",
       "      <td>69.55</td>\n",
       "      <td>NaN</td>\n",
       "      <td>S</td>\n",
       "    </tr>\n",
       "  </tbody>\n",
       "</table>\n",
       "</div>"
      ],
      "text/plain": [
       "      ID  Hayatta_Kalma  Sinif                               Isim Cinsiyet  \\\n",
       "27    28              0      1     Fortune, Mr. Charles Alexander     male   \n",
       "88    89              1      1         Fortune, Miss. Mabel Helen   female   \n",
       "159  160              0      3         Sage, Master. Thomas Henry     male   \n",
       "180  181              0      3       Sage, Miss. Constance Gladys   female   \n",
       "201  202              0      3                Sage, Mr. Frederick     male   \n",
       "324  325              0      3           Sage, Mr. George John Jr     male   \n",
       "341  342              1      1     Fortune, Miss. Alice Elizabeth   female   \n",
       "792  793              0      3            Sage, Miss. Stella Anna   female   \n",
       "846  847              0      3           Sage, Mr. Douglas Bullen     male   \n",
       "863  864              0      3  Sage, Miss. Dorothy Edith \"Dolly\"   female   \n",
       "\n",
       "      Yas  Kardes_Es  Ebeveyn_Cocuk     Bilet   Ucret        Kabin Liman  \n",
       "27   19.0          3              2     19950  263.00  C23 C25 C27     S  \n",
       "88   23.0          3              2     19950  263.00  C23 C25 C27     S  \n",
       "159   NaN          8              2  CA. 2343   69.55          NaN     S  \n",
       "180   NaN          8              2  CA. 2343   69.55          NaN     S  \n",
       "201   NaN          8              2  CA. 2343   69.55          NaN     S  \n",
       "324   NaN          8              2  CA. 2343   69.55          NaN     S  \n",
       "341  24.0          3              2     19950  263.00  C23 C25 C27     S  \n",
       "792   NaN          8              2  CA. 2343   69.55          NaN     S  \n",
       "846   NaN          8              2  CA. 2343   69.55          NaN     S  \n",
       "863   NaN          8              2  CA. 2343   69.55          NaN     S  "
      ]
     },
     "execution_count": 331,
     "metadata": {},
     "output_type": "execute_result"
    }
   ],
   "source": [
    "df.loc[aykiriDegerTespiti(df,[\"Yas\",\"Kardes_Es\",\"Ebeveyn_Cocuk\",\"Ucret\"])]"
   ]
  },
  {
   "cell_type": "markdown",
   "id": "de3623e5-c975-43be-9426-98d78be052c9",
   "metadata": {},
   "source": [
    "### Kayıp Veri\n",
    "* Kayıp veri hem eğitim hem de test veri setinde olabilir.\n",
    "* Kayıp verinin doldurulması işlemini veri setlerini birleştirerek yapmalıyız çünkü kayıp verinin doldurulmasında istatistiksel yöntemleri kullanacağımız için alt kümeler yerine ana kütleyi kullanmak daha uygun olacaktır.\n",
    "* Bu bölümde aşağıdaki işlemleri gerçekleştireceğiz.\n",
    "    1. Kayıp Verinin Bulunması\n",
    "    2. Kayıp Verinin Doldurulması"
   ]
  },
  {
   "cell_type": "code",
   "execution_count": 332,
   "id": "dd74cc49-4a20-4582-bbce-8b6b16c8d535",
   "metadata": {},
   "outputs": [
    {
     "data": {
      "text/plain": [
       "Index(['Yas', 'Kabin', 'Liman'], dtype='object')"
      ]
     },
     "execution_count": 332,
     "metadata": {},
     "output_type": "execute_result"
    }
   ],
   "source": [
    "# kayıp veriyi içeren sütunlar\n",
    "df.columns[df.isnull().any()]"
   ]
  },
  {
   "cell_type": "code",
   "execution_count": 333,
   "id": "2188fd69-84fc-40b4-9d94-654883db648d",
   "metadata": {},
   "outputs": [
    {
     "data": {
      "text/plain": [
       "ID                 0\n",
       "Hayatta_Kalma      0\n",
       "Sinif              0\n",
       "Isim               0\n",
       "Cinsiyet           0\n",
       "Yas              177\n",
       "Kardes_Es          0\n",
       "Ebeveyn_Cocuk      0\n",
       "Bilet              0\n",
       "Ucret              0\n",
       "Kabin            687\n",
       "Liman              2\n",
       "dtype: int64"
      ]
     },
     "execution_count": 333,
     "metadata": {},
     "output_type": "execute_result"
    }
   ],
   "source": [
    "df.isnull().sum()"
   ]
  },
  {
   "cell_type": "markdown",
   "id": "b27c215f-717e-457a-8397-66fea2db9660",
   "metadata": {},
   "source": [
    "* hayatta kalma değişkenin boş olması test veri setinden kaynaklı. Çünkü adı üzerinde test veri seti olduğu için test veri setinin içerisinde hayatta_kalma diye bir değişken bulunmuyor. Biz sınıflandırma yaparak test veri setinin içerisindeki örneklerin hayatta kalıp kalamadıklarını bulacağız.\n",
    "* yas, kabin, liman ve ücret değişkenlerini sırayla ele alalım."
   ]
  },
  {
   "cell_type": "markdown",
   "id": "670cc283-5682-40c9-a384-f0c43b2d5d62",
   "metadata": {},
   "source": [
    "### Kayıp Verinin Doldurulması\n",
    "* Liman 2 adet kayıp veriye sahip."
   ]
  },
  {
   "cell_type": "code",
   "execution_count": 335,
   "id": "f17db351-25ed-494e-9a64-4bc1a3194b39",
   "metadata": {},
   "outputs": [
    {
     "data": {
      "text/html": [
       "<div>\n",
       "<style scoped>\n",
       "    .dataframe tbody tr th:only-of-type {\n",
       "        vertical-align: middle;\n",
       "    }\n",
       "\n",
       "    .dataframe tbody tr th {\n",
       "        vertical-align: top;\n",
       "    }\n",
       "\n",
       "    .dataframe thead th {\n",
       "        text-align: right;\n",
       "    }\n",
       "</style>\n",
       "<table border=\"1\" class=\"dataframe\">\n",
       "  <thead>\n",
       "    <tr style=\"text-align: right;\">\n",
       "      <th></th>\n",
       "      <th>ID</th>\n",
       "      <th>Hayatta_Kalma</th>\n",
       "      <th>Sinif</th>\n",
       "      <th>Isim</th>\n",
       "      <th>Cinsiyet</th>\n",
       "      <th>Yas</th>\n",
       "      <th>Kardes_Es</th>\n",
       "      <th>Ebeveyn_Cocuk</th>\n",
       "      <th>Bilet</th>\n",
       "      <th>Ucret</th>\n",
       "      <th>Kabin</th>\n",
       "      <th>Liman</th>\n",
       "    </tr>\n",
       "  </thead>\n",
       "  <tbody>\n",
       "    <tr>\n",
       "      <th>61</th>\n",
       "      <td>62</td>\n",
       "      <td>1</td>\n",
       "      <td>1</td>\n",
       "      <td>Icard, Miss. Amelie</td>\n",
       "      <td>female</td>\n",
       "      <td>38.0</td>\n",
       "      <td>0</td>\n",
       "      <td>0</td>\n",
       "      <td>113572</td>\n",
       "      <td>80.0</td>\n",
       "      <td>B28</td>\n",
       "      <td>NaN</td>\n",
       "    </tr>\n",
       "    <tr>\n",
       "      <th>829</th>\n",
       "      <td>830</td>\n",
       "      <td>1</td>\n",
       "      <td>1</td>\n",
       "      <td>Stone, Mrs. George Nelson (Martha Evelyn)</td>\n",
       "      <td>female</td>\n",
       "      <td>62.0</td>\n",
       "      <td>0</td>\n",
       "      <td>0</td>\n",
       "      <td>113572</td>\n",
       "      <td>80.0</td>\n",
       "      <td>B28</td>\n",
       "      <td>NaN</td>\n",
       "    </tr>\n",
       "  </tbody>\n",
       "</table>\n",
       "</div>"
      ],
      "text/plain": [
       "      ID  Hayatta_Kalma  Sinif                                       Isim  \\\n",
       "61    62              1      1                        Icard, Miss. Amelie   \n",
       "829  830              1      1  Stone, Mrs. George Nelson (Martha Evelyn)   \n",
       "\n",
       "    Cinsiyet   Yas  Kardes_Es  Ebeveyn_Cocuk   Bilet  Ucret Kabin Liman  \n",
       "61    female  38.0          0              0  113572   80.0   B28   NaN  \n",
       "829   female  62.0          0              0  113572   80.0   B28   NaN  "
      ]
     },
     "execution_count": 335,
     "metadata": {},
     "output_type": "execute_result"
    }
   ],
   "source": [
    "df[df[\"Liman\"].isnull()]"
   ]
  },
  {
   "cell_type": "code",
   "execution_count": 336,
   "id": "624250ad-12d8-499f-aed1-bd11813ca08e",
   "metadata": {},
   "outputs": [
    {
     "data": {
      "image/png": "[encoded data removed]",
      "text/plain": [
       "<Figure size 640x480 with 1 Axes>"
      ]
     },
     "metadata": {},
     "output_type": "display_data"
    }
   ],
   "source": [
    "df.boxplot(column = \"Ucret\", by = \"Liman\")\n",
    "plt.show()"
   ]
  },
  {
   "cell_type": "markdown",
   "id": "16cd8ddc-d206-4794-afba-bdc201f53ec6",
   "metadata": {},
   "source": [
    "* Liman değişkeni kayıp olan iki örneğin de ödenen ücreti 80.\n",
    "* Limanlara göre ödenen ücretin kutu grafiğine baktığımız zaman, ödenen ücret olan 80'nin Q ve S limanları için aykırı değer olduğu görülüyor.\n",
    "* Bu nedenle, liman değişkeni kayıp olan iki örneğin liman değerini \"C\" olarak doldurabiliriz."
   ]
  },
  {
   "cell_type": "code",
   "execution_count": 338,
   "id": "53a669e9-e4d0-41fc-8a3c-d8902e290ec8",
   "metadata": {},
   "outputs": [
    {
     "data": {
      "text/html": [
       "<div>\n",
       "<style scoped>\n",
       "    .dataframe tbody tr th:only-of-type {\n",
       "        vertical-align: middle;\n",
       "    }\n",
       "\n",
       "    .dataframe tbody tr th {\n",
       "        vertical-align: top;\n",
       "    }\n",
       "\n",
       "    .dataframe thead th {\n",
       "        text-align: right;\n",
       "    }\n",
       "</style>\n",
       "<table border=\"1\" class=\"dataframe\">\n",
       "  <thead>\n",
       "    <tr style=\"text-align: right;\">\n",
       "      <th></th>\n",
       "      <th>ID</th>\n",
       "      <th>Hayatta_Kalma</th>\n",
       "      <th>Sinif</th>\n",
       "      <th>Isim</th>\n",
       "      <th>Cinsiyet</th>\n",
       "      <th>Yas</th>\n",
       "      <th>Kardes_Es</th>\n",
       "      <th>Ebeveyn_Cocuk</th>\n",
       "      <th>Bilet</th>\n",
       "      <th>Ucret</th>\n",
       "      <th>Kabin</th>\n",
       "      <th>Liman</th>\n",
       "    </tr>\n",
       "  </thead>\n",
       "  <tbody>\n",
       "  </tbody>\n",
       "</table>\n",
       "</div>"
      ],
      "text/plain": [
       "Empty DataFrame\n",
       "Columns: [ID, Hayatta_Kalma, Sinif, Isim, Cinsiyet, Yas, Kardes_Es, Ebeveyn_Cocuk, Bilet, Ucret, Kabin, Liman]\n",
       "Index: []"
      ]
     },
     "execution_count": 338,
     "metadata": {},
     "output_type": "execute_result"
    }
   ],
   "source": [
    "# buraya kod yazacağız\n",
    "df[\"Liman\"] = df[\"Liman\"].fillna(\"C\") # boş liman verilerini C ile doldur\n",
    "df[df[\"Liman\"].isnull()] # tekrardan boş eleman var mı diye kontrol edelim"
   ]
  },
  {
   "cell_type": "code",
   "execution_count": 339,
   "id": "de21c55d-9267-4e48-965b-d34c2ba65962",
   "metadata": {},
   "outputs": [
    {
     "data": {
      "text/html": [
       "<div>\n",
       "<style scoped>\n",
       "    .dataframe tbody tr th:only-of-type {\n",
       "        vertical-align: middle;\n",
       "    }\n",
       "\n",
       "    .dataframe tbody tr th {\n",
       "        vertical-align: top;\n",
       "    }\n",
       "\n",
       "    .dataframe thead th {\n",
       "        text-align: right;\n",
       "    }\n",
       "</style>\n",
       "<table border=\"1\" class=\"dataframe\">\n",
       "  <thead>\n",
       "    <tr style=\"text-align: right;\">\n",
       "      <th></th>\n",
       "      <th>ID</th>\n",
       "      <th>Hayatta_Kalma</th>\n",
       "      <th>Sinif</th>\n",
       "      <th>Isim</th>\n",
       "      <th>Cinsiyet</th>\n",
       "      <th>Yas</th>\n",
       "      <th>Kardes_Es</th>\n",
       "      <th>Ebeveyn_Cocuk</th>\n",
       "      <th>Bilet</th>\n",
       "      <th>Ucret</th>\n",
       "      <th>Kabin</th>\n",
       "      <th>Liman</th>\n",
       "    </tr>\n",
       "  </thead>\n",
       "  <tbody>\n",
       "  </tbody>\n",
       "</table>\n",
       "</div>"
      ],
      "text/plain": [
       "Empty DataFrame\n",
       "Columns: [ID, Hayatta_Kalma, Sinif, Isim, Cinsiyet, Yas, Kardes_Es, Ebeveyn_Cocuk, Bilet, Ucret, Kabin, Liman]\n",
       "Index: []"
      ]
     },
     "execution_count": 339,
     "metadata": {},
     "output_type": "execute_result"
    }
   ],
   "source": [
    "df[df[\"Ucret\"].isnull()]"
   ]
  },
  {
   "cell_type": "markdown",
   "id": "4ee01f90-5a3b-44c0-bbbb-130d8f21a3a1",
   "metadata": {},
   "source": [
    "* Yaş değişkeninde bulunan kayıp verileri, veriyi görselleştirme yöntemleri ile derinlemesine inceledikten sonra dolduracağız.\n",
    "* Kabin değişkenini sınıflandırmada kullanmayacağımız için kabin değişkeninde bulunan kayıp verilerin doldurulmasına gerek yoktur."
   ]
  },
  {
   "cell_type": "markdown",
   "id": "f2d65483-477c-45e7-b5cf-53eb99b3a933",
   "metadata": {},
   "source": [
    "## Görselleştirme"
   ]
  },
  {
   "cell_type": "markdown",
   "id": "adec43b2-f3a7-48ba-bcf7-749c5d3aa781",
   "metadata": {},
   "source": [
    "### Kardeş/Eş, Ebeveyn/Çocuk, Yaş, Ücret, Hayatta Kalma Arasındaki Korelasyon"
   ]
  },
  {
   "cell_type": "code",
   "execution_count": 343,
   "id": "11983e49-9ab4-45ef-9ec8-02903b5042da",
   "metadata": {},
   "outputs": [
    {
     "data": {
      "image/png": "[encoded data removed]",
      "text/plain": [
       "<Figure size 640x480 with 2 Axes>"
      ]
     },
     "metadata": {},
     "output_type": "display_data"
    }
   ],
   "source": [
    "list1 = [\"Kardes_Es\", \"Ebeveyn_Cocuk\", \"Yas\", \"Ucret\", \"Hayatta_Kalma\"]\n",
    "sns.heatmap(df[list1].corr(), annot = True, fmt = \".2f\")\n",
    "plt.show()"
   ]
  },
  {
   "cell_type": "markdown",
   "id": "888a7542-b8b4-4b3c-b8d0-d844f4bdb253",
   "metadata": {},
   "source": [
    "* Hayatta kalma ile en çok ilişkisi olan 0.26'lık oran ile bilet ücretidir."
   ]
  },
  {
   "cell_type": "markdown",
   "id": "5848f2fb-2db5-423f-9693-74e33d48c909",
   "metadata": {},
   "source": [
    "### Kardeş/Eş, Hayatta Kalma"
   ]
  },
  {
   "cell_type": "code",
   "execution_count": 346,
   "id": "93c9da0e-2331-4584-a6a0-6a11f50204b7",
   "metadata": {},
   "outputs": [
    {
     "data": {
      "image/png": "[encoded data removed]",
      "text/plain": [
       "<Figure size 600x600 with 1 Axes>"
      ]
     },
     "metadata": {},
     "output_type": "display_data"
    }
   ],
   "source": [
    "g = sns.catplot(x=\"Kardes_Es\", y=\"Hayatta_Kalma\", data=df, kind=\"bar\", height=6, palette = \"viridis\")\n",
    "g.set_ylabels(\"Hayatta Kalma\")\n",
    "plt.show()"
   ]
  },
  {
   "cell_type": "markdown",
   "id": "023feb19-e6b7-437f-8af1-18ae7e1bfda1",
   "metadata": {},
   "source": [
    "* Çok sayıda kardeş ve eşe sahip olan yolcuların hayatta kalmaları daha az.\n",
    "* 0-1-2 sayıda kardeş ve eşe sahip olan yolcuların hayatta kalmaları daha yüksek.\n",
    "* Bu nedenle kardes_es değişkeni kullanarak yeni bir özellik çıkarabiliriz."
   ]
  },
  {
   "cell_type": "markdown",
   "id": "b566623f-e168-49fb-ab8d-c8cfbfa9ab8b",
   "metadata": {},
   "source": [
    "### Ebeveyn/Çocuk, Hayatta Kalma"
   ]
  },
  {
   "cell_type": "code",
   "execution_count": 349,
   "id": "4ee9914a-3bc1-4659-a037-8aabc6ddfbc9",
   "metadata": {},
   "outputs": [
    {
     "data": {
      "image/png": "[encoded data removed]",
      "text/plain": [
       "<Figure size 600x600 with 1 Axes>"
      ]
     },
     "metadata": {},
     "output_type": "display_data"
    }
   ],
   "source": [
    "g = sns.catplot(x=\"Ebeveyn_Cocuk\", y=\"Hayatta_Kalma\", kind=\"bar\", data=df, height=6, palette=\"magma\")\n",
    "g.set_ylabels(\"Hayatta Kalma\")\n",
    "plt.show()"
   ]
  },
  {
   "cell_type": "markdown",
   "id": "85f5a502-c31d-460f-a45b-ee4dd1c9140d",
   "metadata": {},
   "source": [
    "* 3 ve daha az ebeveyn ve çocuğa sahip yolcuların hayatta kalmaları daha yüksek.\n",
    "* Kardeş/eş ve ebeveyn/çocuk değişkenlerinden yola çıkarak, bu iki değişken aile değişkeni altında birleştirilip yeni bir özellik çıkarılabilir."
   ]
  },
  {
   "cell_type": "markdown",
   "id": "a754b1b5-badb-4df3-b596-dd126026c5bc",
   "metadata": {},
   "source": [
    "### Sınıf, Hayatta Kalma"
   ]
  },
  {
   "cell_type": "code",
   "execution_count": 352,
   "id": "e8539cf7-8e1d-4973-92df-d47000be8edc",
   "metadata": {},
   "outputs": [
    {
     "data": {
      "image/png": "[encoded data removed]",
      "text/plain": [
       "<Figure size 600x600 with 1 Axes>"
      ]
     },
     "metadata": {},
     "output_type": "display_data"
    }
   ],
   "source": [
    "g = sns.catplot(x = \"Sinif\", y = \"Hayatta_Kalma\", data = df, kind = \"bar\", height = 6, palette = \"Set2\")\n",
    "g.set_ylabels(\"Hayatta Kalma\")\n",
    "plt.show()"
   ]
  },
  {
   "cell_type": "markdown",
   "id": "933d2d0a-b34f-48da-bee7-cd74521e1151",
   "metadata": {},
   "source": [
    "* Yolcuların sınıfları ile hayatta kalma ihtimalleri arasında pozitif bir ilişki olduğu görülmektedir."
   ]
  },
  {
   "cell_type": "markdown",
   "id": "08014b30-cfc7-42d7-8bdb-b94897d1fffe",
   "metadata": {},
   "source": [
    "### Yaş, Hayatta Kalma"
   ]
  },
  {
   "cell_type": "code",
   "execution_count": 355,
   "id": "2273b5d5-18e5-4a49-802e-4c63fc3321da",
   "metadata": {},
   "outputs": [
    {
     "data": {
      "image/png": "[encoded data removed]",
      "text/plain": [
       "<Figure size 600x300 with 2 Axes>"
      ]
     },
     "metadata": {},
     "output_type": "display_data"
    }
   ],
   "source": [
    "g = sns.FacetGrid(df, col = \"Hayatta_Kalma\")\n",
    "g.map(sns.distplot, \"Yas\", bins = 25)\n",
    "plt.show()"
   ]
  },
  {
   "cell_type": "markdown",
   "id": "a4e1e75e-8432-4ab2-8659-0ac43cdb0267",
   "metadata": {},
   "source": [
    "* 10 yaşından küçük yolcuların hayatta kalmaları yüksek\n",
    "* En yaşlı yolcular (80 yaş) hayatta kaldılar\n",
    "* 20 yaş civarında ki yolcuların çoğu hayatta kalamadı\n",
    "* Yolcuların çoğu 15-35 yaş aralığında\n",
    "* Yaş değişkenini makine öğrenmesi modelimizi eğitirken kullanabiliriz\n",
    "* Ayrıca yaş dağılımını, yaş değişkeni içerisinde bulunan kayıp verileri doldurmak için kullanacağız."
   ]
  },
  {
   "cell_type": "markdown",
   "id": "01589a92-bd71-47ca-9bd7-8bc6923809d5",
   "metadata": {},
   "source": [
    "### Sınıf, Hayatta Kalma, Yaş"
   ]
  },
  {
   "cell_type": "code",
   "execution_count": 358,
   "id": "3af6bd67-6e99-4f86-a999-862f032fd7a8",
   "metadata": {},
   "outputs": [
    {
     "data": {
      "image/png": "[encoded data removed]",
      "text/plain": [
       "<Figure size 411.111x600 with 6 Axes>"
      ]
     },
     "metadata": {},
     "output_type": "display_data"
    }
   ],
   "source": [
    "g = sns.FacetGrid(df, col = \"Hayatta_Kalma\", row = \"Sinif\", height = 2)\n",
    "g.map(plt.hist, \"Yas\", bins = 25)\n",
    "g.add_legend()\n",
    "plt.show()"
   ]
  },
  {
   "cell_type": "markdown",
   "id": "b3226a70-7a66-47e9-96c8-5b71914ef017",
   "metadata": {},
   "source": [
    "* Bu grafik sayesinde üçüncü sınıfta bulunan yolcuların genç nüfusun büyük bir kısmını oluşturduğunu anlıyoruz.\n",
    "* Sınıf farkının hayatta kalmaya etkisini bir kere daha görüyoruz."
   ]
  },
  {
   "cell_type": "markdown",
   "id": "711a9b1e-2417-46c7-9f35-fc573aa99743",
   "metadata": {},
   "source": [
    "### Liman, Cinsiyet, Sınıf, Hayatta Kalma"
   ]
  },
  {
   "cell_type": "code",
   "execution_count": 361,
   "id": "4d1f546c-f479-40a1-b9a1-c2b8098c99db",
   "metadata": {},
   "outputs": [
    {
     "data": {
      "image/png": "[encoded data removed]",
      "text/plain": [
       "<Figure size 291.875x600 with 3 Axes>"
      ]
     },
     "metadata": {},
     "output_type": "display_data"
    }
   ],
   "source": [
    "g = sns.FacetGrid(df, row = \"Liman\", height = 2)\n",
    "g.map(sns.pointplot, \"Sinif\", \"Hayatta_Kalma\", \"Cinsiyet\")\n",
    "g.add_legend()\n",
    "plt.show()"
   ]
  },
  {
   "cell_type": "markdown",
   "id": "de2197e5-08c7-4fa3-bc0c-1e46c62fd970",
   "metadata": {},
   "source": [
    "* Kadın yolcuların hayatta kalmaları erkeklere göre çok daha yüksektir.\n",
    "* C limanından binen yolcular arasında erkelerin hayatta kalmaları kadınlara göre daha fazladır."
   ]
  },
  {
   "cell_type": "markdown",
   "id": "170e0dce-b402-4933-afc2-2b84ec2eefec",
   "metadata": {},
   "source": [
    "### Liman, Cinsiyet, Ücret, Hayatta Kalma"
   ]
  },
  {
   "cell_type": "code",
   "execution_count": 364,
   "id": "38ed1c5c-5938-401c-978f-e2c1f5709ac3",
   "metadata": {},
   "outputs": [
    {
     "data": {
      "image/png": "[encoded data removed]",
      "text/plain": [
       "<Figure size 471.111x690 with 6 Axes>"
      ]
     },
     "metadata": {},
     "output_type": "display_data"
    }
   ],
   "source": [
    "g = sns.FacetGrid(df, row = \"Liman\", col = \"Hayatta_Kalma\", height = 2.3)\n",
    "g.map(sns.barplot, \"Cinsiyet\", \"Ucret\")\n",
    "g.add_legend()\n",
    "plt.show()"
   ]
  },
  {
   "cell_type": "markdown",
   "id": "c80a75e6-9e8b-4c72-8ec1-90215f903d65",
   "metadata": {},
   "source": [
    "* Daha yüksek ücret ödeyen yolcuların hayatta kalması daha fazladır.\n",
    "* Ücret, eğitim için kategorik bir değişken olarak kullanılabilir."
   ]
  },
  {
   "cell_type": "markdown",
   "id": "2ef94d8d-1f32-4a28-a341-48bc55882817",
   "metadata": {},
   "source": [
    "### Kayıp Veri Doldurulması: Yaş Değişkeni"
   ]
  },
  {
   "cell_type": "markdown",
   "id": "b42fbbcb-8a1d-41c5-be79-43931477040a",
   "metadata": {},
   "source": [
    "* Yaş değişkeninde bulunan kayıp veriyi, yaş değişkeninin dağılımına göre dolduracağız."
   ]
  },
  {
   "cell_type": "code",
   "execution_count": 368,
   "id": "019b6381-67e5-40cb-817c-a100414cb83e",
   "metadata": {},
   "outputs": [
    {
     "data": {
      "text/html": [
       "<div>\n",
       "<style scoped>\n",
       "    .dataframe tbody tr th:only-of-type {\n",
       "        vertical-align: middle;\n",
       "    }\n",
       "\n",
       "    .dataframe tbody tr th {\n",
       "        vertical-align: top;\n",
       "    }\n",
       "\n",
       "    .dataframe thead th {\n",
       "        text-align: right;\n",
       "    }\n",
       "</style>\n",
       "<table border=\"1\" class=\"dataframe\">\n",
       "  <thead>\n",
       "    <tr style=\"text-align: right;\">\n",
       "      <th></th>\n",
       "      <th>ID</th>\n",
       "      <th>Hayatta_Kalma</th>\n",
       "      <th>Sinif</th>\n",
       "      <th>Isim</th>\n",
       "      <th>Cinsiyet</th>\n",
       "      <th>Yas</th>\n",
       "      <th>Kardes_Es</th>\n",
       "      <th>Ebeveyn_Cocuk</th>\n",
       "      <th>Bilet</th>\n",
       "      <th>Ucret</th>\n",
       "      <th>Kabin</th>\n",
       "      <th>Liman</th>\n",
       "    </tr>\n",
       "  </thead>\n",
       "  <tbody>\n",
       "    <tr>\n",
       "      <th>5</th>\n",
       "      <td>6</td>\n",
       "      <td>0</td>\n",
       "      <td>3</td>\n",
       "      <td>Moran, Mr. James</td>\n",
       "      <td>male</td>\n",
       "      <td>NaN</td>\n",
       "      <td>0</td>\n",
       "      <td>0</td>\n",
       "      <td>330877</td>\n",
       "      <td>8.4583</td>\n",
       "      <td>NaN</td>\n",
       "      <td>Q</td>\n",
       "    </tr>\n",
       "    <tr>\n",
       "      <th>17</th>\n",
       "      <td>18</td>\n",
       "      <td>1</td>\n",
       "      <td>2</td>\n",
       "      <td>Williams, Mr. Charles Eugene</td>\n",
       "      <td>male</td>\n",
       "      <td>NaN</td>\n",
       "      <td>0</td>\n",
       "      <td>0</td>\n",
       "      <td>244373</td>\n",
       "      <td>13.0000</td>\n",
       "      <td>NaN</td>\n",
       "      <td>S</td>\n",
       "    </tr>\n",
       "    <tr>\n",
       "      <th>19</th>\n",
       "      <td>20</td>\n",
       "      <td>1</td>\n",
       "      <td>3</td>\n",
       "      <td>Masselmani, Mrs. Fatima</td>\n",
       "      <td>female</td>\n",
       "      <td>NaN</td>\n",
       "      <td>0</td>\n",
       "      <td>0</td>\n",
       "      <td>2649</td>\n",
       "      <td>7.2250</td>\n",
       "      <td>NaN</td>\n",
       "      <td>C</td>\n",
       "    </tr>\n",
       "    <tr>\n",
       "      <th>26</th>\n",
       "      <td>27</td>\n",
       "      <td>0</td>\n",
       "      <td>3</td>\n",
       "      <td>Emir, Mr. Farred Chehab</td>\n",
       "      <td>male</td>\n",
       "      <td>NaN</td>\n",
       "      <td>0</td>\n",
       "      <td>0</td>\n",
       "      <td>2631</td>\n",
       "      <td>7.2250</td>\n",
       "      <td>NaN</td>\n",
       "      <td>C</td>\n",
       "    </tr>\n",
       "    <tr>\n",
       "      <th>28</th>\n",
       "      <td>29</td>\n",
       "      <td>1</td>\n",
       "      <td>3</td>\n",
       "      <td>O'Dwyer, Miss. Ellen \"Nellie\"</td>\n",
       "      <td>female</td>\n",
       "      <td>NaN</td>\n",
       "      <td>0</td>\n",
       "      <td>0</td>\n",
       "      <td>330959</td>\n",
       "      <td>7.8792</td>\n",
       "      <td>NaN</td>\n",
       "      <td>Q</td>\n",
       "    </tr>\n",
       "    <tr>\n",
       "      <th>...</th>\n",
       "      <td>...</td>\n",
       "      <td>...</td>\n",
       "      <td>...</td>\n",
       "      <td>...</td>\n",
       "      <td>...</td>\n",
       "      <td>...</td>\n",
       "      <td>...</td>\n",
       "      <td>...</td>\n",
       "      <td>...</td>\n",
       "      <td>...</td>\n",
       "      <td>...</td>\n",
       "      <td>...</td>\n",
       "    </tr>\n",
       "    <tr>\n",
       "      <th>859</th>\n",
       "      <td>860</td>\n",
       "      <td>0</td>\n",
       "      <td>3</td>\n",
       "      <td>Razi, Mr. Raihed</td>\n",
       "      <td>male</td>\n",
       "      <td>NaN</td>\n",
       "      <td>0</td>\n",
       "      <td>0</td>\n",
       "      <td>2629</td>\n",
       "      <td>7.2292</td>\n",
       "      <td>NaN</td>\n",
       "      <td>C</td>\n",
       "    </tr>\n",
       "    <tr>\n",
       "      <th>863</th>\n",
       "      <td>864</td>\n",
       "      <td>0</td>\n",
       "      <td>3</td>\n",
       "      <td>Sage, Miss. Dorothy Edith \"Dolly\"</td>\n",
       "      <td>female</td>\n",
       "      <td>NaN</td>\n",
       "      <td>8</td>\n",
       "      <td>2</td>\n",
       "      <td>CA. 2343</td>\n",
       "      <td>69.5500</td>\n",
       "      <td>NaN</td>\n",
       "      <td>S</td>\n",
       "    </tr>\n",
       "    <tr>\n",
       "      <th>868</th>\n",
       "      <td>869</td>\n",
       "      <td>0</td>\n",
       "      <td>3</td>\n",
       "      <td>van Melkebeke, Mr. Philemon</td>\n",
       "      <td>male</td>\n",
       "      <td>NaN</td>\n",
       "      <td>0</td>\n",
       "      <td>0</td>\n",
       "      <td>345777</td>\n",
       "      <td>9.5000</td>\n",
       "      <td>NaN</td>\n",
       "      <td>S</td>\n",
       "    </tr>\n",
       "    <tr>\n",
       "      <th>878</th>\n",
       "      <td>879</td>\n",
       "      <td>0</td>\n",
       "      <td>3</td>\n",
       "      <td>Laleff, Mr. Kristo</td>\n",
       "      <td>male</td>\n",
       "      <td>NaN</td>\n",
       "      <td>0</td>\n",
       "      <td>0</td>\n",
       "      <td>349217</td>\n",
       "      <td>7.8958</td>\n",
       "      <td>NaN</td>\n",
       "      <td>S</td>\n",
       "    </tr>\n",
       "    <tr>\n",
       "      <th>888</th>\n",
       "      <td>889</td>\n",
       "      <td>0</td>\n",
       "      <td>3</td>\n",
       "      <td>Johnston, Miss. Catherine Helen \"Carrie\"</td>\n",
       "      <td>female</td>\n",
       "      <td>NaN</td>\n",
       "      <td>1</td>\n",
       "      <td>2</td>\n",
       "      <td>W./C. 6607</td>\n",
       "      <td>23.4500</td>\n",
       "      <td>NaN</td>\n",
       "      <td>S</td>\n",
       "    </tr>\n",
       "  </tbody>\n",
       "</table>\n",
       "<p>177 rows × 12 columns</p>\n",
       "</div>"
      ],
      "text/plain": [
       "      ID  Hayatta_Kalma  Sinif                                      Isim  \\\n",
       "5      6              0      3                          Moran, Mr. James   \n",
       "17    18              1      2              Williams, Mr. Charles Eugene   \n",
       "19    20              1      3                   Masselmani, Mrs. Fatima   \n",
       "26    27              0      3                   Emir, Mr. Farred Chehab   \n",
       "28    29              1      3             O'Dwyer, Miss. Ellen \"Nellie\"   \n",
       "..   ...            ...    ...                                       ...   \n",
       "859  860              0      3                          Razi, Mr. Raihed   \n",
       "863  864              0      3         Sage, Miss. Dorothy Edith \"Dolly\"   \n",
       "868  869              0      3               van Melkebeke, Mr. Philemon   \n",
       "878  879              0      3                        Laleff, Mr. Kristo   \n",
       "888  889              0      3  Johnston, Miss. Catherine Helen \"Carrie\"   \n",
       "\n",
       "    Cinsiyet  Yas  Kardes_Es  Ebeveyn_Cocuk       Bilet    Ucret Kabin Liman  \n",
       "5       male  NaN          0              0      330877   8.4583   NaN     Q  \n",
       "17      male  NaN          0              0      244373  13.0000   NaN     S  \n",
       "19    female  NaN          0              0        2649   7.2250   NaN     C  \n",
       "26      male  NaN          0              0        2631   7.2250   NaN     C  \n",
       "28    female  NaN          0              0      330959   7.8792   NaN     Q  \n",
       "..       ...  ...        ...            ...         ...      ...   ...   ...  \n",
       "859     male  NaN          0              0        2629   7.2292   NaN     C  \n",
       "863   female  NaN          8              2    CA. 2343  69.5500   NaN     S  \n",
       "868     male  NaN          0              0      345777   9.5000   NaN     S  \n",
       "878     male  NaN          0              0      349217   7.8958   NaN     S  \n",
       "888   female  NaN          1              2  W./C. 6607  23.4500   NaN     S  \n",
       "\n",
       "[177 rows x 12 columns]"
      ]
     },
     "execution_count": 368,
     "metadata": {},
     "output_type": "execute_result"
    }
   ],
   "source": [
    "# yaş değişkenindeki kayıp veriyi inceleyelim\n",
    "df[df[\"Yas\"].isnull()]"
   ]
  },
  {
   "cell_type": "code",
   "execution_count": 369,
   "id": "96f2f562-b37b-447f-b59c-de1906931c55",
   "metadata": {},
   "outputs": [
    {
     "data": {
      "image/png": "[encoded data removed]",
      "text/plain": [
       "<Figure size 511.111x500 with 1 Axes>"
      ]
     },
     "metadata": {},
     "output_type": "display_data"
    }
   ],
   "source": [
    "sns.catplot(x = \"Cinsiyet\", y = \"Yas\", data = df, kind = \"box\")\n",
    "plt.show()"
   ]
  },
  {
   "cell_type": "markdown",
   "id": "d3d08d10-f1b3-4962-8997-2774f915b5fc",
   "metadata": {},
   "source": [
    "* Cinsiyet, yaş tahmini için bilgilendirici değil, yaş dağılımı aynı görünüyor."
   ]
  },
  {
   "cell_type": "code",
   "execution_count": 371,
   "id": "9a195b1a-7dec-4585-88e5-6b1dfa66f8cb",
   "metadata": {},
   "outputs": [
    {
     "data": {
      "image/png": "[encoded data removed]",
      "text/plain": [
       "<Figure size 557.75x500 with 1 Axes>"
      ]
     },
     "metadata": {},
     "output_type": "display_data"
    }
   ],
   "source": [
    "sns.catplot(x = \"Cinsiyet\", y = \"Yas\", hue = \"Sinif\", data = df, kind = \"box\")\n",
    "plt.show()"
   ]
  },
  {
   "cell_type": "markdown",
   "id": "6cfb62bd-57f9-42fa-94cb-6078ff4d35ff",
   "metadata": {},
   "source": [
    "* 1.sınıf yolcular 2. sınıftan, 2. sınıf yolcular 3. sınıftan yaş olarak büyüktür."
   ]
  },
  {
   "cell_type": "code",
   "execution_count": 373,
   "id": "1a23d054-beb3-4204-a73a-d13ce7b569c9",
   "metadata": {},
   "outputs": [
    {
     "data": {
      "image/png": "[encoded data removed]",
      "text/plain": [
       "<Figure size 511.111x500 with 1 Axes>"
      ]
     },
     "metadata": {},
     "output_type": "display_data"
    },
    {
     "data": {
      "image/png": "[encoded data removed]",
      "text/plain": [
       "<Figure size 511.111x500 with 1 Axes>"
      ]
     },
     "metadata": {},
     "output_type": "display_data"
    }
   ],
   "source": [
    "sns.catplot(x = \"Ebeveyn_Cocuk\", y = \"Yas\", data = df, kind = \"box\")\n",
    "sns.catplot(x = \"Kardes_Es\", y = \"Yas\", data = df, kind = \"box\")\n",
    "plt.show()"
   ]
  },
  {
   "cell_type": "markdown",
   "id": "062a690c-4c7a-4fea-9045-64a4417e78bf",
   "metadata": {},
   "source": [
    "* Yaş değişkeni, ebeveyn/çocuk ve kardeş/eş değişkenlerine göre farklılık göstermektedir."
   ]
  },
  {
   "cell_type": "code",
   "execution_count": 375,
   "id": "25600722-c420-4d3f-8201-cab6f3100e4c",
   "metadata": {},
   "outputs": [
    {
     "data": {
      "image/png": "[encoded data removed]",
      "text/plain": [
       "<Figure size 640x480 with 2 Axes>"
      ]
     },
     "metadata": {},
     "output_type": "display_data"
    }
   ],
   "source": [
    "sns.heatmap(df[[\"Yas\", \"Kardes_Es\", \"Ebeveyn_Cocuk\", \"Sinif\"]].corr(), annot = True)\n",
    "plt.show()"
   ]
  },
  {
   "cell_type": "code",
   "execution_count": 376,
   "id": "7696291a-c098-476a-a7fe-2af21b6967f3",
   "metadata": {},
   "outputs": [],
   "source": [
    "index_nan_age = list(df[\"Yas\"][df[\"Yas\"].isnull()].index)\n",
    "for i in index_nan_age:\n",
    "    age_pred = df[\"Yas\"][((df[\"Kardes_Es\"] == df.iloc[i][\"Kardes_Es\"]) &(df[\"Ebeveyn_Cocuk\"] == df.iloc[i][\"Ebeveyn_Cocuk\"])& (df[\"Sinif\"] == df.iloc[i][\"Sinif\"]))].median()\n",
    "    age_med = df[\"Yas\"].median()\n",
    "    if not np.isnan(age_pred):\n",
    "        df[\"Yas\"].iloc[i] = age_pred\n",
    "    else:\n",
    "        df[\"Yas\"].iloc[i] = age_med "
   ]
  },
  {
   "cell_type": "code",
   "execution_count": 377,
   "id": "aad56b99-89da-4e79-bd6e-25d811c5623d",
   "metadata": {},
   "outputs": [
    {
     "data": {
      "text/html": [
       "<div>\n",
       "<style scoped>\n",
       "    .dataframe tbody tr th:only-of-type {\n",
       "        vertical-align: middle;\n",
       "    }\n",
       "\n",
       "    .dataframe tbody tr th {\n",
       "        vertical-align: top;\n",
       "    }\n",
       "\n",
       "    .dataframe thead th {\n",
       "        text-align: right;\n",
       "    }\n",
       "</style>\n",
       "<table border=\"1\" class=\"dataframe\">\n",
       "  <thead>\n",
       "    <tr style=\"text-align: right;\">\n",
       "      <th></th>\n",
       "      <th>ID</th>\n",
       "      <th>Hayatta_Kalma</th>\n",
       "      <th>Sinif</th>\n",
       "      <th>Isim</th>\n",
       "      <th>Cinsiyet</th>\n",
       "      <th>Yas</th>\n",
       "      <th>Kardes_Es</th>\n",
       "      <th>Ebeveyn_Cocuk</th>\n",
       "      <th>Bilet</th>\n",
       "      <th>Ucret</th>\n",
       "      <th>Kabin</th>\n",
       "      <th>Liman</th>\n",
       "    </tr>\n",
       "  </thead>\n",
       "  <tbody>\n",
       "  </tbody>\n",
       "</table>\n",
       "</div>"
      ],
      "text/plain": [
       "Empty DataFrame\n",
       "Columns: [ID, Hayatta_Kalma, Sinif, Isim, Cinsiyet, Yas, Kardes_Es, Ebeveyn_Cocuk, Bilet, Ucret, Kabin, Liman]\n",
       "Index: []"
      ]
     },
     "execution_count": 377,
     "metadata": {},
     "output_type": "execute_result"
    }
   ],
   "source": [
    "df[df[\"Yas\"].isnull()]"
   ]
  },
  {
   "cell_type": "markdown",
   "id": "4c5fa41c-6637-420c-b77b-d3d74bcac8a6",
   "metadata": {},
   "source": [
    "## Özellik Mühendisliği"
   ]
  },
  {
   "cell_type": "markdown",
   "id": "f31dcf25-e2a2-4b05-9c2a-fa0622c6a380",
   "metadata": {},
   "source": [
    "* Özellik mühendisliği, veri madenciliği teknikleri yoluyla ham verilerden özellikleri çıkarmak için alan bilgisini kullanma sürecidir.\n",
    "* Bu özellikler, makine öğrenimi algoritmalarının performansını iyileştirmek için kullanılabilir.\n",
    "* Özellik mühendisliği, uygulamalı makine öğreniminin kendisi olarak düşünülebilir."
   ]
  },
  {
   "cell_type": "markdown",
   "id": "81dd9942-241e-40d5-aeef-52e74adb965e",
   "metadata": {},
   "source": [
    "### İsim, Ünvan"
   ]
  },
  {
   "cell_type": "markdown",
   "id": "1d4412a8-9270-4d75-85ed-e172f3f2f1ad",
   "metadata": {},
   "source": [
    "* Yolcuların hayatta kalıp kalmadığını anlama noktasında, yolcuların isimleri bize yardımcı olmayacaktır ama o zamanın şartlarından kaynaklı olarak yolcuların ünvanları sınıflandırma konusunda kullanabiliriz."
   ]
  },
  {
   "cell_type": "code",
   "execution_count": 382,
   "id": "2c76b392-9e4e-4fa5-a0f0-f0923eb3a215",
   "metadata": {},
   "outputs": [
    {
     "data": {
      "text/plain": [
       "0                              Braund, Mr. Owen Harris\n",
       "1    Cumings, Mrs. John Bradley (Florence Briggs Th...\n",
       "2                               Heikkinen, Miss. Laina\n",
       "3         Futrelle, Mrs. Jacques Heath (Lily May Peel)\n",
       "4                             Allen, Mr. William Henry\n",
       "5                                     Moran, Mr. James\n",
       "6                              McCarthy, Mr. Timothy J\n",
       "7                       Palsson, Master. Gosta Leonard\n",
       "8    Johnson, Mrs. Oscar W (Elisabeth Vilhelmina Berg)\n",
       "9                  Nasser, Mrs. Nicholas (Adele Achem)\n",
       "Name: Isim, dtype: object"
      ]
     },
     "execution_count": 382,
     "metadata": {},
     "output_type": "execute_result"
    }
   ],
   "source": [
    "df[\"Isim\"].head(10)"
   ]
  },
  {
   "cell_type": "code",
   "execution_count": 383,
   "id": "ab82cf17-e62c-490c-b3e9-16d3da0a33e3",
   "metadata": {},
   "outputs": [
    {
     "data": {
      "text/plain": [
       "0        Mr\n",
       "1       Mrs\n",
       "2      Miss\n",
       "3       Mrs\n",
       "4        Mr\n",
       "5        Mr\n",
       "6        Mr\n",
       "7    Master\n",
       "8       Mrs\n",
       "9       Mrs\n",
       "Name: Unvan, dtype: object"
      ]
     },
     "execution_count": 383,
     "metadata": {},
     "output_type": "execute_result"
    }
   ],
   "source": [
    "name = df[\"Isim\"]\n",
    "df[\"Unvan\"] = [i.split(\".\")[0].split(\",\")[-1].strip() for i in name]\n",
    "df[\"Unvan\"].head(10)"
   ]
  },
  {
   "cell_type": "code",
   "execution_count": 384,
   "id": "9880a30e-0f72-4f80-8c69-894889e29d00",
   "metadata": {},
   "outputs": [
    {
     "data": {
      "image/png": "[encoded data removed]",
      "text/plain": [
       "<Figure size 640x480 with 1 Axes>"
      ]
     },
     "metadata": {},
     "output_type": "display_data"
    }
   ],
   "source": [
    "sns.countplot(x = \"Unvan\", data = df)\n",
    "plt.xticks(rotation = 60)\n",
    "plt.show()"
   ]
  },
  {
   "cell_type": "code",
   "execution_count": 385,
   "id": "42951c2b-764b-470a-8d4e-3b21a86d507a",
   "metadata": {},
   "outputs": [
    {
     "data": {
      "text/plain": [
       "0     2\n",
       "1     1\n",
       "2     1\n",
       "3     1\n",
       "4     2\n",
       "5     2\n",
       "6     2\n",
       "7     0\n",
       "8     1\n",
       "9     1\n",
       "10    1\n",
       "11    1\n",
       "12    2\n",
       "13    2\n",
       "14    1\n",
       "15    1\n",
       "16    0\n",
       "17    2\n",
       "18    1\n",
       "19    1\n",
       "Name: Unvan, dtype: int64"
      ]
     },
     "execution_count": 385,
     "metadata": {},
     "output_type": "execute_result"
    }
   ],
   "source": [
    "# ünvanların bazıları çok nadir olduğu için, ünvanların hepsini kategorik hale getirelim\n",
    "df[\"Unvan\"] = df[\"Unvan\"].replace([\"Lady\",\"the Countess\",\"Capt\",\"Col\",\"Don\",\"Dr\",\"Major\",\"Rev\",\"Sir\",\"Jonkheer\",\"Dona\"],\"other\")\n",
    "df[\"Unvan\"] = [0 if i == \"Master\" else 1 if i == \"Miss\" or i == \"Ms\" or i == \"Mlle\" or i == \"Mrs\" else 2 if i == \"Mr\" else 3 for i in df[\"Unvan\"]]\n",
    "df[\"Unvan\"].head(20)"
   ]
  },
  {
   "cell_type": "code",
   "execution_count": 386,
   "id": "b0129f5f-f85f-45d3-b451-d1a14d8e3771",
   "metadata": {},
   "outputs": [
    {
     "data": {
      "image/png": "[encoded data removed]",
      "text/plain": [
       "<Figure size 640x480 with 1 Axes>"
      ]
     },
     "metadata": {},
     "output_type": "display_data"
    }
   ],
   "source": [
    "# kategorik hale getirmiş olduğumuz unvanları görselleştirelim\n",
    "sns.countplot(x = \"Unvan\", data = df)\n",
    "plt.xticks(rotation = 60)\n",
    "plt.show()"
   ]
  },
  {
   "cell_type": "code",
   "execution_count": 387,
   "id": "eb69dbe9-d0ad-4a98-b7cc-6370538358c0",
   "metadata": {},
   "outputs": [
    {
     "data": {
      "image/png": "[encoded data removed]",
      "text/plain": [
       "<Figure size 511.111x500 with 1 Axes>"
      ]
     },
     "metadata": {},
     "output_type": "display_data"
    }
   ],
   "source": [
    "# unvanlar ve hayatta kalma arasındaki ilişkiye bakalım\n",
    "g = sns.catplot(x = \"Unvan\", y = \"Hayatta_Kalma\", data = df, kind = \"bar\")\n",
    "g.set_xticklabels([\"Master\", \"Mrs\", \"Mr\", \"Other\"])\n",
    "g.set_ylabels(\"Hayatta Kalma\")\n",
    "plt.show()"
   ]
  },
  {
   "cell_type": "code",
   "execution_count": 388,
   "id": "857eef80-07ae-45a3-b17e-812f258f86c3",
   "metadata": {},
   "outputs": [
    {
     "data": {
      "text/html": [
       "<div>\n",
       "<style scoped>\n",
       "    .dataframe tbody tr th:only-of-type {\n",
       "        vertical-align: middle;\n",
       "    }\n",
       "\n",
       "    .dataframe tbody tr th {\n",
       "        vertical-align: top;\n",
       "    }\n",
       "\n",
       "    .dataframe thead th {\n",
       "        text-align: right;\n",
       "    }\n",
       "</style>\n",
       "<table border=\"1\" class=\"dataframe\">\n",
       "  <thead>\n",
       "    <tr style=\"text-align: right;\">\n",
       "      <th></th>\n",
       "      <th>ID</th>\n",
       "      <th>Hayatta_Kalma</th>\n",
       "      <th>Sinif</th>\n",
       "      <th>Cinsiyet</th>\n",
       "      <th>Yas</th>\n",
       "      <th>Kardes_Es</th>\n",
       "      <th>Ebeveyn_Cocuk</th>\n",
       "      <th>Bilet</th>\n",
       "      <th>Ucret</th>\n",
       "      <th>Kabin</th>\n",
       "      <th>Liman</th>\n",
       "      <th>Unvan</th>\n",
       "    </tr>\n",
       "  </thead>\n",
       "  <tbody>\n",
       "    <tr>\n",
       "      <th>0</th>\n",
       "      <td>1</td>\n",
       "      <td>0</td>\n",
       "      <td>3</td>\n",
       "      <td>male</td>\n",
       "      <td>22.0</td>\n",
       "      <td>1</td>\n",
       "      <td>0</td>\n",
       "      <td>A/5 21171</td>\n",
       "      <td>7.2500</td>\n",
       "      <td>NaN</td>\n",
       "      <td>S</td>\n",
       "      <td>2</td>\n",
       "    </tr>\n",
       "    <tr>\n",
       "      <th>1</th>\n",
       "      <td>2</td>\n",
       "      <td>1</td>\n",
       "      <td>1</td>\n",
       "      <td>female</td>\n",
       "      <td>38.0</td>\n",
       "      <td>1</td>\n",
       "      <td>0</td>\n",
       "      <td>PC 17599</td>\n",
       "      <td>71.2833</td>\n",
       "      <td>C85</td>\n",
       "      <td>C</td>\n",
       "      <td>1</td>\n",
       "    </tr>\n",
       "    <tr>\n",
       "      <th>2</th>\n",
       "      <td>3</td>\n",
       "      <td>1</td>\n",
       "      <td>3</td>\n",
       "      <td>female</td>\n",
       "      <td>26.0</td>\n",
       "      <td>0</td>\n",
       "      <td>0</td>\n",
       "      <td>STON/O2. 3101282</td>\n",
       "      <td>7.9250</td>\n",
       "      <td>NaN</td>\n",
       "      <td>S</td>\n",
       "      <td>1</td>\n",
       "    </tr>\n",
       "  </tbody>\n",
       "</table>\n",
       "</div>"
      ],
      "text/plain": [
       "   ID  Hayatta_Kalma  Sinif Cinsiyet   Yas  Kardes_Es  Ebeveyn_Cocuk  \\\n",
       "0   1              0      3     male  22.0          1              0   \n",
       "1   2              1      1   female  38.0          1              0   \n",
       "2   3              1      3   female  26.0          0              0   \n",
       "\n",
       "              Bilet    Ucret Kabin Liman  Unvan  \n",
       "0         A/5 21171   7.2500   NaN     S      2  \n",
       "1          PC 17599  71.2833   C85     C      1  \n",
       "2  STON/O2. 3101282   7.9250   NaN     S      1  "
      ]
     },
     "execution_count": 388,
     "metadata": {},
     "output_type": "execute_result"
    }
   ],
   "source": [
    "# unvan için yeni bir sütun tanımladığımız için isimleri çıkartabiliriz\n",
    "df.drop(labels = [\"Isim\"], axis = 1, inplace = True)\n",
    "df.head(3)"
   ]
  },
  {
   "cell_type": "code",
   "execution_count": 389,
   "id": "ad1b16b5-43ac-4a4a-ab50-f838a1b7c72b",
   "metadata": {},
   "outputs": [
    {
     "data": {
      "text/html": [
       "<div>\n",
       "<style scoped>\n",
       "    .dataframe tbody tr th:only-of-type {\n",
       "        vertical-align: middle;\n",
       "    }\n",
       "\n",
       "    .dataframe tbody tr th {\n",
       "        vertical-align: top;\n",
       "    }\n",
       "\n",
       "    .dataframe thead th {\n",
       "        text-align: right;\n",
       "    }\n",
       "</style>\n",
       "<table border=\"1\" class=\"dataframe\">\n",
       "  <thead>\n",
       "    <tr style=\"text-align: right;\">\n",
       "      <th></th>\n",
       "      <th>ID</th>\n",
       "      <th>Hayatta_Kalma</th>\n",
       "      <th>Sinif</th>\n",
       "      <th>Cinsiyet</th>\n",
       "      <th>Yas</th>\n",
       "      <th>Kardes_Es</th>\n",
       "      <th>Ebeveyn_Cocuk</th>\n",
       "      <th>Bilet</th>\n",
       "      <th>Ucret</th>\n",
       "      <th>Kabin</th>\n",
       "      <th>Liman</th>\n",
       "      <th>Unvan_0</th>\n",
       "      <th>Unvan_1</th>\n",
       "      <th>Unvan_2</th>\n",
       "      <th>Unvan_3</th>\n",
       "    </tr>\n",
       "  </thead>\n",
       "  <tbody>\n",
       "    <tr>\n",
       "      <th>0</th>\n",
       "      <td>1</td>\n",
       "      <td>0</td>\n",
       "      <td>3</td>\n",
       "      <td>male</td>\n",
       "      <td>22.0</td>\n",
       "      <td>1</td>\n",
       "      <td>0</td>\n",
       "      <td>A/5 21171</td>\n",
       "      <td>7.2500</td>\n",
       "      <td>NaN</td>\n",
       "      <td>S</td>\n",
       "      <td>False</td>\n",
       "      <td>False</td>\n",
       "      <td>True</td>\n",
       "      <td>False</td>\n",
       "    </tr>\n",
       "    <tr>\n",
       "      <th>1</th>\n",
       "      <td>2</td>\n",
       "      <td>1</td>\n",
       "      <td>1</td>\n",
       "      <td>female</td>\n",
       "      <td>38.0</td>\n",
       "      <td>1</td>\n",
       "      <td>0</td>\n",
       "      <td>PC 17599</td>\n",
       "      <td>71.2833</td>\n",
       "      <td>C85</td>\n",
       "      <td>C</td>\n",
       "      <td>False</td>\n",
       "      <td>True</td>\n",
       "      <td>False</td>\n",
       "      <td>False</td>\n",
       "    </tr>\n",
       "    <tr>\n",
       "      <th>2</th>\n",
       "      <td>3</td>\n",
       "      <td>1</td>\n",
       "      <td>3</td>\n",
       "      <td>female</td>\n",
       "      <td>26.0</td>\n",
       "      <td>0</td>\n",
       "      <td>0</td>\n",
       "      <td>STON/O2. 3101282</td>\n",
       "      <td>7.9250</td>\n",
       "      <td>NaN</td>\n",
       "      <td>S</td>\n",
       "      <td>False</td>\n",
       "      <td>True</td>\n",
       "      <td>False</td>\n",
       "      <td>False</td>\n",
       "    </tr>\n",
       "  </tbody>\n",
       "</table>\n",
       "</div>"
      ],
      "text/plain": [
       "   ID  Hayatta_Kalma  Sinif Cinsiyet   Yas  Kardes_Es  Ebeveyn_Cocuk  \\\n",
       "0   1              0      3     male  22.0          1              0   \n",
       "1   2              1      1   female  38.0          1              0   \n",
       "2   3              1      3   female  26.0          0              0   \n",
       "\n",
       "              Bilet    Ucret Kabin Liman  Unvan_0  Unvan_1  Unvan_2  Unvan_3  \n",
       "0         A/5 21171   7.2500   NaN     S    False    False     True    False  \n",
       "1          PC 17599  71.2833   C85     C    False     True    False    False  \n",
       "2  STON/O2. 3101282   7.9250   NaN     S    False     True    False    False  "
      ]
     },
     "execution_count": 389,
     "metadata": {},
     "output_type": "execute_result"
    }
   ],
   "source": [
    "# getdummies metodunu, unvan değişkeni içerisinde bulunan kategorik veriyi one-hot şeklinde temsil eder.\n",
    "df = pd.get_dummies(df, columns = [\"Unvan\"])\n",
    "df.head(3)"
   ]
  },
  {
   "cell_type": "markdown",
   "id": "a3f2ebbf-6a24-44ce-ae0c-c7abe1c8e9db",
   "metadata": {},
   "source": [
    "### Aile Boyutu"
   ]
  },
  {
   "cell_type": "markdown",
   "id": "384a81a2-8a85-44f1-baff-b775f8a16f7f",
   "metadata": {},
   "source": [
    "* Hayatta kalma ile kardes_es ve ebeveyn_cocuk değişkenlerinin ilişkisi olduğunu incelemiştik.\n",
    "* Bu bölümde kardes_es ve ebeveyn_cocuk değişkenlerini birleştirip tek bir değişken elde edeceğiz."
   ]
  },
  {
   "cell_type": "code",
   "execution_count": 392,
   "id": "ccd67424-8181-4fca-841a-3c3540e2856f",
   "metadata": {},
   "outputs": [
    {
     "data": {
      "text/html": [
       "<div>\n",
       "<style scoped>\n",
       "    .dataframe tbody tr th:only-of-type {\n",
       "        vertical-align: middle;\n",
       "    }\n",
       "\n",
       "    .dataframe tbody tr th {\n",
       "        vertical-align: top;\n",
       "    }\n",
       "\n",
       "    .dataframe thead th {\n",
       "        text-align: right;\n",
       "    }\n",
       "</style>\n",
       "<table border=\"1\" class=\"dataframe\">\n",
       "  <thead>\n",
       "    <tr style=\"text-align: right;\">\n",
       "      <th></th>\n",
       "      <th>ID</th>\n",
       "      <th>Hayatta_Kalma</th>\n",
       "      <th>Sinif</th>\n",
       "      <th>Cinsiyet</th>\n",
       "      <th>Yas</th>\n",
       "      <th>Kardes_Es</th>\n",
       "      <th>Ebeveyn_Cocuk</th>\n",
       "      <th>Bilet</th>\n",
       "      <th>Ucret</th>\n",
       "      <th>Kabin</th>\n",
       "      <th>Liman</th>\n",
       "      <th>Unvan_0</th>\n",
       "      <th>Unvan_1</th>\n",
       "      <th>Unvan_2</th>\n",
       "      <th>Unvan_3</th>\n",
       "    </tr>\n",
       "  </thead>\n",
       "  <tbody>\n",
       "    <tr>\n",
       "      <th>0</th>\n",
       "      <td>1</td>\n",
       "      <td>0</td>\n",
       "      <td>3</td>\n",
       "      <td>male</td>\n",
       "      <td>22.0</td>\n",
       "      <td>1</td>\n",
       "      <td>0</td>\n",
       "      <td>A/5 21171</td>\n",
       "      <td>7.2500</td>\n",
       "      <td>NaN</td>\n",
       "      <td>S</td>\n",
       "      <td>False</td>\n",
       "      <td>False</td>\n",
       "      <td>True</td>\n",
       "      <td>False</td>\n",
       "    </tr>\n",
       "    <tr>\n",
       "      <th>1</th>\n",
       "      <td>2</td>\n",
       "      <td>1</td>\n",
       "      <td>1</td>\n",
       "      <td>female</td>\n",
       "      <td>38.0</td>\n",
       "      <td>1</td>\n",
       "      <td>0</td>\n",
       "      <td>PC 17599</td>\n",
       "      <td>71.2833</td>\n",
       "      <td>C85</td>\n",
       "      <td>C</td>\n",
       "      <td>False</td>\n",
       "      <td>True</td>\n",
       "      <td>False</td>\n",
       "      <td>False</td>\n",
       "    </tr>\n",
       "    <tr>\n",
       "      <th>2</th>\n",
       "      <td>3</td>\n",
       "      <td>1</td>\n",
       "      <td>3</td>\n",
       "      <td>female</td>\n",
       "      <td>26.0</td>\n",
       "      <td>0</td>\n",
       "      <td>0</td>\n",
       "      <td>STON/O2. 3101282</td>\n",
       "      <td>7.9250</td>\n",
       "      <td>NaN</td>\n",
       "      <td>S</td>\n",
       "      <td>False</td>\n",
       "      <td>True</td>\n",
       "      <td>False</td>\n",
       "      <td>False</td>\n",
       "    </tr>\n",
       "  </tbody>\n",
       "</table>\n",
       "</div>"
      ],
      "text/plain": [
       "   ID  Hayatta_Kalma  Sinif Cinsiyet   Yas  Kardes_Es  Ebeveyn_Cocuk  \\\n",
       "0   1              0      3     male  22.0          1              0   \n",
       "1   2              1      1   female  38.0          1              0   \n",
       "2   3              1      3   female  26.0          0              0   \n",
       "\n",
       "              Bilet    Ucret Kabin Liman  Unvan_0  Unvan_1  Unvan_2  Unvan_3  \n",
       "0         A/5 21171   7.2500   NaN     S    False    False     True    False  \n",
       "1          PC 17599  71.2833   C85     C    False     True    False    False  \n",
       "2  STON/O2. 3101282   7.9250   NaN     S    False     True    False    False  "
      ]
     },
     "execution_count": 392,
     "metadata": {},
     "output_type": "execute_result"
    }
   ],
   "source": [
    "df.head(3)"
   ]
  },
  {
   "cell_type": "code",
   "execution_count": 393,
   "id": "a2f20013-1828-476b-bbb9-2748693ad9a1",
   "metadata": {},
   "outputs": [
    {
     "data": {
      "text/html": [
       "<div>\n",
       "<style scoped>\n",
       "    .dataframe tbody tr th:only-of-type {\n",
       "        vertical-align: middle;\n",
       "    }\n",
       "\n",
       "    .dataframe tbody tr th {\n",
       "        vertical-align: top;\n",
       "    }\n",
       "\n",
       "    .dataframe thead th {\n",
       "        text-align: right;\n",
       "    }\n",
       "</style>\n",
       "<table border=\"1\" class=\"dataframe\">\n",
       "  <thead>\n",
       "    <tr style=\"text-align: right;\">\n",
       "      <th></th>\n",
       "      <th>ID</th>\n",
       "      <th>Hayatta_Kalma</th>\n",
       "      <th>Sinif</th>\n",
       "      <th>Cinsiyet</th>\n",
       "      <th>Yas</th>\n",
       "      <th>Kardes_Es</th>\n",
       "      <th>Ebeveyn_Cocuk</th>\n",
       "      <th>Bilet</th>\n",
       "      <th>Ucret</th>\n",
       "      <th>Kabin</th>\n",
       "      <th>Liman</th>\n",
       "      <th>Unvan_0</th>\n",
       "      <th>Unvan_1</th>\n",
       "      <th>Unvan_2</th>\n",
       "      <th>Unvan_3</th>\n",
       "      <th>aile_boyutu</th>\n",
       "    </tr>\n",
       "  </thead>\n",
       "  <tbody>\n",
       "    <tr>\n",
       "      <th>0</th>\n",
       "      <td>1</td>\n",
       "      <td>0</td>\n",
       "      <td>3</td>\n",
       "      <td>male</td>\n",
       "      <td>22.0</td>\n",
       "      <td>1</td>\n",
       "      <td>0</td>\n",
       "      <td>A/5 21171</td>\n",
       "      <td>7.2500</td>\n",
       "      <td>NaN</td>\n",
       "      <td>S</td>\n",
       "      <td>False</td>\n",
       "      <td>False</td>\n",
       "      <td>True</td>\n",
       "      <td>False</td>\n",
       "      <td>2</td>\n",
       "    </tr>\n",
       "    <tr>\n",
       "      <th>1</th>\n",
       "      <td>2</td>\n",
       "      <td>1</td>\n",
       "      <td>1</td>\n",
       "      <td>female</td>\n",
       "      <td>38.0</td>\n",
       "      <td>1</td>\n",
       "      <td>0</td>\n",
       "      <td>PC 17599</td>\n",
       "      <td>71.2833</td>\n",
       "      <td>C85</td>\n",
       "      <td>C</td>\n",
       "      <td>False</td>\n",
       "      <td>True</td>\n",
       "      <td>False</td>\n",
       "      <td>False</td>\n",
       "      <td>2</td>\n",
       "    </tr>\n",
       "    <tr>\n",
       "      <th>2</th>\n",
       "      <td>3</td>\n",
       "      <td>1</td>\n",
       "      <td>3</td>\n",
       "      <td>female</td>\n",
       "      <td>26.0</td>\n",
       "      <td>0</td>\n",
       "      <td>0</td>\n",
       "      <td>STON/O2. 3101282</td>\n",
       "      <td>7.9250</td>\n",
       "      <td>NaN</td>\n",
       "      <td>S</td>\n",
       "      <td>False</td>\n",
       "      <td>True</td>\n",
       "      <td>False</td>\n",
       "      <td>False</td>\n",
       "      <td>1</td>\n",
       "    </tr>\n",
       "  </tbody>\n",
       "</table>\n",
       "</div>"
      ],
      "text/plain": [
       "   ID  Hayatta_Kalma  Sinif Cinsiyet   Yas  Kardes_Es  Ebeveyn_Cocuk  \\\n",
       "0   1              0      3     male  22.0          1              0   \n",
       "1   2              1      1   female  38.0          1              0   \n",
       "2   3              1      3   female  26.0          0              0   \n",
       "\n",
       "              Bilet    Ucret Kabin Liman  Unvan_0  Unvan_1  Unvan_2  Unvan_3  \\\n",
       "0         A/5 21171   7.2500   NaN     S    False    False     True    False   \n",
       "1          PC 17599  71.2833   C85     C    False     True    False    False   \n",
       "2  STON/O2. 3101282   7.9250   NaN     S    False     True    False    False   \n",
       "\n",
       "   aile_boyutu  \n",
       "0            2  \n",
       "1            2  \n",
       "2            1  "
      ]
     },
     "execution_count": 393,
     "metadata": {},
     "output_type": "execute_result"
    }
   ],
   "source": [
    "# yolcunun kendisi + yolcunun kardes_es sayı değeri + yolcunun ebeveyn_cocuk sayısı\n",
    "df[\"aile_boyutu\"] = df[\"Kardes_Es\"] + df[\"Ebeveyn_Cocuk\"] + 1\n",
    "df.head(3)"
   ]
  },
  {
   "cell_type": "code",
   "execution_count": 394,
   "id": "5c68a13e-88e0-45a0-a321-9d76259ab3f6",
   "metadata": {},
   "outputs": [
    {
     "data": {
      "image/png": "[encoded data removed]",
      "text/plain": [
       "<Figure size 511.111x500 with 1 Axes>"
      ]
     },
     "metadata": {},
     "output_type": "display_data"
    }
   ],
   "source": [
    "# aile boyutunu görselleştirelim\n",
    "g = sns.catplot(x = \"aile_boyutu\", y = \"Hayatta_Kalma\", data = df, kind = \"bar\")\n",
    "g.set_ylabels(\"Hayatta Kalma\")\n",
    "plt.show()"
   ]
  },
  {
   "cell_type": "code",
   "execution_count": 395,
   "id": "53444504-58ab-4ffd-9c4a-e9e391a0ed62",
   "metadata": {},
   "outputs": [
    {
     "data": {
      "text/html": [
       "<div>\n",
       "<style scoped>\n",
       "    .dataframe tbody tr th:only-of-type {\n",
       "        vertical-align: middle;\n",
       "    }\n",
       "\n",
       "    .dataframe tbody tr th {\n",
       "        vertical-align: top;\n",
       "    }\n",
       "\n",
       "    .dataframe thead th {\n",
       "        text-align: right;\n",
       "    }\n",
       "</style>\n",
       "<table border=\"1\" class=\"dataframe\">\n",
       "  <thead>\n",
       "    <tr style=\"text-align: right;\">\n",
       "      <th></th>\n",
       "      <th>ID</th>\n",
       "      <th>Hayatta_Kalma</th>\n",
       "      <th>Sinif</th>\n",
       "      <th>Cinsiyet</th>\n",
       "      <th>Yas</th>\n",
       "      <th>Kardes_Es</th>\n",
       "      <th>Ebeveyn_Cocuk</th>\n",
       "      <th>Bilet</th>\n",
       "      <th>Ucret</th>\n",
       "      <th>Kabin</th>\n",
       "      <th>Liman</th>\n",
       "      <th>Unvan_0</th>\n",
       "      <th>Unvan_1</th>\n",
       "      <th>Unvan_2</th>\n",
       "      <th>Unvan_3</th>\n",
       "      <th>aile_boyutu</th>\n",
       "      <th>aile</th>\n",
       "    </tr>\n",
       "  </thead>\n",
       "  <tbody>\n",
       "    <tr>\n",
       "      <th>0</th>\n",
       "      <td>1</td>\n",
       "      <td>0</td>\n",
       "      <td>3</td>\n",
       "      <td>male</td>\n",
       "      <td>22.0</td>\n",
       "      <td>1</td>\n",
       "      <td>0</td>\n",
       "      <td>A/5 21171</td>\n",
       "      <td>7.2500</td>\n",
       "      <td>NaN</td>\n",
       "      <td>S</td>\n",
       "      <td>False</td>\n",
       "      <td>False</td>\n",
       "      <td>True</td>\n",
       "      <td>False</td>\n",
       "      <td>2</td>\n",
       "      <td>1</td>\n",
       "    </tr>\n",
       "    <tr>\n",
       "      <th>1</th>\n",
       "      <td>2</td>\n",
       "      <td>1</td>\n",
       "      <td>1</td>\n",
       "      <td>female</td>\n",
       "      <td>38.0</td>\n",
       "      <td>1</td>\n",
       "      <td>0</td>\n",
       "      <td>PC 17599</td>\n",
       "      <td>71.2833</td>\n",
       "      <td>C85</td>\n",
       "      <td>C</td>\n",
       "      <td>False</td>\n",
       "      <td>True</td>\n",
       "      <td>False</td>\n",
       "      <td>False</td>\n",
       "      <td>2</td>\n",
       "      <td>1</td>\n",
       "    </tr>\n",
       "    <tr>\n",
       "      <th>2</th>\n",
       "      <td>3</td>\n",
       "      <td>1</td>\n",
       "      <td>3</td>\n",
       "      <td>female</td>\n",
       "      <td>26.0</td>\n",
       "      <td>0</td>\n",
       "      <td>0</td>\n",
       "      <td>STON/O2. 3101282</td>\n",
       "      <td>7.9250</td>\n",
       "      <td>NaN</td>\n",
       "      <td>S</td>\n",
       "      <td>False</td>\n",
       "      <td>True</td>\n",
       "      <td>False</td>\n",
       "      <td>False</td>\n",
       "      <td>1</td>\n",
       "      <td>1</td>\n",
       "    </tr>\n",
       "    <tr>\n",
       "      <th>3</th>\n",
       "      <td>4</td>\n",
       "      <td>1</td>\n",
       "      <td>1</td>\n",
       "      <td>female</td>\n",
       "      <td>35.0</td>\n",
       "      <td>1</td>\n",
       "      <td>0</td>\n",
       "      <td>113803</td>\n",
       "      <td>53.1000</td>\n",
       "      <td>C123</td>\n",
       "      <td>S</td>\n",
       "      <td>False</td>\n",
       "      <td>True</td>\n",
       "      <td>False</td>\n",
       "      <td>False</td>\n",
       "      <td>2</td>\n",
       "      <td>1</td>\n",
       "    </tr>\n",
       "    <tr>\n",
       "      <th>4</th>\n",
       "      <td>5</td>\n",
       "      <td>0</td>\n",
       "      <td>3</td>\n",
       "      <td>male</td>\n",
       "      <td>35.0</td>\n",
       "      <td>0</td>\n",
       "      <td>0</td>\n",
       "      <td>373450</td>\n",
       "      <td>8.0500</td>\n",
       "      <td>NaN</td>\n",
       "      <td>S</td>\n",
       "      <td>False</td>\n",
       "      <td>False</td>\n",
       "      <td>True</td>\n",
       "      <td>False</td>\n",
       "      <td>1</td>\n",
       "      <td>1</td>\n",
       "    </tr>\n",
       "    <tr>\n",
       "      <th>5</th>\n",
       "      <td>6</td>\n",
       "      <td>0</td>\n",
       "      <td>3</td>\n",
       "      <td>male</td>\n",
       "      <td>26.0</td>\n",
       "      <td>0</td>\n",
       "      <td>0</td>\n",
       "      <td>330877</td>\n",
       "      <td>8.4583</td>\n",
       "      <td>NaN</td>\n",
       "      <td>Q</td>\n",
       "      <td>False</td>\n",
       "      <td>False</td>\n",
       "      <td>True</td>\n",
       "      <td>False</td>\n",
       "      <td>1</td>\n",
       "      <td>1</td>\n",
       "    </tr>\n",
       "    <tr>\n",
       "      <th>6</th>\n",
       "      <td>7</td>\n",
       "      <td>0</td>\n",
       "      <td>1</td>\n",
       "      <td>male</td>\n",
       "      <td>54.0</td>\n",
       "      <td>0</td>\n",
       "      <td>0</td>\n",
       "      <td>17463</td>\n",
       "      <td>51.8625</td>\n",
       "      <td>E46</td>\n",
       "      <td>S</td>\n",
       "      <td>False</td>\n",
       "      <td>False</td>\n",
       "      <td>True</td>\n",
       "      <td>False</td>\n",
       "      <td>1</td>\n",
       "      <td>1</td>\n",
       "    </tr>\n",
       "    <tr>\n",
       "      <th>7</th>\n",
       "      <td>8</td>\n",
       "      <td>0</td>\n",
       "      <td>3</td>\n",
       "      <td>male</td>\n",
       "      <td>2.0</td>\n",
       "      <td>3</td>\n",
       "      <td>1</td>\n",
       "      <td>349909</td>\n",
       "      <td>21.0750</td>\n",
       "      <td>NaN</td>\n",
       "      <td>S</td>\n",
       "      <td>True</td>\n",
       "      <td>False</td>\n",
       "      <td>False</td>\n",
       "      <td>False</td>\n",
       "      <td>5</td>\n",
       "      <td>0</td>\n",
       "    </tr>\n",
       "    <tr>\n",
       "      <th>8</th>\n",
       "      <td>9</td>\n",
       "      <td>1</td>\n",
       "      <td>3</td>\n",
       "      <td>female</td>\n",
       "      <td>27.0</td>\n",
       "      <td>0</td>\n",
       "      <td>2</td>\n",
       "      <td>347742</td>\n",
       "      <td>11.1333</td>\n",
       "      <td>NaN</td>\n",
       "      <td>S</td>\n",
       "      <td>False</td>\n",
       "      <td>True</td>\n",
       "      <td>False</td>\n",
       "      <td>False</td>\n",
       "      <td>3</td>\n",
       "      <td>1</td>\n",
       "    </tr>\n",
       "    <tr>\n",
       "      <th>9</th>\n",
       "      <td>10</td>\n",
       "      <td>1</td>\n",
       "      <td>2</td>\n",
       "      <td>female</td>\n",
       "      <td>14.0</td>\n",
       "      <td>1</td>\n",
       "      <td>0</td>\n",
       "      <td>237736</td>\n",
       "      <td>30.0708</td>\n",
       "      <td>NaN</td>\n",
       "      <td>C</td>\n",
       "      <td>False</td>\n",
       "      <td>True</td>\n",
       "      <td>False</td>\n",
       "      <td>False</td>\n",
       "      <td>2</td>\n",
       "      <td>1</td>\n",
       "    </tr>\n",
       "  </tbody>\n",
       "</table>\n",
       "</div>"
      ],
      "text/plain": [
       "   ID  Hayatta_Kalma  Sinif Cinsiyet   Yas  Kardes_Es  Ebeveyn_Cocuk  \\\n",
       "0   1              0      3     male  22.0          1              0   \n",
       "1   2              1      1   female  38.0          1              0   \n",
       "2   3              1      3   female  26.0          0              0   \n",
       "3   4              1      1   female  35.0          1              0   \n",
       "4   5              0      3     male  35.0          0              0   \n",
       "5   6              0      3     male  26.0          0              0   \n",
       "6   7              0      1     male  54.0          0              0   \n",
       "7   8              0      3     male   2.0          3              1   \n",
       "8   9              1      3   female  27.0          0              2   \n",
       "9  10              1      2   female  14.0          1              0   \n",
       "\n",
       "              Bilet    Ucret Kabin Liman  Unvan_0  Unvan_1  Unvan_2  Unvan_3  \\\n",
       "0         A/5 21171   7.2500   NaN     S    False    False     True    False   \n",
       "1          PC 17599  71.2833   C85     C    False     True    False    False   \n",
       "2  STON/O2. 3101282   7.9250   NaN     S    False     True    False    False   \n",
       "3            113803  53.1000  C123     S    False     True    False    False   \n",
       "4            373450   8.0500   NaN     S    False    False     True    False   \n",
       "5            330877   8.4583   NaN     Q    False    False     True    False   \n",
       "6             17463  51.8625   E46     S    False    False     True    False   \n",
       "7            349909  21.0750   NaN     S     True    False    False    False   \n",
       "8            347742  11.1333   NaN     S    False     True    False    False   \n",
       "9            237736  30.0708   NaN     C    False     True    False    False   \n",
       "\n",
       "   aile_boyutu  aile  \n",
       "0            2     1  \n",
       "1            2     1  \n",
       "2            1     1  \n",
       "3            2     1  \n",
       "4            1     1  \n",
       "5            1     1  \n",
       "6            1     1  \n",
       "7            5     0  \n",
       "8            3     1  \n",
       "9            2     1  "
      ]
     },
     "execution_count": 395,
     "metadata": {},
     "output_type": "execute_result"
    }
   ],
   "source": [
    "# aile boyutu değişkenini iki kategorili hale getirelim\n",
    "# eğer aile boyutu < 5 ise 1 değeri verelim; aksi takdirde 0 değeri verelim\n",
    "df[\"aile\"] = [1 if i < 5 else 0 for i in df[\"aile_boyutu\"]]\n",
    "df.head(10)"
   ]
  },
  {
   "cell_type": "code",
   "execution_count": 396,
   "id": "969d082c-ff09-4b8f-8a98-6dca115f8b5b",
   "metadata": {},
   "outputs": [
    {
     "data": {
      "image/png": "[encoded data removed]",
      "text/plain": [
       "<Figure size 640x480 with 1 Axes>"
      ]
     },
     "metadata": {},
     "output_type": "display_data"
    }
   ],
   "source": [
    "# aileyi görselleştirelim\n",
    "sns.countplot(x = \"aile\", data = df)\n",
    "plt.show()"
   ]
  },
  {
   "cell_type": "code",
   "execution_count": 397,
   "id": "0175efc7-d98a-4bec-9b07-69f25a69f4d0",
   "metadata": {},
   "outputs": [
    {
     "data": {
      "image/png": "[encoded data removed]",
      "text/plain": [
       "<Figure size 511.111x500 with 1 Axes>"
      ]
     },
     "metadata": {},
     "output_type": "display_data"
    }
   ],
   "source": [
    "# aile değişkeni ve hayatta kalma arasındaki ilişkiye bakalım\n",
    "g = sns.catplot(x = \"aile\", y = \"Hayatta_Kalma\", data = df, kind = \"bar\")\n",
    "g.set_ylabels(\"Hayatta Kalma\")\n",
    "plt.show()"
   ]
  },
  {
   "cell_type": "code",
   "execution_count": 398,
   "id": "4fd5b09c-24d0-4d90-a38f-652425067f44",
   "metadata": {},
   "outputs": [
    {
     "data": {
      "text/html": [
       "<div>\n",
       "<style scoped>\n",
       "    .dataframe tbody tr th:only-of-type {\n",
       "        vertical-align: middle;\n",
       "    }\n",
       "\n",
       "    .dataframe tbody tr th {\n",
       "        vertical-align: top;\n",
       "    }\n",
       "\n",
       "    .dataframe thead th {\n",
       "        text-align: right;\n",
       "    }\n",
       "</style>\n",
       "<table border=\"1\" class=\"dataframe\">\n",
       "  <thead>\n",
       "    <tr style=\"text-align: right;\">\n",
       "      <th></th>\n",
       "      <th>ID</th>\n",
       "      <th>Hayatta_Kalma</th>\n",
       "      <th>Sinif</th>\n",
       "      <th>Cinsiyet</th>\n",
       "      <th>Yas</th>\n",
       "      <th>Kardes_Es</th>\n",
       "      <th>Ebeveyn_Cocuk</th>\n",
       "      <th>Bilet</th>\n",
       "      <th>Ucret</th>\n",
       "      <th>Kabin</th>\n",
       "      <th>Liman</th>\n",
       "      <th>Unvan_0</th>\n",
       "      <th>Unvan_1</th>\n",
       "      <th>Unvan_2</th>\n",
       "      <th>Unvan_3</th>\n",
       "      <th>aile_boyutu</th>\n",
       "      <th>aile_0</th>\n",
       "      <th>aile_1</th>\n",
       "    </tr>\n",
       "  </thead>\n",
       "  <tbody>\n",
       "    <tr>\n",
       "      <th>0</th>\n",
       "      <td>1</td>\n",
       "      <td>0</td>\n",
       "      <td>3</td>\n",
       "      <td>male</td>\n",
       "      <td>22.0</td>\n",
       "      <td>1</td>\n",
       "      <td>0</td>\n",
       "      <td>A/5 21171</td>\n",
       "      <td>7.2500</td>\n",
       "      <td>NaN</td>\n",
       "      <td>S</td>\n",
       "      <td>False</td>\n",
       "      <td>False</td>\n",
       "      <td>True</td>\n",
       "      <td>False</td>\n",
       "      <td>2</td>\n",
       "      <td>False</td>\n",
       "      <td>True</td>\n",
       "    </tr>\n",
       "    <tr>\n",
       "      <th>1</th>\n",
       "      <td>2</td>\n",
       "      <td>1</td>\n",
       "      <td>1</td>\n",
       "      <td>female</td>\n",
       "      <td>38.0</td>\n",
       "      <td>1</td>\n",
       "      <td>0</td>\n",
       "      <td>PC 17599</td>\n",
       "      <td>71.2833</td>\n",
       "      <td>C85</td>\n",
       "      <td>C</td>\n",
       "      <td>False</td>\n",
       "      <td>True</td>\n",
       "      <td>False</td>\n",
       "      <td>False</td>\n",
       "      <td>2</td>\n",
       "      <td>False</td>\n",
       "      <td>True</td>\n",
       "    </tr>\n",
       "    <tr>\n",
       "      <th>2</th>\n",
       "      <td>3</td>\n",
       "      <td>1</td>\n",
       "      <td>3</td>\n",
       "      <td>female</td>\n",
       "      <td>26.0</td>\n",
       "      <td>0</td>\n",
       "      <td>0</td>\n",
       "      <td>STON/O2. 3101282</td>\n",
       "      <td>7.9250</td>\n",
       "      <td>NaN</td>\n",
       "      <td>S</td>\n",
       "      <td>False</td>\n",
       "      <td>True</td>\n",
       "      <td>False</td>\n",
       "      <td>False</td>\n",
       "      <td>1</td>\n",
       "      <td>False</td>\n",
       "      <td>True</td>\n",
       "    </tr>\n",
       "  </tbody>\n",
       "</table>\n",
       "</div>"
      ],
      "text/plain": [
       "   ID  Hayatta_Kalma  Sinif Cinsiyet   Yas  Kardes_Es  Ebeveyn_Cocuk  \\\n",
       "0   1              0      3     male  22.0          1              0   \n",
       "1   2              1      1   female  38.0          1              0   \n",
       "2   3              1      3   female  26.0          0              0   \n",
       "\n",
       "              Bilet    Ucret Kabin Liman  Unvan_0  Unvan_1  Unvan_2  Unvan_3  \\\n",
       "0         A/5 21171   7.2500   NaN     S    False    False     True    False   \n",
       "1          PC 17599  71.2833   C85     C    False     True    False    False   \n",
       "2  STON/O2. 3101282   7.9250   NaN     S    False     True    False    False   \n",
       "\n",
       "   aile_boyutu  aile_0  aile_1  \n",
       "0            2   False    True  \n",
       "1            2   False    True  \n",
       "2            1   False    True  "
      ]
     },
     "execution_count": 398,
     "metadata": {},
     "output_type": "execute_result"
    }
   ],
   "source": [
    "# aile değişkenini de one-hot hale getirelim\n",
    "df = pd.get_dummies(df, columns = [\"aile\"])\n",
    "df.head(3)"
   ]
  },
  {
   "cell_type": "markdown",
   "id": "3667b903-30c6-4e3e-b1e5-23f8f22c67c4",
   "metadata": {},
   "source": [
    "### Liman"
   ]
  },
  {
   "cell_type": "code",
   "execution_count": 400,
   "id": "6cda4713-225a-4f50-8a32-d6ae6132f427",
   "metadata": {},
   "outputs": [
    {
     "data": {
      "text/plain": [
       "0    S\n",
       "1    C\n",
       "2    S\n",
       "Name: Liman, dtype: object"
      ]
     },
     "execution_count": 400,
     "metadata": {},
     "output_type": "execute_result"
    }
   ],
   "source": [
    "df[\"Liman\"].head(3)"
   ]
  },
  {
   "cell_type": "code",
   "execution_count": 401,
   "id": "1952a56d-a5ad-46fd-b8e7-e1615ce52b22",
   "metadata": {},
   "outputs": [
    {
     "data": {
      "image/png": "[encoded data removed]",
      "text/plain": [
       "<Figure size 640x480 with 1 Axes>"
      ]
     },
     "metadata": {},
     "output_type": "display_data"
    }
   ],
   "source": [
    "# limanları görselleştirelim\n",
    "sns.countplot(x = \"Liman\", data = df)\n",
    "plt.show()"
   ]
  },
  {
   "cell_type": "code",
   "execution_count": 402,
   "id": "332bcd67-0ef5-42da-aae1-84d0b6db0aaf",
   "metadata": {},
   "outputs": [
    {
     "data": {
      "text/html": [
       "<div>\n",
       "<style scoped>\n",
       "    .dataframe tbody tr th:only-of-type {\n",
       "        vertical-align: middle;\n",
       "    }\n",
       "\n",
       "    .dataframe tbody tr th {\n",
       "        vertical-align: top;\n",
       "    }\n",
       "\n",
       "    .dataframe thead th {\n",
       "        text-align: right;\n",
       "    }\n",
       "</style>\n",
       "<table border=\"1\" class=\"dataframe\">\n",
       "  <thead>\n",
       "    <tr style=\"text-align: right;\">\n",
       "      <th></th>\n",
       "      <th>ID</th>\n",
       "      <th>Hayatta_Kalma</th>\n",
       "      <th>Sinif</th>\n",
       "      <th>Cinsiyet</th>\n",
       "      <th>Yas</th>\n",
       "      <th>Kardes_Es</th>\n",
       "      <th>Ebeveyn_Cocuk</th>\n",
       "      <th>Bilet</th>\n",
       "      <th>Ucret</th>\n",
       "      <th>Kabin</th>\n",
       "      <th>Unvan_0</th>\n",
       "      <th>Unvan_1</th>\n",
       "      <th>Unvan_2</th>\n",
       "      <th>Unvan_3</th>\n",
       "      <th>aile_boyutu</th>\n",
       "      <th>aile_0</th>\n",
       "      <th>aile_1</th>\n",
       "      <th>Liman_C</th>\n",
       "      <th>Liman_Q</th>\n",
       "      <th>Liman_S</th>\n",
       "    </tr>\n",
       "  </thead>\n",
       "  <tbody>\n",
       "    <tr>\n",
       "      <th>0</th>\n",
       "      <td>1</td>\n",
       "      <td>0</td>\n",
       "      <td>3</td>\n",
       "      <td>male</td>\n",
       "      <td>22.0</td>\n",
       "      <td>1</td>\n",
       "      <td>0</td>\n",
       "      <td>A/5 21171</td>\n",
       "      <td>7.2500</td>\n",
       "      <td>NaN</td>\n",
       "      <td>False</td>\n",
       "      <td>False</td>\n",
       "      <td>True</td>\n",
       "      <td>False</td>\n",
       "      <td>2</td>\n",
       "      <td>False</td>\n",
       "      <td>True</td>\n",
       "      <td>False</td>\n",
       "      <td>False</td>\n",
       "      <td>True</td>\n",
       "    </tr>\n",
       "    <tr>\n",
       "      <th>1</th>\n",
       "      <td>2</td>\n",
       "      <td>1</td>\n",
       "      <td>1</td>\n",
       "      <td>female</td>\n",
       "      <td>38.0</td>\n",
       "      <td>1</td>\n",
       "      <td>0</td>\n",
       "      <td>PC 17599</td>\n",
       "      <td>71.2833</td>\n",
       "      <td>C85</td>\n",
       "      <td>False</td>\n",
       "      <td>True</td>\n",
       "      <td>False</td>\n",
       "      <td>False</td>\n",
       "      <td>2</td>\n",
       "      <td>False</td>\n",
       "      <td>True</td>\n",
       "      <td>True</td>\n",
       "      <td>False</td>\n",
       "      <td>False</td>\n",
       "    </tr>\n",
       "    <tr>\n",
       "      <th>2</th>\n",
       "      <td>3</td>\n",
       "      <td>1</td>\n",
       "      <td>3</td>\n",
       "      <td>female</td>\n",
       "      <td>26.0</td>\n",
       "      <td>0</td>\n",
       "      <td>0</td>\n",
       "      <td>STON/O2. 3101282</td>\n",
       "      <td>7.9250</td>\n",
       "      <td>NaN</td>\n",
       "      <td>False</td>\n",
       "      <td>True</td>\n",
       "      <td>False</td>\n",
       "      <td>False</td>\n",
       "      <td>1</td>\n",
       "      <td>False</td>\n",
       "      <td>True</td>\n",
       "      <td>False</td>\n",
       "      <td>False</td>\n",
       "      <td>True</td>\n",
       "    </tr>\n",
       "  </tbody>\n",
       "</table>\n",
       "</div>"
      ],
      "text/plain": [
       "   ID  Hayatta_Kalma  Sinif Cinsiyet   Yas  Kardes_Es  Ebeveyn_Cocuk  \\\n",
       "0   1              0      3     male  22.0          1              0   \n",
       "1   2              1      1   female  38.0          1              0   \n",
       "2   3              1      3   female  26.0          0              0   \n",
       "\n",
       "              Bilet    Ucret Kabin  Unvan_0  Unvan_1  Unvan_2  Unvan_3  \\\n",
       "0         A/5 21171   7.2500   NaN    False    False     True    False   \n",
       "1          PC 17599  71.2833   C85    False     True    False    False   \n",
       "2  STON/O2. 3101282   7.9250   NaN    False     True    False    False   \n",
       "\n",
       "   aile_boyutu  aile_0  aile_1  Liman_C  Liman_Q  Liman_S  \n",
       "0            2   False    True    False    False     True  \n",
       "1            2   False    True     True    False    False  \n",
       "2            1   False    True    False    False     True  "
      ]
     },
     "execution_count": 402,
     "metadata": {},
     "output_type": "execute_result"
    }
   ],
   "source": [
    "# liman değişkenini de one-hot gösterime dönüştürelim\n",
    "df = pd.get_dummies(df, columns = [\"Liman\"])\n",
    "df.head(3)"
   ]
  },
  {
   "cell_type": "markdown",
   "id": "bffa0b9a-6165-4d43-ad11-f2a77f7eac3b",
   "metadata": {},
   "source": [
    "### Bilet"
   ]
  },
  {
   "cell_type": "markdown",
   "id": "58a22ac1-753c-4caf-840e-d7e266d050ca",
   "metadata": {},
   "source": [
    "* Biletlerin başında yazan sayıları önemli örneğin bilet no: A/5 21171, burada A5 bizim için ayırt edici bir veri olacak.\n",
    "* Bu nedenle bilet değişkeni içerisindeki veriyi düzenleyeceğiz."
   ]
  },
  {
   "cell_type": "code",
   "execution_count": 405,
   "id": "16ff47f5-8eb0-45da-a408-d06368f55d75",
   "metadata": {},
   "outputs": [
    {
     "data": {
      "text/plain": [
       "0            A/5 21171\n",
       "1             PC 17599\n",
       "2     STON/O2. 3101282\n",
       "3               113803\n",
       "4               373450\n",
       "5               330877\n",
       "6                17463\n",
       "7               349909\n",
       "8               347742\n",
       "9               237736\n",
       "10             PP 9549\n",
       "11              113783\n",
       "12           A/5. 2151\n",
       "13              347082\n",
       "14              350406\n",
       "15              248706\n",
       "16              382652\n",
       "17              244373\n",
       "18              345763\n",
       "19                2649\n",
       "Name: Bilet, dtype: object"
      ]
     },
     "execution_count": 405,
     "metadata": {},
     "output_type": "execute_result"
    }
   ],
   "source": [
    "df[\"Bilet\"].head(20)"
   ]
  },
  {
   "cell_type": "code",
   "execution_count": 406,
   "id": "6fa29141-b756-4fbd-8501-41591b3b9f6d",
   "metadata": {},
   "outputs": [
    {
     "data": {
      "text/plain": [
       "'A5'"
      ]
     },
     "execution_count": 406,
     "metadata": {},
     "output_type": "execute_result"
    }
   ],
   "source": [
    "# A5 değerini nasıl elde ettiğimize ilişkin bir örnek\n",
    "a = \"A/5. 2151\"\n",
    "a.replace(\".\",\"\").replace(\"/\",\"\").strip().split(\" \")[0]"
   ]
  },
  {
   "cell_type": "code",
   "execution_count": 407,
   "id": "fab93167-5e5a-480a-a61c-e231b3b3f589",
   "metadata": {},
   "outputs": [],
   "source": [
    "# tüm bilet numaraları için yukarıdakine benzer komutu işletelim\n",
    "tickets = []\n",
    "for i in list(df[\"Bilet\"]):\n",
    "    if not i.isdigit():\n",
    "        tickets.append(i.replace(\".\",\"\").replace(\"/\",\"\").strip().split(\" \")[0])\n",
    "    else:\n",
    "        tickets.append(\"x\")\n",
    "\n",
    "df[\"Bilet\"] = tickets"
   ]
  },
  {
   "cell_type": "code",
   "execution_count": 408,
   "id": "cd76b4d2-4111-43ba-929b-244aba851c38",
   "metadata": {},
   "outputs": [
    {
     "data": {
      "text/plain": [
       "0         A5\n",
       "1         PC\n",
       "2     STONO2\n",
       "3          x\n",
       "4          x\n",
       "5          x\n",
       "6          x\n",
       "7          x\n",
       "8          x\n",
       "9          x\n",
       "10        PP\n",
       "11         x\n",
       "12        A5\n",
       "13         x\n",
       "14         x\n",
       "15         x\n",
       "16         x\n",
       "17         x\n",
       "18         x\n",
       "19         x\n",
       "Name: Bilet, dtype: object"
      ]
     },
     "execution_count": 408,
     "metadata": {},
     "output_type": "execute_result"
    }
   ],
   "source": [
    "# biletlerin önemli bölümlerini elde edelim\n",
    "df[\"Bilet\"].head(20)"
   ]
  },
  {
   "cell_type": "code",
   "execution_count": 409,
   "id": "8f12ac66-9d40-4dcc-a1d3-2c14dec32757",
   "metadata": {},
   "outputs": [
    {
     "data": {
      "text/html": [
       "<div>\n",
       "<style scoped>\n",
       "    .dataframe tbody tr th:only-of-type {\n",
       "        vertical-align: middle;\n",
       "    }\n",
       "\n",
       "    .dataframe tbody tr th {\n",
       "        vertical-align: top;\n",
       "    }\n",
       "\n",
       "    .dataframe thead th {\n",
       "        text-align: right;\n",
       "    }\n",
       "</style>\n",
       "<table border=\"1\" class=\"dataframe\">\n",
       "  <thead>\n",
       "    <tr style=\"text-align: right;\">\n",
       "      <th></th>\n",
       "      <th>ID</th>\n",
       "      <th>Hayatta_Kalma</th>\n",
       "      <th>Sinif</th>\n",
       "      <th>Cinsiyet</th>\n",
       "      <th>Yas</th>\n",
       "      <th>Kardes_Es</th>\n",
       "      <th>Ebeveyn_Cocuk</th>\n",
       "      <th>Bilet</th>\n",
       "      <th>Ucret</th>\n",
       "      <th>Kabin</th>\n",
       "      <th>Unvan_0</th>\n",
       "      <th>Unvan_1</th>\n",
       "      <th>Unvan_2</th>\n",
       "      <th>Unvan_3</th>\n",
       "      <th>aile_boyutu</th>\n",
       "      <th>aile_0</th>\n",
       "      <th>aile_1</th>\n",
       "      <th>Liman_C</th>\n",
       "      <th>Liman_Q</th>\n",
       "      <th>Liman_S</th>\n",
       "    </tr>\n",
       "  </thead>\n",
       "  <tbody>\n",
       "    <tr>\n",
       "      <th>0</th>\n",
       "      <td>1</td>\n",
       "      <td>0</td>\n",
       "      <td>3</td>\n",
       "      <td>male</td>\n",
       "      <td>22.0</td>\n",
       "      <td>1</td>\n",
       "      <td>0</td>\n",
       "      <td>A5</td>\n",
       "      <td>7.2500</td>\n",
       "      <td>NaN</td>\n",
       "      <td>False</td>\n",
       "      <td>False</td>\n",
       "      <td>True</td>\n",
       "      <td>False</td>\n",
       "      <td>2</td>\n",
       "      <td>False</td>\n",
       "      <td>True</td>\n",
       "      <td>False</td>\n",
       "      <td>False</td>\n",
       "      <td>True</td>\n",
       "    </tr>\n",
       "    <tr>\n",
       "      <th>1</th>\n",
       "      <td>2</td>\n",
       "      <td>1</td>\n",
       "      <td>1</td>\n",
       "      <td>female</td>\n",
       "      <td>38.0</td>\n",
       "      <td>1</td>\n",
       "      <td>0</td>\n",
       "      <td>PC</td>\n",
       "      <td>71.2833</td>\n",
       "      <td>C85</td>\n",
       "      <td>False</td>\n",
       "      <td>True</td>\n",
       "      <td>False</td>\n",
       "      <td>False</td>\n",
       "      <td>2</td>\n",
       "      <td>False</td>\n",
       "      <td>True</td>\n",
       "      <td>True</td>\n",
       "      <td>False</td>\n",
       "      <td>False</td>\n",
       "    </tr>\n",
       "    <tr>\n",
       "      <th>2</th>\n",
       "      <td>3</td>\n",
       "      <td>1</td>\n",
       "      <td>3</td>\n",
       "      <td>female</td>\n",
       "      <td>26.0</td>\n",
       "      <td>0</td>\n",
       "      <td>0</td>\n",
       "      <td>STONO2</td>\n",
       "      <td>7.9250</td>\n",
       "      <td>NaN</td>\n",
       "      <td>False</td>\n",
       "      <td>True</td>\n",
       "      <td>False</td>\n",
       "      <td>False</td>\n",
       "      <td>1</td>\n",
       "      <td>False</td>\n",
       "      <td>True</td>\n",
       "      <td>False</td>\n",
       "      <td>False</td>\n",
       "      <td>True</td>\n",
       "    </tr>\n",
       "  </tbody>\n",
       "</table>\n",
       "</div>"
      ],
      "text/plain": [
       "   ID  Hayatta_Kalma  Sinif Cinsiyet   Yas  Kardes_Es  Ebeveyn_Cocuk   Bilet  \\\n",
       "0   1              0      3     male  22.0          1              0      A5   \n",
       "1   2              1      1   female  38.0          1              0      PC   \n",
       "2   3              1      3   female  26.0          0              0  STONO2   \n",
       "\n",
       "     Ucret Kabin  Unvan_0  Unvan_1  Unvan_2  Unvan_3  aile_boyutu  aile_0  \\\n",
       "0   7.2500   NaN    False    False     True    False            2   False   \n",
       "1  71.2833   C85    False     True    False    False            2   False   \n",
       "2   7.9250   NaN    False     True    False    False            1   False   \n",
       "\n",
       "   aile_1  Liman_C  Liman_Q  Liman_S  \n",
       "0    True    False    False     True  \n",
       "1    True     True    False    False  \n",
       "2    True    False    False     True  "
      ]
     },
     "execution_count": 409,
     "metadata": {},
     "output_type": "execute_result"
    }
   ],
   "source": [
    "df.head(3)"
   ]
  },
  {
   "cell_type": "code",
   "execution_count": 410,
   "id": "d4eeecf5-a183-4e16-96e1-4e6537728874",
   "metadata": {},
   "outputs": [
    {
     "data": {
      "text/html": [
       "<div>\n",
       "<style scoped>\n",
       "    .dataframe tbody tr th:only-of-type {\n",
       "        vertical-align: middle;\n",
       "    }\n",
       "\n",
       "    .dataframe tbody tr th {\n",
       "        vertical-align: top;\n",
       "    }\n",
       "\n",
       "    .dataframe thead th {\n",
       "        text-align: right;\n",
       "    }\n",
       "</style>\n",
       "<table border=\"1\" class=\"dataframe\">\n",
       "  <thead>\n",
       "    <tr style=\"text-align: right;\">\n",
       "      <th></th>\n",
       "      <th>ID</th>\n",
       "      <th>Hayatta_Kalma</th>\n",
       "      <th>Sinif</th>\n",
       "      <th>Cinsiyet</th>\n",
       "      <th>Yas</th>\n",
       "      <th>Kardes_Es</th>\n",
       "      <th>Ebeveyn_Cocuk</th>\n",
       "      <th>Ucret</th>\n",
       "      <th>Kabin</th>\n",
       "      <th>Unvan_0</th>\n",
       "      <th>...</th>\n",
       "      <th>T_SOPP</th>\n",
       "      <th>T_SOTONO2</th>\n",
       "      <th>T_SOTONOQ</th>\n",
       "      <th>T_SP</th>\n",
       "      <th>T_STONO</th>\n",
       "      <th>T_STONO2</th>\n",
       "      <th>T_SWPP</th>\n",
       "      <th>T_WC</th>\n",
       "      <th>T_WEP</th>\n",
       "      <th>T_x</th>\n",
       "    </tr>\n",
       "  </thead>\n",
       "  <tbody>\n",
       "    <tr>\n",
       "      <th>0</th>\n",
       "      <td>1</td>\n",
       "      <td>0</td>\n",
       "      <td>3</td>\n",
       "      <td>male</td>\n",
       "      <td>22.0</td>\n",
       "      <td>1</td>\n",
       "      <td>0</td>\n",
       "      <td>7.2500</td>\n",
       "      <td>NaN</td>\n",
       "      <td>False</td>\n",
       "      <td>...</td>\n",
       "      <td>False</td>\n",
       "      <td>False</td>\n",
       "      <td>False</td>\n",
       "      <td>False</td>\n",
       "      <td>False</td>\n",
       "      <td>False</td>\n",
       "      <td>False</td>\n",
       "      <td>False</td>\n",
       "      <td>False</td>\n",
       "      <td>False</td>\n",
       "    </tr>\n",
       "    <tr>\n",
       "      <th>1</th>\n",
       "      <td>2</td>\n",
       "      <td>1</td>\n",
       "      <td>1</td>\n",
       "      <td>female</td>\n",
       "      <td>38.0</td>\n",
       "      <td>1</td>\n",
       "      <td>0</td>\n",
       "      <td>71.2833</td>\n",
       "      <td>C85</td>\n",
       "      <td>False</td>\n",
       "      <td>...</td>\n",
       "      <td>False</td>\n",
       "      <td>False</td>\n",
       "      <td>False</td>\n",
       "      <td>False</td>\n",
       "      <td>False</td>\n",
       "      <td>False</td>\n",
       "      <td>False</td>\n",
       "      <td>False</td>\n",
       "      <td>False</td>\n",
       "      <td>False</td>\n",
       "    </tr>\n",
       "    <tr>\n",
       "      <th>2</th>\n",
       "      <td>3</td>\n",
       "      <td>1</td>\n",
       "      <td>3</td>\n",
       "      <td>female</td>\n",
       "      <td>26.0</td>\n",
       "      <td>0</td>\n",
       "      <td>0</td>\n",
       "      <td>7.9250</td>\n",
       "      <td>NaN</td>\n",
       "      <td>False</td>\n",
       "      <td>...</td>\n",
       "      <td>False</td>\n",
       "      <td>False</td>\n",
       "      <td>False</td>\n",
       "      <td>False</td>\n",
       "      <td>False</td>\n",
       "      <td>True</td>\n",
       "      <td>False</td>\n",
       "      <td>False</td>\n",
       "      <td>False</td>\n",
       "      <td>False</td>\n",
       "    </tr>\n",
       "  </tbody>\n",
       "</table>\n",
       "<p>3 rows × 50 columns</p>\n",
       "</div>"
      ],
      "text/plain": [
       "   ID  Hayatta_Kalma  Sinif Cinsiyet   Yas  Kardes_Es  Ebeveyn_Cocuk    Ucret  \\\n",
       "0   1              0      3     male  22.0          1              0   7.2500   \n",
       "1   2              1      1   female  38.0          1              0  71.2833   \n",
       "2   3              1      3   female  26.0          0              0   7.9250   \n",
       "\n",
       "  Kabin  Unvan_0  ...  T_SOPP  T_SOTONO2  T_SOTONOQ   T_SP  T_STONO  T_STONO2  \\\n",
       "0   NaN    False  ...   False      False      False  False    False     False   \n",
       "1   C85    False  ...   False      False      False  False    False     False   \n",
       "2   NaN    False  ...   False      False      False  False    False      True   \n",
       "\n",
       "   T_SWPP   T_WC  T_WEP    T_x  \n",
       "0   False  False  False  False  \n",
       "1   False  False  False  False  \n",
       "2   False  False  False  False  \n",
       "\n",
       "[3 rows x 50 columns]"
      ]
     },
     "execution_count": 410,
     "metadata": {},
     "output_type": "execute_result"
    }
   ],
   "source": [
    "# bilet değişkenini de one-hot gösterime çevirelim\n",
    "df = pd.get_dummies(df, columns = [\"Bilet\"], prefix = \"T\")\n",
    "df.head(3)"
   ]
  },
  {
   "cell_type": "markdown",
   "id": "5c792125-5b95-4b99-ba33-25ac75771682",
   "metadata": {},
   "source": [
    "### Sınıf"
   ]
  },
  {
   "cell_type": "code",
   "execution_count": 412,
   "id": "2e90fe34-d770-4064-b1ea-b103b0d37f44",
   "metadata": {},
   "outputs": [
    {
     "data": {
      "image/png": "[encoded data removed]",
      "text/plain": [
       "<Figure size 640x480 with 1 Axes>"
      ]
     },
     "metadata": {},
     "output_type": "display_data"
    }
   ],
   "source": [
    "# sınıfları görselleştirelim\n",
    "sns.countplot(x = \"Sinif\", data = df)\n",
    "plt.show()"
   ]
  },
  {
   "cell_type": "code",
   "execution_count": 413,
   "id": "911f6052-1c36-404d-8736-d282102610ab",
   "metadata": {},
   "outputs": [
    {
     "data": {
      "text/html": [
       "<div>\n",
       "<style scoped>\n",
       "    .dataframe tbody tr th:only-of-type {\n",
       "        vertical-align: middle;\n",
       "    }\n",
       "\n",
       "    .dataframe tbody tr th {\n",
       "        vertical-align: top;\n",
       "    }\n",
       "\n",
       "    .dataframe thead th {\n",
       "        text-align: right;\n",
       "    }\n",
       "</style>\n",
       "<table border=\"1\" class=\"dataframe\">\n",
       "  <thead>\n",
       "    <tr style=\"text-align: right;\">\n",
       "      <th></th>\n",
       "      <th>ID</th>\n",
       "      <th>Hayatta_Kalma</th>\n",
       "      <th>Cinsiyet</th>\n",
       "      <th>Yas</th>\n",
       "      <th>Kardes_Es</th>\n",
       "      <th>Ebeveyn_Cocuk</th>\n",
       "      <th>Ucret</th>\n",
       "      <th>Kabin</th>\n",
       "      <th>Unvan_0</th>\n",
       "      <th>Unvan_1</th>\n",
       "      <th>...</th>\n",
       "      <th>T_SP</th>\n",
       "      <th>T_STONO</th>\n",
       "      <th>T_STONO2</th>\n",
       "      <th>T_SWPP</th>\n",
       "      <th>T_WC</th>\n",
       "      <th>T_WEP</th>\n",
       "      <th>T_x</th>\n",
       "      <th>Sinif_1</th>\n",
       "      <th>Sinif_2</th>\n",
       "      <th>Sinif_3</th>\n",
       "    </tr>\n",
       "  </thead>\n",
       "  <tbody>\n",
       "    <tr>\n",
       "      <th>0</th>\n",
       "      <td>1</td>\n",
       "      <td>0</td>\n",
       "      <td>male</td>\n",
       "      <td>22.0</td>\n",
       "      <td>1</td>\n",
       "      <td>0</td>\n",
       "      <td>7.2500</td>\n",
       "      <td>NaN</td>\n",
       "      <td>False</td>\n",
       "      <td>False</td>\n",
       "      <td>...</td>\n",
       "      <td>False</td>\n",
       "      <td>False</td>\n",
       "      <td>False</td>\n",
       "      <td>False</td>\n",
       "      <td>False</td>\n",
       "      <td>False</td>\n",
       "      <td>False</td>\n",
       "      <td>False</td>\n",
       "      <td>False</td>\n",
       "      <td>True</td>\n",
       "    </tr>\n",
       "    <tr>\n",
       "      <th>1</th>\n",
       "      <td>2</td>\n",
       "      <td>1</td>\n",
       "      <td>female</td>\n",
       "      <td>38.0</td>\n",
       "      <td>1</td>\n",
       "      <td>0</td>\n",
       "      <td>71.2833</td>\n",
       "      <td>C85</td>\n",
       "      <td>False</td>\n",
       "      <td>True</td>\n",
       "      <td>...</td>\n",
       "      <td>False</td>\n",
       "      <td>False</td>\n",
       "      <td>False</td>\n",
       "      <td>False</td>\n",
       "      <td>False</td>\n",
       "      <td>False</td>\n",
       "      <td>False</td>\n",
       "      <td>True</td>\n",
       "      <td>False</td>\n",
       "      <td>False</td>\n",
       "    </tr>\n",
       "    <tr>\n",
       "      <th>2</th>\n",
       "      <td>3</td>\n",
       "      <td>1</td>\n",
       "      <td>female</td>\n",
       "      <td>26.0</td>\n",
       "      <td>0</td>\n",
       "      <td>0</td>\n",
       "      <td>7.9250</td>\n",
       "      <td>NaN</td>\n",
       "      <td>False</td>\n",
       "      <td>True</td>\n",
       "      <td>...</td>\n",
       "      <td>False</td>\n",
       "      <td>False</td>\n",
       "      <td>True</td>\n",
       "      <td>False</td>\n",
       "      <td>False</td>\n",
       "      <td>False</td>\n",
       "      <td>False</td>\n",
       "      <td>False</td>\n",
       "      <td>False</td>\n",
       "      <td>True</td>\n",
       "    </tr>\n",
       "  </tbody>\n",
       "</table>\n",
       "<p>3 rows × 52 columns</p>\n",
       "</div>"
      ],
      "text/plain": [
       "   ID  Hayatta_Kalma Cinsiyet   Yas  Kardes_Es  Ebeveyn_Cocuk    Ucret Kabin  \\\n",
       "0   1              0     male  22.0          1              0   7.2500   NaN   \n",
       "1   2              1   female  38.0          1              0  71.2833   C85   \n",
       "2   3              1   female  26.0          0              0   7.9250   NaN   \n",
       "\n",
       "   Unvan_0  Unvan_1  ...   T_SP  T_STONO  T_STONO2  T_SWPP   T_WC  T_WEP  \\\n",
       "0    False    False  ...  False    False     False   False  False  False   \n",
       "1    False     True  ...  False    False     False   False  False  False   \n",
       "2    False     True  ...  False    False      True   False  False  False   \n",
       "\n",
       "     T_x  Sinif_1  Sinif_2  Sinif_3  \n",
       "0  False    False    False     True  \n",
       "1  False     True    False    False  \n",
       "2  False    False    False     True  \n",
       "\n",
       "[3 rows x 52 columns]"
      ]
     },
     "execution_count": 413,
     "metadata": {},
     "output_type": "execute_result"
    }
   ],
   "source": [
    "# sınıf değişkenini kategorik hale getirelim ve ardından one-hot gösterime geçirelim\n",
    "# çünkü get_dummies fonksiyonu sadece kategorik veride çalışır\n",
    "df[\"Sinif\"] = df[\"Sinif\"].astype(\"category\")\n",
    "df = pd.get_dummies(df, columns = [\"Sinif\"])\n",
    "df.head(3)"
   ]
  },
  {
   "cell_type": "markdown",
   "id": "659dca79-4bca-4694-b332-240295adf0cc",
   "metadata": {},
   "source": [
    "### Cinsiyet"
   ]
  },
  {
   "cell_type": "code",
   "execution_count": 415,
   "id": "44a1df43-f80b-4a0c-9965-7615ea63aa4c",
   "metadata": {},
   "outputs": [
    {
     "data": {
      "text/html": [
       "<div>\n",
       "<style scoped>\n",
       "    .dataframe tbody tr th:only-of-type {\n",
       "        vertical-align: middle;\n",
       "    }\n",
       "\n",
       "    .dataframe tbody tr th {\n",
       "        vertical-align: top;\n",
       "    }\n",
       "\n",
       "    .dataframe thead th {\n",
       "        text-align: right;\n",
       "    }\n",
       "</style>\n",
       "<table border=\"1\" class=\"dataframe\">\n",
       "  <thead>\n",
       "    <tr style=\"text-align: right;\">\n",
       "      <th></th>\n",
       "      <th>ID</th>\n",
       "      <th>Hayatta_Kalma</th>\n",
       "      <th>Yas</th>\n",
       "      <th>Kardes_Es</th>\n",
       "      <th>Ebeveyn_Cocuk</th>\n",
       "      <th>Ucret</th>\n",
       "      <th>Kabin</th>\n",
       "      <th>Unvan_0</th>\n",
       "      <th>Unvan_1</th>\n",
       "      <th>Unvan_2</th>\n",
       "      <th>...</th>\n",
       "      <th>T_STONO2</th>\n",
       "      <th>T_SWPP</th>\n",
       "      <th>T_WC</th>\n",
       "      <th>T_WEP</th>\n",
       "      <th>T_x</th>\n",
       "      <th>Sinif_1</th>\n",
       "      <th>Sinif_2</th>\n",
       "      <th>Sinif_3</th>\n",
       "      <th>Cinsiyet_female</th>\n",
       "      <th>Cinsiyet_male</th>\n",
       "    </tr>\n",
       "  </thead>\n",
       "  <tbody>\n",
       "    <tr>\n",
       "      <th>0</th>\n",
       "      <td>1</td>\n",
       "      <td>0</td>\n",
       "      <td>22.0</td>\n",
       "      <td>1</td>\n",
       "      <td>0</td>\n",
       "      <td>7.2500</td>\n",
       "      <td>NaN</td>\n",
       "      <td>False</td>\n",
       "      <td>False</td>\n",
       "      <td>True</td>\n",
       "      <td>...</td>\n",
       "      <td>False</td>\n",
       "      <td>False</td>\n",
       "      <td>False</td>\n",
       "      <td>False</td>\n",
       "      <td>False</td>\n",
       "      <td>False</td>\n",
       "      <td>False</td>\n",
       "      <td>True</td>\n",
       "      <td>False</td>\n",
       "      <td>True</td>\n",
       "    </tr>\n",
       "    <tr>\n",
       "      <th>1</th>\n",
       "      <td>2</td>\n",
       "      <td>1</td>\n",
       "      <td>38.0</td>\n",
       "      <td>1</td>\n",
       "      <td>0</td>\n",
       "      <td>71.2833</td>\n",
       "      <td>C85</td>\n",
       "      <td>False</td>\n",
       "      <td>True</td>\n",
       "      <td>False</td>\n",
       "      <td>...</td>\n",
       "      <td>False</td>\n",
       "      <td>False</td>\n",
       "      <td>False</td>\n",
       "      <td>False</td>\n",
       "      <td>False</td>\n",
       "      <td>True</td>\n",
       "      <td>False</td>\n",
       "      <td>False</td>\n",
       "      <td>True</td>\n",
       "      <td>False</td>\n",
       "    </tr>\n",
       "    <tr>\n",
       "      <th>2</th>\n",
       "      <td>3</td>\n",
       "      <td>1</td>\n",
       "      <td>26.0</td>\n",
       "      <td>0</td>\n",
       "      <td>0</td>\n",
       "      <td>7.9250</td>\n",
       "      <td>NaN</td>\n",
       "      <td>False</td>\n",
       "      <td>True</td>\n",
       "      <td>False</td>\n",
       "      <td>...</td>\n",
       "      <td>True</td>\n",
       "      <td>False</td>\n",
       "      <td>False</td>\n",
       "      <td>False</td>\n",
       "      <td>False</td>\n",
       "      <td>False</td>\n",
       "      <td>False</td>\n",
       "      <td>True</td>\n",
       "      <td>True</td>\n",
       "      <td>False</td>\n",
       "    </tr>\n",
       "    <tr>\n",
       "      <th>3</th>\n",
       "      <td>4</td>\n",
       "      <td>1</td>\n",
       "      <td>35.0</td>\n",
       "      <td>1</td>\n",
       "      <td>0</td>\n",
       "      <td>53.1000</td>\n",
       "      <td>C123</td>\n",
       "      <td>False</td>\n",
       "      <td>True</td>\n",
       "      <td>False</td>\n",
       "      <td>...</td>\n",
       "      <td>False</td>\n",
       "      <td>False</td>\n",
       "      <td>False</td>\n",
       "      <td>False</td>\n",
       "      <td>True</td>\n",
       "      <td>True</td>\n",
       "      <td>False</td>\n",
       "      <td>False</td>\n",
       "      <td>True</td>\n",
       "      <td>False</td>\n",
       "    </tr>\n",
       "    <tr>\n",
       "      <th>4</th>\n",
       "      <td>5</td>\n",
       "      <td>0</td>\n",
       "      <td>35.0</td>\n",
       "      <td>0</td>\n",
       "      <td>0</td>\n",
       "      <td>8.0500</td>\n",
       "      <td>NaN</td>\n",
       "      <td>False</td>\n",
       "      <td>False</td>\n",
       "      <td>True</td>\n",
       "      <td>...</td>\n",
       "      <td>False</td>\n",
       "      <td>False</td>\n",
       "      <td>False</td>\n",
       "      <td>False</td>\n",
       "      <td>True</td>\n",
       "      <td>False</td>\n",
       "      <td>False</td>\n",
       "      <td>True</td>\n",
       "      <td>False</td>\n",
       "      <td>True</td>\n",
       "    </tr>\n",
       "  </tbody>\n",
       "</table>\n",
       "<p>5 rows × 53 columns</p>\n",
       "</div>"
      ],
      "text/plain": [
       "   ID  Hayatta_Kalma   Yas  Kardes_Es  Ebeveyn_Cocuk    Ucret Kabin  Unvan_0  \\\n",
       "0   1              0  22.0          1              0   7.2500   NaN    False   \n",
       "1   2              1  38.0          1              0  71.2833   C85    False   \n",
       "2   3              1  26.0          0              0   7.9250   NaN    False   \n",
       "3   4              1  35.0          1              0  53.1000  C123    False   \n",
       "4   5              0  35.0          0              0   8.0500   NaN    False   \n",
       "\n",
       "   Unvan_1  Unvan_2  ...  T_STONO2  T_SWPP   T_WC  T_WEP    T_x  Sinif_1  \\\n",
       "0    False     True  ...     False   False  False  False  False    False   \n",
       "1     True    False  ...     False   False  False  False  False     True   \n",
       "2     True    False  ...      True   False  False  False  False    False   \n",
       "3     True    False  ...     False   False  False  False   True     True   \n",
       "4    False     True  ...     False   False  False  False   True    False   \n",
       "\n",
       "   Sinif_2  Sinif_3  Cinsiyet_female  Cinsiyet_male  \n",
       "0    False     True            False           True  \n",
       "1    False    False             True          False  \n",
       "2    False     True             True          False  \n",
       "3    False    False             True          False  \n",
       "4    False     True            False           True  \n",
       "\n",
       "[5 rows x 53 columns]"
      ]
     },
     "execution_count": 415,
     "metadata": {},
     "output_type": "execute_result"
    }
   ],
   "source": [
    "# cinsiyeti de one-hot gösterime çevirelim\n",
    "df[\"Cinsiyet\"] = df[\"Cinsiyet\"].astype(\"category\")\n",
    "df = pd.get_dummies(df, columns=[\"Cinsiyet\"])\n",
    "df.head()"
   ]
  },
  {
   "cell_type": "markdown",
   "id": "7f96fcee-3595-4d1c-affb-a3d09f724537",
   "metadata": {},
   "source": [
    "### Yolcu Numarası ve Kabin Değişkenlerinin Çıkarılması"
   ]
  },
  {
   "cell_type": "code",
   "execution_count": 417,
   "id": "2cac27cb-c1ff-46fa-a691-3bf389b741c2",
   "metadata": {},
   "outputs": [],
   "source": [
    "# yolcu numarası ve kabin değişkenlerinin sınıflandırma açısından\n",
    "# bir önemi olmadığını düşündüğümüzden, bunları çıkaralım\n",
    "df.drop(labels = [\"ID\", \"Kabin\"], axis = 1, inplace = True)"
   ]
  },
  {
   "cell_type": "code",
   "execution_count": 418,
   "id": "adbce4a3-b1d9-44bb-8e9f-f2ed22254af9",
   "metadata": {},
   "outputs": [
    {
     "data": {
      "text/plain": [
       "Index(['Hayatta_Kalma', 'Yas', 'Kardes_Es', 'Ebeveyn_Cocuk', 'Ucret',\n",
       "       'Unvan_0', 'Unvan_1', 'Unvan_2', 'Unvan_3', 'aile_boyutu', 'aile_0',\n",
       "       'aile_1', 'Liman_C', 'Liman_Q', 'Liman_S', 'T_A4', 'T_A5', 'T_AS',\n",
       "       'T_C', 'T_CA', 'T_CASOTON', 'T_FC', 'T_FCC', 'T_Fa', 'T_LINE', 'T_PC',\n",
       "       'T_PP', 'T_PPP', 'T_SC', 'T_SCA4', 'T_SCAH', 'T_SCOW', 'T_SCPARIS',\n",
       "       'T_SCParis', 'T_SOC', 'T_SOP', 'T_SOPP', 'T_SOTONO2', 'T_SOTONOQ',\n",
       "       'T_SP', 'T_STONO', 'T_STONO2', 'T_SWPP', 'T_WC', 'T_WEP', 'T_x',\n",
       "       'Sinif_1', 'Sinif_2', 'Sinif_3', 'Cinsiyet_female', 'Cinsiyet_male'],\n",
       "      dtype='object')"
      ]
     },
     "execution_count": 418,
     "metadata": {},
     "output_type": "execute_result"
    }
   ],
   "source": [
    "# sonuç olarak, modelleme öncesi one-hot gösterime aldığımız\n",
    "# hem de sınıflandırmada kullanacak olduğumuz değişkenleri görelim\n",
    "df.columns"
   ]
  },
  {
   "cell_type": "markdown",
   "id": "780480d4-f4e4-421b-beb7-302c083fab3a",
   "metadata": {},
   "source": [
    "### Modelleme"
   ]
  },
  {
   "cell_type": "markdown",
   "id": "62641b4d-cd07-4eca-865f-d086b9c6750d",
   "metadata": {},
   "source": [
    "* Bu bölümde verinin eğitim-test olarak bölünmesi, lojistik regresyon ile eğitilmesi, hiperparametre ayarlaması, ızgara arama, çapraz doğrulama ve topluluk modellemesi işlemlerini gerçekleştireceğiz."
   ]
  },
  {
   "cell_type": "markdown",
   "id": "d17f4259-b37a-4013-a50a-90ef927f38a3",
   "metadata": {},
   "source": [
    "### Eğitim - Test Bölünmesi"
   ]
  },
  {
   "cell_type": "markdown",
   "id": "e13eb23f-827f-4bdd-a0e7-d7d68f807675",
   "metadata": {},
   "source": [
    "* Eğitim %67, test %33 olacak şekilde bölünme işlemini gerçekleştireceğiz."
   ]
  },
  {
   "cell_type": "code",
   "execution_count": 492,
   "id": "272db5b6-46d7-4593-8c8f-4311cbd5df5f",
   "metadata": {},
   "outputs": [
    {
     "name": "stdout",
     "output_type": "stream",
     "text": [
      "X eğitim:  596\n",
      "X test:  295\n",
      "Y eğitim:  596\n",
      "Y test:  295\n"
     ]
    }
   ],
   "source": [
    "X_egitim = df.drop(labels = \"Hayatta_Kalma\", axis = 1)\n",
    "y_egitim = df[\"Hayatta_Kalma\"]\n",
    "X_egitim, X_test, y_egitim, y_test = train_test_split(X_egitim, y_egitim, test_size = 0.33, random_state = 42)\n",
    "print(\"X eğitim: \", len(X_egitim))\n",
    "print(\"X test: \", len(X_test))\n",
    "print(\"Y eğitim: \", len(y_egitim))\n",
    "print(\"Y test: \", len(y_test))"
   ]
  },
  {
   "cell_type": "markdown",
   "id": "f5f04922-ef0d-46cf-81ba-71939576c2d2",
   "metadata": {},
   "source": [
    "### Temel Lojistik Regresyon"
   ]
  },
  {
   "cell_type": "code",
   "execution_count": 499,
   "id": "54c0e72c-ebc6-4b37-a7bc-7f6cf4ce6621",
   "metadata": {},
   "outputs": [
    {
     "name": "stdout",
     "output_type": "stream",
     "text": [
      "Eğitim Doğruluğu: % 82.89\n",
      "Test Doğruluğu: % 83.73\n"
     ]
    }
   ],
   "source": [
    "logreg = LogisticRegression()\n",
    "logreg.fit(X_egitim, y_egitim)\n",
    "basarim_log_egitim = round(logreg.score(X_egitim, y_egitim)*100, 2)\n",
    "basarim_log_test = round(logreg.score(X_test, y_test)*100,2)\n",
    "print(\"Eğitim Doğruluğu: % {}\".format(basarim_log_egitim))\n",
    "print(\"Test Doğruluğu: % {}\".format(basarim_log_test))"
   ]
  },
  {
   "cell_type": "markdown",
   "id": "d0633b1b-ee80-4a6b-b349-45a2f9d4cece",
   "metadata": {},
   "source": [
    "### Hiperparametre Ayarı - Izgara Arama - Çapraz Doğrulama"
   ]
  },
  {
   "cell_type": "markdown",
   "id": "3b8e2ea0-8692-4cb3-b282-bce45f3d030b",
   "metadata": {},
   "source": [
    "* Bu bölümde 5 farklı makine öğrenmesi sınıflandırıcısını karşılaştıracağız ve katmanlı çapraz doğrulama ile her birinin ortalama doğruluğunu değerlendireceğiz.\n",
    "\n",
    "1. Karar Ağacı\n",
    "2. Destek Vektör Makinesi\n",
    "3. Rastgele Orman\n",
    "4. K-En Yakın Komşu\n",
    "5. Lojistik Regresyon"
   ]
  },
  {
   "cell_type": "code",
   "execution_count": 505,
   "id": "6b64b129-8575-4821-9e19-e7e747db67b3",
   "metadata": {},
   "outputs": [],
   "source": [
    "random_state = 42\n",
    "# tüm sınıflandırıcıları bir listede toplayalım\n",
    "siniflandiricilar = [DecisionTreeClassifier(random_state = random_state),\n",
    "                     SVC(random_state = random_state),\n",
    "                     RandomForestClassifier(random_state = random_state),\n",
    "                     LogisticRegression(random_state = random_state),\n",
    "                     KNeighborsClassifier()]\n",
    "\n",
    "# Karar Ağacı Algoritması Hiperparametreleri\n",
    "dt_param_grid = {\"min_samples_split\" : range(10,500,20),\n",
    "                 \"max_depth\" : range(1,20,2)}\n",
    "\n",
    "# Destek Vektör Makinesi Algoritması Hiperparametreleri\n",
    "svc_param_grid = {\"kernel\" : [\"rbf\"],\n",
    "                  \"gamma\" : [0.001, 0.01, 0.1, 1],\n",
    "                  \"C\": [1,10,50,100,200,300,1000]}\n",
    "\n",
    "# Rastgele Orman Algoritması Hiperparametreleri\n",
    "rf_param_grid = {\"max_features\" : [1,3,10],\n",
    "                 \"min_samples_split\" : [2,3,10],\n",
    "                 \"min_samples_leaf\" : [1,3,10],\n",
    "                 \"bootstrap\" : [False],\n",
    "                 \"n_estimators\" : [100, 300],\n",
    "                 \"criterion\" : [\"gini\"]}\n",
    "\n",
    "# Lojistik Regresyon Algoritması Hiperparametreleri\n",
    "logreg_param_grid = {\"C\" : np.logspace(-3,3,7),\n",
    "                     \"penalty\" : [\"l1\", \"l2\"]}\n",
    "\n",
    "# K-En Yakın Komşu Algoritması Hiperparametreleri\n",
    "knn_param_grid = {\"n_neighbors\": np.linspace(1,19,10, dtype=int).tolist(),\n",
    "                  \"weights\" : [\"uniform\", \"distance\"],\n",
    "                  \"metric\" : [\"euclidean\", \"manhattan\"]}\n",
    "\n",
    "siniflandirici_parametreleri = [dt_param_grid,\n",
    "                               svc_param_grid,\n",
    "                               rf_param_grid,\n",
    "                               logreg_param_grid,\n",
    "                               knn_param_grid]"
   ]
  },
  {
   "cell_type": "code",
   "execution_count": 507,
   "id": "5e245217-764a-48e0-bdc1-a27dde59ca41",
   "metadata": {},
   "outputs": [
    {
     "name": "stdout",
     "output_type": "stream",
     "text": [
      "Fitting 10 folds for each of 250 candidates, totalling 2500 fits\n",
      "Sınıflandırıcı: Karar Ağacı, doğruluk: 0.818728813559322\n",
      "Fitting 10 folds for each of 28 candidates, totalling 280 fits\n",
      "Sınıflandırıcı: Destek Vektör Makinesi, doğruluk: 0.8054237288135593\n",
      "Fitting 10 folds for each of 54 candidates, totalling 540 fits\n",
      "Sınıflandırıcı: Rastgele Orman, doğruluk: 0.8355932203389831\n",
      "Fitting 10 folds for each of 14 candidates, totalling 140 fits\n",
      "Sınıflandırıcı: Lojistik Regresyon, doğruluk: 0.8255084745762712\n",
      "Fitting 10 folds for each of 40 candidates, totalling 400 fits\n",
      "Sınıflandırıcı: K-En Yakın Komşu, doğruluk: 0.7937288135593221\n"
     ]
    }
   ],
   "source": [
    "cv_sonuc = []\n",
    "en_iyi_model = []\n",
    "siniflandirici_isim = [\"Karar Ağacı\", \"Destek Vektör Makinesi\", \"Rastgele Orman\", \"Lojistik Regresyon\", \"K-En Yakın Komşu\"]\n",
    "for i in range(len(siniflandiricilar)):\n",
    "    clf = GridSearchCV(siniflandiricilar[i], param_grid = siniflandirici_parametreleri[i], cv = StratifiedKFold(n_splits = 10), scoring = \"accuracy\", n_jobs = -1, verbose = 1)\n",
    "    clf.fit(X_egitim, y_egitim)\n",
    "    cv_sonuc.append(clf.best_score_)\n",
    "    en_iyi_model.append(clf.best_estimator_)\n",
    "    print(\"Sınıflandırıcı: {}, doğruluk: {}\".format(siniflandirici_isim[i], cv_sonuc[i]))"
   ]
  },
  {
   "cell_type": "code",
   "execution_count": 511,
   "id": "1c110d1d-52e3-47b7-adab-473832c5329c",
   "metadata": {},
   "outputs": [
    {
     "data": {
      "image/png": "[encoded data removed]",
      "text/plain": [
       "<Figure size 640x480 with 1 Axes>"
      ]
     },
     "metadata": {},
     "output_type": "display_data"
    }
   ],
   "source": [
    "cv_sonuclar = pd.DataFrame({\"CaprazDogrulamaOrtalamasi\": cv_sonuc, \"Modeller\": siniflandirici_isim})\n",
    "\n",
    "g = sns.barplot(x=\"CaprazDogrulamaOrtalamasi\", y=\"Modeller\", data=cv_sonuclar)\n",
    "g.set_xlabel(\"Ortalama Başarım\")\n",
    "g.set_title(\"Çapraz Doğrulama\")\n",
    "plt.show()"
   ]
  },
  {
   "cell_type": "markdown",
   "id": "da88ae64-4bd3-4844-b785-e63366801c01",
   "metadata": {},
   "source": [
    "### Topluluk Modelleme"
   ]
  },
  {
   "cell_type": "markdown",
   "id": "86a11365-6bf2-4808-aa70-74b14e674edf",
   "metadata": {},
   "source": [
    "* Sınıflandırıcıların verdikleri kararlar çoğunluk oylaması şeklinde değerlendirilir."
   ]
  },
  {
   "cell_type": "code",
   "execution_count": 517,
   "id": "fdebc225-a280-409a-a8d2-0aa901a24281",
   "metadata": {},
   "outputs": [
    {
     "name": "stdout",
     "output_type": "stream",
     "text": [
      "Oylama Sonucu Doğruluk:  0.8169491525423729\n"
     ]
    }
   ],
   "source": [
    "oylama = VotingClassifier(estimators=[(\"dt\", siniflandiricilar[0]),\n",
    "                                       (\"rfc\", siniflandiricilar[2]),\n",
    "                                       (\"lr\", siniflandiricilar[3])],\n",
    "                           voting=\"hard\", n_jobs=-1)\n",
    "oylama = oylama.fit(X_egitim, y_egitim)\n",
    "print(\"Oylama Sonucu Doğruluk: \", accuracy_score(oylama.predict(X_test),y_test))"
   ]
  },
  {
   "cell_type": "code",
   "execution_count": null,
   "id": "d87c08fa-e7dc-417d-a0f0-6d767ba2646b",
   "metadata": {},
   "outputs": [],
   "source": []
  },
  {
   "cell_type": "code",
   "execution_count": null,
   "id": "aa73d737-373e-4e55-91b9-a5e96a0c6d03",
   "metadata": {},
   "outputs": [],
   "source": []
  }
 ],
 "metadata": {
  "kernelspec": {
   "display_name": "Python [conda env:base] *",
   "language": "python",
   "name": "conda-base-py"
  },
  "language_info": {
   "codemirror_mode": {
    "name": "ipython",
    "version": 3
   },
   "file_extension": ".py",
   "mimetype": "text/x-python",
   "name": "python",
   "nbconvert_exporter": "python",
   "pygments_lexer": "ipython3",
   "version": "3.12.7"
  }
 },
 "nbformat": 4,
 "nbformat_minor": 5
}
